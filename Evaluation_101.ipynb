{
  "nbformat": 4,
  "nbformat_minor": 0,
  "metadata": {
    "colab": {
      "provenance": [],
      "authorship_tag": "ABX9TyMT84ZzyuND1U1TUNwidVvg",
      "include_colab_link": true
    },
    "kernelspec": {
      "name": "python3",
      "display_name": "Python 3"
    },
    "language_info": {
      "name": "python"
    },
    "widgets": {
      "application/vnd.jupyter.widget-state+json": {
        "5ca39992cac64b84b2aa312188454c84": {
          "model_module": "@jupyter-widgets/controls",
          "model_name": "HBoxModel",
          "model_module_version": "1.5.0",
          "state": {
            "_dom_classes": [],
            "_model_module": "@jupyter-widgets/controls",
            "_model_module_version": "1.5.0",
            "_model_name": "HBoxModel",
            "_view_count": null,
            "_view_module": "@jupyter-widgets/controls",
            "_view_module_version": "1.5.0",
            "_view_name": "HBoxView",
            "box_style": "",
            "children": [
              "IPY_MODEL_262722502c9c451699bbfa51c7b1e514",
              "IPY_MODEL_84ca9569347549fea9aa740d5b21711f",
              "IPY_MODEL_6d7c9fdc4fb84a1c902b7eb55e5a0805"
            ],
            "layout": "IPY_MODEL_be237ceea2844e399b552475ad2324e2"
          }
        },
        "262722502c9c451699bbfa51c7b1e514": {
          "model_module": "@jupyter-widgets/controls",
          "model_name": "HTMLModel",
          "model_module_version": "1.5.0",
          "state": {
            "_dom_classes": [],
            "_model_module": "@jupyter-widgets/controls",
            "_model_module_version": "1.5.0",
            "_model_name": "HTMLModel",
            "_view_count": null,
            "_view_module": "@jupyter-widgets/controls",
            "_view_module_version": "1.5.0",
            "_view_name": "HTMLView",
            "description": "",
            "description_tooltip": null,
            "layout": "IPY_MODEL_c29edee7bdca40338ffee8a38eb7be6d",
            "placeholder": "​",
            "style": "IPY_MODEL_4f7b581785a24d86af01772db0b1064d",
            "value": "Downloading builder script: 100%"
          }
        },
        "84ca9569347549fea9aa740d5b21711f": {
          "model_module": "@jupyter-widgets/controls",
          "model_name": "FloatProgressModel",
          "model_module_version": "1.5.0",
          "state": {
            "_dom_classes": [],
            "_model_module": "@jupyter-widgets/controls",
            "_model_module_version": "1.5.0",
            "_model_name": "FloatProgressModel",
            "_view_count": null,
            "_view_module": "@jupyter-widgets/controls",
            "_view_module_version": "1.5.0",
            "_view_name": "ProgressView",
            "bar_style": "success",
            "description": "",
            "description_tooltip": null,
            "layout": "IPY_MODEL_efc838d747f0456abbcf3118cf56a502",
            "max": 5669,
            "min": 0,
            "orientation": "horizontal",
            "style": "IPY_MODEL_c9828f5de5504fa0b63dcfe9586bffe6",
            "value": 5669
          }
        },
        "6d7c9fdc4fb84a1c902b7eb55e5a0805": {
          "model_module": "@jupyter-widgets/controls",
          "model_name": "HTMLModel",
          "model_module_version": "1.5.0",
          "state": {
            "_dom_classes": [],
            "_model_module": "@jupyter-widgets/controls",
            "_model_module_version": "1.5.0",
            "_model_name": "HTMLModel",
            "_view_count": null,
            "_view_module": "@jupyter-widgets/controls",
            "_view_module_version": "1.5.0",
            "_view_name": "HTMLView",
            "description": "",
            "description_tooltip": null,
            "layout": "IPY_MODEL_371bbac54b364663a20435267975a833",
            "placeholder": "​",
            "style": "IPY_MODEL_94126b101a1d4ce89db6ac23995ce8de",
            "value": " 5.67k/5.67k [00:00&lt;00:00, 232kB/s]"
          }
        },
        "be237ceea2844e399b552475ad2324e2": {
          "model_module": "@jupyter-widgets/base",
          "model_name": "LayoutModel",
          "model_module_version": "1.2.0",
          "state": {
            "_model_module": "@jupyter-widgets/base",
            "_model_module_version": "1.2.0",
            "_model_name": "LayoutModel",
            "_view_count": null,
            "_view_module": "@jupyter-widgets/base",
            "_view_module_version": "1.2.0",
            "_view_name": "LayoutView",
            "align_content": null,
            "align_items": null,
            "align_self": null,
            "border": null,
            "bottom": null,
            "display": null,
            "flex": null,
            "flex_flow": null,
            "grid_area": null,
            "grid_auto_columns": null,
            "grid_auto_flow": null,
            "grid_auto_rows": null,
            "grid_column": null,
            "grid_gap": null,
            "grid_row": null,
            "grid_template_areas": null,
            "grid_template_columns": null,
            "grid_template_rows": null,
            "height": null,
            "justify_content": null,
            "justify_items": null,
            "left": null,
            "margin": null,
            "max_height": null,
            "max_width": null,
            "min_height": null,
            "min_width": null,
            "object_fit": null,
            "object_position": null,
            "order": null,
            "overflow": null,
            "overflow_x": null,
            "overflow_y": null,
            "padding": null,
            "right": null,
            "top": null,
            "visibility": null,
            "width": null
          }
        },
        "c29edee7bdca40338ffee8a38eb7be6d": {
          "model_module": "@jupyter-widgets/base",
          "model_name": "LayoutModel",
          "model_module_version": "1.2.0",
          "state": {
            "_model_module": "@jupyter-widgets/base",
            "_model_module_version": "1.2.0",
            "_model_name": "LayoutModel",
            "_view_count": null,
            "_view_module": "@jupyter-widgets/base",
            "_view_module_version": "1.2.0",
            "_view_name": "LayoutView",
            "align_content": null,
            "align_items": null,
            "align_self": null,
            "border": null,
            "bottom": null,
            "display": null,
            "flex": null,
            "flex_flow": null,
            "grid_area": null,
            "grid_auto_columns": null,
            "grid_auto_flow": null,
            "grid_auto_rows": null,
            "grid_column": null,
            "grid_gap": null,
            "grid_row": null,
            "grid_template_areas": null,
            "grid_template_columns": null,
            "grid_template_rows": null,
            "height": null,
            "justify_content": null,
            "justify_items": null,
            "left": null,
            "margin": null,
            "max_height": null,
            "max_width": null,
            "min_height": null,
            "min_width": null,
            "object_fit": null,
            "object_position": null,
            "order": null,
            "overflow": null,
            "overflow_x": null,
            "overflow_y": null,
            "padding": null,
            "right": null,
            "top": null,
            "visibility": null,
            "width": null
          }
        },
        "4f7b581785a24d86af01772db0b1064d": {
          "model_module": "@jupyter-widgets/controls",
          "model_name": "DescriptionStyleModel",
          "model_module_version": "1.5.0",
          "state": {
            "_model_module": "@jupyter-widgets/controls",
            "_model_module_version": "1.5.0",
            "_model_name": "DescriptionStyleModel",
            "_view_count": null,
            "_view_module": "@jupyter-widgets/base",
            "_view_module_version": "1.2.0",
            "_view_name": "StyleView",
            "description_width": ""
          }
        },
        "efc838d747f0456abbcf3118cf56a502": {
          "model_module": "@jupyter-widgets/base",
          "model_name": "LayoutModel",
          "model_module_version": "1.2.0",
          "state": {
            "_model_module": "@jupyter-widgets/base",
            "_model_module_version": "1.2.0",
            "_model_name": "LayoutModel",
            "_view_count": null,
            "_view_module": "@jupyter-widgets/base",
            "_view_module_version": "1.2.0",
            "_view_name": "LayoutView",
            "align_content": null,
            "align_items": null,
            "align_self": null,
            "border": null,
            "bottom": null,
            "display": null,
            "flex": null,
            "flex_flow": null,
            "grid_area": null,
            "grid_auto_columns": null,
            "grid_auto_flow": null,
            "grid_auto_rows": null,
            "grid_column": null,
            "grid_gap": null,
            "grid_row": null,
            "grid_template_areas": null,
            "grid_template_columns": null,
            "grid_template_rows": null,
            "height": null,
            "justify_content": null,
            "justify_items": null,
            "left": null,
            "margin": null,
            "max_height": null,
            "max_width": null,
            "min_height": null,
            "min_width": null,
            "object_fit": null,
            "object_position": null,
            "order": null,
            "overflow": null,
            "overflow_x": null,
            "overflow_y": null,
            "padding": null,
            "right": null,
            "top": null,
            "visibility": null,
            "width": null
          }
        },
        "c9828f5de5504fa0b63dcfe9586bffe6": {
          "model_module": "@jupyter-widgets/controls",
          "model_name": "ProgressStyleModel",
          "model_module_version": "1.5.0",
          "state": {
            "_model_module": "@jupyter-widgets/controls",
            "_model_module_version": "1.5.0",
            "_model_name": "ProgressStyleModel",
            "_view_count": null,
            "_view_module": "@jupyter-widgets/base",
            "_view_module_version": "1.2.0",
            "_view_name": "StyleView",
            "bar_color": null,
            "description_width": ""
          }
        },
        "371bbac54b364663a20435267975a833": {
          "model_module": "@jupyter-widgets/base",
          "model_name": "LayoutModel",
          "model_module_version": "1.2.0",
          "state": {
            "_model_module": "@jupyter-widgets/base",
            "_model_module_version": "1.2.0",
            "_model_name": "LayoutModel",
            "_view_count": null,
            "_view_module": "@jupyter-widgets/base",
            "_view_module_version": "1.2.0",
            "_view_name": "LayoutView",
            "align_content": null,
            "align_items": null,
            "align_self": null,
            "border": null,
            "bottom": null,
            "display": null,
            "flex": null,
            "flex_flow": null,
            "grid_area": null,
            "grid_auto_columns": null,
            "grid_auto_flow": null,
            "grid_auto_rows": null,
            "grid_column": null,
            "grid_gap": null,
            "grid_row": null,
            "grid_template_areas": null,
            "grid_template_columns": null,
            "grid_template_rows": null,
            "height": null,
            "justify_content": null,
            "justify_items": null,
            "left": null,
            "margin": null,
            "max_height": null,
            "max_width": null,
            "min_height": null,
            "min_width": null,
            "object_fit": null,
            "object_position": null,
            "order": null,
            "overflow": null,
            "overflow_x": null,
            "overflow_y": null,
            "padding": null,
            "right": null,
            "top": null,
            "visibility": null,
            "width": null
          }
        },
        "94126b101a1d4ce89db6ac23995ce8de": {
          "model_module": "@jupyter-widgets/controls",
          "model_name": "DescriptionStyleModel",
          "model_module_version": "1.5.0",
          "state": {
            "_model_module": "@jupyter-widgets/controls",
            "_model_module_version": "1.5.0",
            "_model_name": "DescriptionStyleModel",
            "_view_count": null,
            "_view_module": "@jupyter-widgets/base",
            "_view_module_version": "1.2.0",
            "_view_name": "StyleView",
            "description_width": ""
          }
        },
        "161ed3c7004d4638b99287c6a801c5fd": {
          "model_module": "@jupyter-widgets/controls",
          "model_name": "HBoxModel",
          "model_module_version": "1.5.0",
          "state": {
            "_dom_classes": [],
            "_model_module": "@jupyter-widgets/controls",
            "_model_module_version": "1.5.0",
            "_model_name": "HBoxModel",
            "_view_count": null,
            "_view_module": "@jupyter-widgets/controls",
            "_view_module_version": "1.5.0",
            "_view_name": "HBoxView",
            "box_style": "",
            "children": [
              "IPY_MODEL_a033ef5ebc43434095b923c5ba182883",
              "IPY_MODEL_5ab5aba4f6f048149a1488e383ba8f64",
              "IPY_MODEL_5c042bcb3b1840978a9ce960827b3e35"
            ],
            "layout": "IPY_MODEL_ce2089c0af8a400d98c1993875d66879"
          }
        },
        "a033ef5ebc43434095b923c5ba182883": {
          "model_module": "@jupyter-widgets/controls",
          "model_name": "HTMLModel",
          "model_module_version": "1.5.0",
          "state": {
            "_dom_classes": [],
            "_model_module": "@jupyter-widgets/controls",
            "_model_module_version": "1.5.0",
            "_model_name": "HTMLModel",
            "_view_count": null,
            "_view_module": "@jupyter-widgets/controls",
            "_view_module_version": "1.5.0",
            "_view_name": "HTMLView",
            "description": "",
            "description_tooltip": null,
            "layout": "IPY_MODEL_c1a814aee91f48ceaea84df38831ab12",
            "placeholder": "​",
            "style": "IPY_MODEL_e42a7b17bef44b05a626e302f8c6d3bc",
            "value": "Downloading builder script: 100%"
          }
        },
        "5ab5aba4f6f048149a1488e383ba8f64": {
          "model_module": "@jupyter-widgets/controls",
          "model_name": "FloatProgressModel",
          "model_module_version": "1.5.0",
          "state": {
            "_dom_classes": [],
            "_model_module": "@jupyter-widgets/controls",
            "_model_module_version": "1.5.0",
            "_model_name": "FloatProgressModel",
            "_view_count": null,
            "_view_module": "@jupyter-widgets/controls",
            "_view_module_version": "1.5.0",
            "_view_name": "ProgressView",
            "bar_style": "success",
            "description": "",
            "description_tooltip": null,
            "layout": "IPY_MODEL_90f1ab48b6104b69834d4e2f468e8fe5",
            "max": 6771,
            "min": 0,
            "orientation": "horizontal",
            "style": "IPY_MODEL_bc75754bb0d1412ea0f496ce0a9c3090",
            "value": 6771
          }
        },
        "5c042bcb3b1840978a9ce960827b3e35": {
          "model_module": "@jupyter-widgets/controls",
          "model_name": "HTMLModel",
          "model_module_version": "1.5.0",
          "state": {
            "_dom_classes": [],
            "_model_module": "@jupyter-widgets/controls",
            "_model_module_version": "1.5.0",
            "_model_name": "HTMLModel",
            "_view_count": null,
            "_view_module": "@jupyter-widgets/controls",
            "_view_module_version": "1.5.0",
            "_view_name": "HTMLView",
            "description": "",
            "description_tooltip": null,
            "layout": "IPY_MODEL_6e2dfecf679e411b9cca013605e17db5",
            "placeholder": "​",
            "style": "IPY_MODEL_e607c53c93b24dffa15fb1d2a3f3d6cb",
            "value": " 6.77k/6.77k [00:00&lt;00:00, 409kB/s]"
          }
        },
        "ce2089c0af8a400d98c1993875d66879": {
          "model_module": "@jupyter-widgets/base",
          "model_name": "LayoutModel",
          "model_module_version": "1.2.0",
          "state": {
            "_model_module": "@jupyter-widgets/base",
            "_model_module_version": "1.2.0",
            "_model_name": "LayoutModel",
            "_view_count": null,
            "_view_module": "@jupyter-widgets/base",
            "_view_module_version": "1.2.0",
            "_view_name": "LayoutView",
            "align_content": null,
            "align_items": null,
            "align_self": null,
            "border": null,
            "bottom": null,
            "display": null,
            "flex": null,
            "flex_flow": null,
            "grid_area": null,
            "grid_auto_columns": null,
            "grid_auto_flow": null,
            "grid_auto_rows": null,
            "grid_column": null,
            "grid_gap": null,
            "grid_row": null,
            "grid_template_areas": null,
            "grid_template_columns": null,
            "grid_template_rows": null,
            "height": null,
            "justify_content": null,
            "justify_items": null,
            "left": null,
            "margin": null,
            "max_height": null,
            "max_width": null,
            "min_height": null,
            "min_width": null,
            "object_fit": null,
            "object_position": null,
            "order": null,
            "overflow": null,
            "overflow_x": null,
            "overflow_y": null,
            "padding": null,
            "right": null,
            "top": null,
            "visibility": null,
            "width": null
          }
        },
        "c1a814aee91f48ceaea84df38831ab12": {
          "model_module": "@jupyter-widgets/base",
          "model_name": "LayoutModel",
          "model_module_version": "1.2.0",
          "state": {
            "_model_module": "@jupyter-widgets/base",
            "_model_module_version": "1.2.0",
            "_model_name": "LayoutModel",
            "_view_count": null,
            "_view_module": "@jupyter-widgets/base",
            "_view_module_version": "1.2.0",
            "_view_name": "LayoutView",
            "align_content": null,
            "align_items": null,
            "align_self": null,
            "border": null,
            "bottom": null,
            "display": null,
            "flex": null,
            "flex_flow": null,
            "grid_area": null,
            "grid_auto_columns": null,
            "grid_auto_flow": null,
            "grid_auto_rows": null,
            "grid_column": null,
            "grid_gap": null,
            "grid_row": null,
            "grid_template_areas": null,
            "grid_template_columns": null,
            "grid_template_rows": null,
            "height": null,
            "justify_content": null,
            "justify_items": null,
            "left": null,
            "margin": null,
            "max_height": null,
            "max_width": null,
            "min_height": null,
            "min_width": null,
            "object_fit": null,
            "object_position": null,
            "order": null,
            "overflow": null,
            "overflow_x": null,
            "overflow_y": null,
            "padding": null,
            "right": null,
            "top": null,
            "visibility": null,
            "width": null
          }
        },
        "e42a7b17bef44b05a626e302f8c6d3bc": {
          "model_module": "@jupyter-widgets/controls",
          "model_name": "DescriptionStyleModel",
          "model_module_version": "1.5.0",
          "state": {
            "_model_module": "@jupyter-widgets/controls",
            "_model_module_version": "1.5.0",
            "_model_name": "DescriptionStyleModel",
            "_view_count": null,
            "_view_module": "@jupyter-widgets/base",
            "_view_module_version": "1.2.0",
            "_view_name": "StyleView",
            "description_width": ""
          }
        },
        "90f1ab48b6104b69834d4e2f468e8fe5": {
          "model_module": "@jupyter-widgets/base",
          "model_name": "LayoutModel",
          "model_module_version": "1.2.0",
          "state": {
            "_model_module": "@jupyter-widgets/base",
            "_model_module_version": "1.2.0",
            "_model_name": "LayoutModel",
            "_view_count": null,
            "_view_module": "@jupyter-widgets/base",
            "_view_module_version": "1.2.0",
            "_view_name": "LayoutView",
            "align_content": null,
            "align_items": null,
            "align_self": null,
            "border": null,
            "bottom": null,
            "display": null,
            "flex": null,
            "flex_flow": null,
            "grid_area": null,
            "grid_auto_columns": null,
            "grid_auto_flow": null,
            "grid_auto_rows": null,
            "grid_column": null,
            "grid_gap": null,
            "grid_row": null,
            "grid_template_areas": null,
            "grid_template_columns": null,
            "grid_template_rows": null,
            "height": null,
            "justify_content": null,
            "justify_items": null,
            "left": null,
            "margin": null,
            "max_height": null,
            "max_width": null,
            "min_height": null,
            "min_width": null,
            "object_fit": null,
            "object_position": null,
            "order": null,
            "overflow": null,
            "overflow_x": null,
            "overflow_y": null,
            "padding": null,
            "right": null,
            "top": null,
            "visibility": null,
            "width": null
          }
        },
        "bc75754bb0d1412ea0f496ce0a9c3090": {
          "model_module": "@jupyter-widgets/controls",
          "model_name": "ProgressStyleModel",
          "model_module_version": "1.5.0",
          "state": {
            "_model_module": "@jupyter-widgets/controls",
            "_model_module_version": "1.5.0",
            "_model_name": "ProgressStyleModel",
            "_view_count": null,
            "_view_module": "@jupyter-widgets/base",
            "_view_module_version": "1.2.0",
            "_view_name": "StyleView",
            "bar_color": null,
            "description_width": ""
          }
        },
        "6e2dfecf679e411b9cca013605e17db5": {
          "model_module": "@jupyter-widgets/base",
          "model_name": "LayoutModel",
          "model_module_version": "1.2.0",
          "state": {
            "_model_module": "@jupyter-widgets/base",
            "_model_module_version": "1.2.0",
            "_model_name": "LayoutModel",
            "_view_count": null,
            "_view_module": "@jupyter-widgets/base",
            "_view_module_version": "1.2.0",
            "_view_name": "LayoutView",
            "align_content": null,
            "align_items": null,
            "align_self": null,
            "border": null,
            "bottom": null,
            "display": null,
            "flex": null,
            "flex_flow": null,
            "grid_area": null,
            "grid_auto_columns": null,
            "grid_auto_flow": null,
            "grid_auto_rows": null,
            "grid_column": null,
            "grid_gap": null,
            "grid_row": null,
            "grid_template_areas": null,
            "grid_template_columns": null,
            "grid_template_rows": null,
            "height": null,
            "justify_content": null,
            "justify_items": null,
            "left": null,
            "margin": null,
            "max_height": null,
            "max_width": null,
            "min_height": null,
            "min_width": null,
            "object_fit": null,
            "object_position": null,
            "order": null,
            "overflow": null,
            "overflow_x": null,
            "overflow_y": null,
            "padding": null,
            "right": null,
            "top": null,
            "visibility": null,
            "width": null
          }
        },
        "e607c53c93b24dffa15fb1d2a3f3d6cb": {
          "model_module": "@jupyter-widgets/controls",
          "model_name": "DescriptionStyleModel",
          "model_module_version": "1.5.0",
          "state": {
            "_model_module": "@jupyter-widgets/controls",
            "_model_module_version": "1.5.0",
            "_model_name": "DescriptionStyleModel",
            "_view_count": null,
            "_view_module": "@jupyter-widgets/base",
            "_view_module_version": "1.2.0",
            "_view_name": "StyleView",
            "description_width": ""
          }
        },
        "df469275e9c14f2f86f9b3a6b38b1102": {
          "model_module": "@jupyter-widgets/controls",
          "model_name": "HBoxModel",
          "model_module_version": "1.5.0",
          "state": {
            "_dom_classes": [],
            "_model_module": "@jupyter-widgets/controls",
            "_model_module_version": "1.5.0",
            "_model_name": "HBoxModel",
            "_view_count": null,
            "_view_module": "@jupyter-widgets/controls",
            "_view_module_version": "1.5.0",
            "_view_name": "HBoxView",
            "box_style": "",
            "children": [
              "IPY_MODEL_f3c5d8116b6a4533b31824d25bb1c24e",
              "IPY_MODEL_70aad3f0bbd246e3acd4f7102b80def9",
              "IPY_MODEL_f8eec845e7e740c5af8c7288ca3fbb1a"
            ],
            "layout": "IPY_MODEL_af86b75a4036450b90a281c5237d92d2"
          }
        },
        "f3c5d8116b6a4533b31824d25bb1c24e": {
          "model_module": "@jupyter-widgets/controls",
          "model_name": "HTMLModel",
          "model_module_version": "1.5.0",
          "state": {
            "_dom_classes": [],
            "_model_module": "@jupyter-widgets/controls",
            "_model_module_version": "1.5.0",
            "_model_name": "HTMLModel",
            "_view_count": null,
            "_view_module": "@jupyter-widgets/controls",
            "_view_module_version": "1.5.0",
            "_view_name": "HTMLView",
            "description": "",
            "description_tooltip": null,
            "layout": "IPY_MODEL_676bd1263f5e46f08fbf351a19510eb0",
            "placeholder": "​",
            "style": "IPY_MODEL_20b9da9bfe8740d8894166f1618ce1f3",
            "value": "Downloading builder script: 100%"
          }
        },
        "70aad3f0bbd246e3acd4f7102b80def9": {
          "model_module": "@jupyter-widgets/controls",
          "model_name": "FloatProgressModel",
          "model_module_version": "1.5.0",
          "state": {
            "_dom_classes": [],
            "_model_module": "@jupyter-widgets/controls",
            "_model_module_version": "1.5.0",
            "_model_name": "FloatProgressModel",
            "_view_count": null,
            "_view_module": "@jupyter-widgets/controls",
            "_view_module_version": "1.5.0",
            "_view_name": "ProgressView",
            "bar_style": "success",
            "description": "",
            "description_tooltip": null,
            "layout": "IPY_MODEL_08587c5d14be4e6693658ba4c30a7582",
            "max": 7363,
            "min": 0,
            "orientation": "horizontal",
            "style": "IPY_MODEL_f93bb3134177454e82c3336a2792b965",
            "value": 7363
          }
        },
        "f8eec845e7e740c5af8c7288ca3fbb1a": {
          "model_module": "@jupyter-widgets/controls",
          "model_name": "HTMLModel",
          "model_module_version": "1.5.0",
          "state": {
            "_dom_classes": [],
            "_model_module": "@jupyter-widgets/controls",
            "_model_module_version": "1.5.0",
            "_model_name": "HTMLModel",
            "_view_count": null,
            "_view_module": "@jupyter-widgets/controls",
            "_view_module_version": "1.5.0",
            "_view_name": "HTMLView",
            "description": "",
            "description_tooltip": null,
            "layout": "IPY_MODEL_cc802a03fa9844d6bca4fadae5088391",
            "placeholder": "​",
            "style": "IPY_MODEL_0b5d66898d1b4a05aacf8b255b12c82b",
            "value": " 7.36k/7.36k [00:00&lt;00:00, 131kB/s]"
          }
        },
        "af86b75a4036450b90a281c5237d92d2": {
          "model_module": "@jupyter-widgets/base",
          "model_name": "LayoutModel",
          "model_module_version": "1.2.0",
          "state": {
            "_model_module": "@jupyter-widgets/base",
            "_model_module_version": "1.2.0",
            "_model_name": "LayoutModel",
            "_view_count": null,
            "_view_module": "@jupyter-widgets/base",
            "_view_module_version": "1.2.0",
            "_view_name": "LayoutView",
            "align_content": null,
            "align_items": null,
            "align_self": null,
            "border": null,
            "bottom": null,
            "display": null,
            "flex": null,
            "flex_flow": null,
            "grid_area": null,
            "grid_auto_columns": null,
            "grid_auto_flow": null,
            "grid_auto_rows": null,
            "grid_column": null,
            "grid_gap": null,
            "grid_row": null,
            "grid_template_areas": null,
            "grid_template_columns": null,
            "grid_template_rows": null,
            "height": null,
            "justify_content": null,
            "justify_items": null,
            "left": null,
            "margin": null,
            "max_height": null,
            "max_width": null,
            "min_height": null,
            "min_width": null,
            "object_fit": null,
            "object_position": null,
            "order": null,
            "overflow": null,
            "overflow_x": null,
            "overflow_y": null,
            "padding": null,
            "right": null,
            "top": null,
            "visibility": null,
            "width": null
          }
        },
        "676bd1263f5e46f08fbf351a19510eb0": {
          "model_module": "@jupyter-widgets/base",
          "model_name": "LayoutModel",
          "model_module_version": "1.2.0",
          "state": {
            "_model_module": "@jupyter-widgets/base",
            "_model_module_version": "1.2.0",
            "_model_name": "LayoutModel",
            "_view_count": null,
            "_view_module": "@jupyter-widgets/base",
            "_view_module_version": "1.2.0",
            "_view_name": "LayoutView",
            "align_content": null,
            "align_items": null,
            "align_self": null,
            "border": null,
            "bottom": null,
            "display": null,
            "flex": null,
            "flex_flow": null,
            "grid_area": null,
            "grid_auto_columns": null,
            "grid_auto_flow": null,
            "grid_auto_rows": null,
            "grid_column": null,
            "grid_gap": null,
            "grid_row": null,
            "grid_template_areas": null,
            "grid_template_columns": null,
            "grid_template_rows": null,
            "height": null,
            "justify_content": null,
            "justify_items": null,
            "left": null,
            "margin": null,
            "max_height": null,
            "max_width": null,
            "min_height": null,
            "min_width": null,
            "object_fit": null,
            "object_position": null,
            "order": null,
            "overflow": null,
            "overflow_x": null,
            "overflow_y": null,
            "padding": null,
            "right": null,
            "top": null,
            "visibility": null,
            "width": null
          }
        },
        "20b9da9bfe8740d8894166f1618ce1f3": {
          "model_module": "@jupyter-widgets/controls",
          "model_name": "DescriptionStyleModel",
          "model_module_version": "1.5.0",
          "state": {
            "_model_module": "@jupyter-widgets/controls",
            "_model_module_version": "1.5.0",
            "_model_name": "DescriptionStyleModel",
            "_view_count": null,
            "_view_module": "@jupyter-widgets/base",
            "_view_module_version": "1.2.0",
            "_view_name": "StyleView",
            "description_width": ""
          }
        },
        "08587c5d14be4e6693658ba4c30a7582": {
          "model_module": "@jupyter-widgets/base",
          "model_name": "LayoutModel",
          "model_module_version": "1.2.0",
          "state": {
            "_model_module": "@jupyter-widgets/base",
            "_model_module_version": "1.2.0",
            "_model_name": "LayoutModel",
            "_view_count": null,
            "_view_module": "@jupyter-widgets/base",
            "_view_module_version": "1.2.0",
            "_view_name": "LayoutView",
            "align_content": null,
            "align_items": null,
            "align_self": null,
            "border": null,
            "bottom": null,
            "display": null,
            "flex": null,
            "flex_flow": null,
            "grid_area": null,
            "grid_auto_columns": null,
            "grid_auto_flow": null,
            "grid_auto_rows": null,
            "grid_column": null,
            "grid_gap": null,
            "grid_row": null,
            "grid_template_areas": null,
            "grid_template_columns": null,
            "grid_template_rows": null,
            "height": null,
            "justify_content": null,
            "justify_items": null,
            "left": null,
            "margin": null,
            "max_height": null,
            "max_width": null,
            "min_height": null,
            "min_width": null,
            "object_fit": null,
            "object_position": null,
            "order": null,
            "overflow": null,
            "overflow_x": null,
            "overflow_y": null,
            "padding": null,
            "right": null,
            "top": null,
            "visibility": null,
            "width": null
          }
        },
        "f93bb3134177454e82c3336a2792b965": {
          "model_module": "@jupyter-widgets/controls",
          "model_name": "ProgressStyleModel",
          "model_module_version": "1.5.0",
          "state": {
            "_model_module": "@jupyter-widgets/controls",
            "_model_module_version": "1.5.0",
            "_model_name": "ProgressStyleModel",
            "_view_count": null,
            "_view_module": "@jupyter-widgets/base",
            "_view_module_version": "1.2.0",
            "_view_name": "StyleView",
            "bar_color": null,
            "description_width": ""
          }
        },
        "cc802a03fa9844d6bca4fadae5088391": {
          "model_module": "@jupyter-widgets/base",
          "model_name": "LayoutModel",
          "model_module_version": "1.2.0",
          "state": {
            "_model_module": "@jupyter-widgets/base",
            "_model_module_version": "1.2.0",
            "_model_name": "LayoutModel",
            "_view_count": null,
            "_view_module": "@jupyter-widgets/base",
            "_view_module_version": "1.2.0",
            "_view_name": "LayoutView",
            "align_content": null,
            "align_items": null,
            "align_self": null,
            "border": null,
            "bottom": null,
            "display": null,
            "flex": null,
            "flex_flow": null,
            "grid_area": null,
            "grid_auto_columns": null,
            "grid_auto_flow": null,
            "grid_auto_rows": null,
            "grid_column": null,
            "grid_gap": null,
            "grid_row": null,
            "grid_template_areas": null,
            "grid_template_columns": null,
            "grid_template_rows": null,
            "height": null,
            "justify_content": null,
            "justify_items": null,
            "left": null,
            "margin": null,
            "max_height": null,
            "max_width": null,
            "min_height": null,
            "min_width": null,
            "object_fit": null,
            "object_position": null,
            "order": null,
            "overflow": null,
            "overflow_x": null,
            "overflow_y": null,
            "padding": null,
            "right": null,
            "top": null,
            "visibility": null,
            "width": null
          }
        },
        "0b5d66898d1b4a05aacf8b255b12c82b": {
          "model_module": "@jupyter-widgets/controls",
          "model_name": "DescriptionStyleModel",
          "model_module_version": "1.5.0",
          "state": {
            "_model_module": "@jupyter-widgets/controls",
            "_model_module_version": "1.5.0",
            "_model_name": "DescriptionStyleModel",
            "_view_count": null,
            "_view_module": "@jupyter-widgets/base",
            "_view_module_version": "1.2.0",
            "_view_name": "StyleView",
            "description_width": ""
          }
        },
        "69f4f7833974435b92bbd6b716ccd615": {
          "model_module": "@jupyter-widgets/controls",
          "model_name": "HBoxModel",
          "model_module_version": "1.5.0",
          "state": {
            "_dom_classes": [],
            "_model_module": "@jupyter-widgets/controls",
            "_model_module_version": "1.5.0",
            "_model_name": "HBoxModel",
            "_view_count": null,
            "_view_module": "@jupyter-widgets/controls",
            "_view_module_version": "1.5.0",
            "_view_name": "HBoxView",
            "box_style": "",
            "children": [
              "IPY_MODEL_aa1afd23034c4067b1d4a1e1165f715b",
              "IPY_MODEL_8b1d3b3158014521bc3db5aa0d6f9851",
              "IPY_MODEL_7060db3a0d2c4a6bbc12f0729b46afd3"
            ],
            "layout": "IPY_MODEL_38fe6169dc9847e6bb940fdedd906827"
          }
        },
        "aa1afd23034c4067b1d4a1e1165f715b": {
          "model_module": "@jupyter-widgets/controls",
          "model_name": "HTMLModel",
          "model_module_version": "1.5.0",
          "state": {
            "_dom_classes": [],
            "_model_module": "@jupyter-widgets/controls",
            "_model_module_version": "1.5.0",
            "_model_name": "HTMLModel",
            "_view_count": null,
            "_view_module": "@jupyter-widgets/controls",
            "_view_module_version": "1.5.0",
            "_view_name": "HTMLView",
            "description": "",
            "description_tooltip": null,
            "layout": "IPY_MODEL_492ed448fdfd4773a4d90520841ebac3",
            "placeholder": "​",
            "style": "IPY_MODEL_ec25ff9d7e7f42388161e20be16945dc",
            "value": "Downloading builder script: 100%"
          }
        },
        "8b1d3b3158014521bc3db5aa0d6f9851": {
          "model_module": "@jupyter-widgets/controls",
          "model_name": "FloatProgressModel",
          "model_module_version": "1.5.0",
          "state": {
            "_dom_classes": [],
            "_model_module": "@jupyter-widgets/controls",
            "_model_module_version": "1.5.0",
            "_model_name": "FloatProgressModel",
            "_view_count": null,
            "_view_module": "@jupyter-widgets/controls",
            "_view_module_version": "1.5.0",
            "_view_name": "ProgressView",
            "bar_style": "success",
            "description": "",
            "description_tooltip": null,
            "layout": "IPY_MODEL_1bceb20df6754496bc6d8a41527e8679",
            "max": 7546,
            "min": 0,
            "orientation": "horizontal",
            "style": "IPY_MODEL_2f531bfbce0d4896b7f3cba71e02b0dc",
            "value": 7546
          }
        },
        "7060db3a0d2c4a6bbc12f0729b46afd3": {
          "model_module": "@jupyter-widgets/controls",
          "model_name": "HTMLModel",
          "model_module_version": "1.5.0",
          "state": {
            "_dom_classes": [],
            "_model_module": "@jupyter-widgets/controls",
            "_model_module_version": "1.5.0",
            "_model_name": "HTMLModel",
            "_view_count": null,
            "_view_module": "@jupyter-widgets/controls",
            "_view_module_version": "1.5.0",
            "_view_name": "HTMLView",
            "description": "",
            "description_tooltip": null,
            "layout": "IPY_MODEL_ec2dcf6f54e947ecadd672f1653e2f85",
            "placeholder": "​",
            "style": "IPY_MODEL_4952ecd2ac3a4f97b100311af0cb048d",
            "value": " 7.55k/7.55k [00:00&lt;00:00, 9.78kB/s]"
          }
        },
        "38fe6169dc9847e6bb940fdedd906827": {
          "model_module": "@jupyter-widgets/base",
          "model_name": "LayoutModel",
          "model_module_version": "1.2.0",
          "state": {
            "_model_module": "@jupyter-widgets/base",
            "_model_module_version": "1.2.0",
            "_model_name": "LayoutModel",
            "_view_count": null,
            "_view_module": "@jupyter-widgets/base",
            "_view_module_version": "1.2.0",
            "_view_name": "LayoutView",
            "align_content": null,
            "align_items": null,
            "align_self": null,
            "border": null,
            "bottom": null,
            "display": null,
            "flex": null,
            "flex_flow": null,
            "grid_area": null,
            "grid_auto_columns": null,
            "grid_auto_flow": null,
            "grid_auto_rows": null,
            "grid_column": null,
            "grid_gap": null,
            "grid_row": null,
            "grid_template_areas": null,
            "grid_template_columns": null,
            "grid_template_rows": null,
            "height": null,
            "justify_content": null,
            "justify_items": null,
            "left": null,
            "margin": null,
            "max_height": null,
            "max_width": null,
            "min_height": null,
            "min_width": null,
            "object_fit": null,
            "object_position": null,
            "order": null,
            "overflow": null,
            "overflow_x": null,
            "overflow_y": null,
            "padding": null,
            "right": null,
            "top": null,
            "visibility": null,
            "width": null
          }
        },
        "492ed448fdfd4773a4d90520841ebac3": {
          "model_module": "@jupyter-widgets/base",
          "model_name": "LayoutModel",
          "model_module_version": "1.2.0",
          "state": {
            "_model_module": "@jupyter-widgets/base",
            "_model_module_version": "1.2.0",
            "_model_name": "LayoutModel",
            "_view_count": null,
            "_view_module": "@jupyter-widgets/base",
            "_view_module_version": "1.2.0",
            "_view_name": "LayoutView",
            "align_content": null,
            "align_items": null,
            "align_self": null,
            "border": null,
            "bottom": null,
            "display": null,
            "flex": null,
            "flex_flow": null,
            "grid_area": null,
            "grid_auto_columns": null,
            "grid_auto_flow": null,
            "grid_auto_rows": null,
            "grid_column": null,
            "grid_gap": null,
            "grid_row": null,
            "grid_template_areas": null,
            "grid_template_columns": null,
            "grid_template_rows": null,
            "height": null,
            "justify_content": null,
            "justify_items": null,
            "left": null,
            "margin": null,
            "max_height": null,
            "max_width": null,
            "min_height": null,
            "min_width": null,
            "object_fit": null,
            "object_position": null,
            "order": null,
            "overflow": null,
            "overflow_x": null,
            "overflow_y": null,
            "padding": null,
            "right": null,
            "top": null,
            "visibility": null,
            "width": null
          }
        },
        "ec25ff9d7e7f42388161e20be16945dc": {
          "model_module": "@jupyter-widgets/controls",
          "model_name": "DescriptionStyleModel",
          "model_module_version": "1.5.0",
          "state": {
            "_model_module": "@jupyter-widgets/controls",
            "_model_module_version": "1.5.0",
            "_model_name": "DescriptionStyleModel",
            "_view_count": null,
            "_view_module": "@jupyter-widgets/base",
            "_view_module_version": "1.2.0",
            "_view_name": "StyleView",
            "description_width": ""
          }
        },
        "1bceb20df6754496bc6d8a41527e8679": {
          "model_module": "@jupyter-widgets/base",
          "model_name": "LayoutModel",
          "model_module_version": "1.2.0",
          "state": {
            "_model_module": "@jupyter-widgets/base",
            "_model_module_version": "1.2.0",
            "_model_name": "LayoutModel",
            "_view_count": null,
            "_view_module": "@jupyter-widgets/base",
            "_view_module_version": "1.2.0",
            "_view_name": "LayoutView",
            "align_content": null,
            "align_items": null,
            "align_self": null,
            "border": null,
            "bottom": null,
            "display": null,
            "flex": null,
            "flex_flow": null,
            "grid_area": null,
            "grid_auto_columns": null,
            "grid_auto_flow": null,
            "grid_auto_rows": null,
            "grid_column": null,
            "grid_gap": null,
            "grid_row": null,
            "grid_template_areas": null,
            "grid_template_columns": null,
            "grid_template_rows": null,
            "height": null,
            "justify_content": null,
            "justify_items": null,
            "left": null,
            "margin": null,
            "max_height": null,
            "max_width": null,
            "min_height": null,
            "min_width": null,
            "object_fit": null,
            "object_position": null,
            "order": null,
            "overflow": null,
            "overflow_x": null,
            "overflow_y": null,
            "padding": null,
            "right": null,
            "top": null,
            "visibility": null,
            "width": null
          }
        },
        "2f531bfbce0d4896b7f3cba71e02b0dc": {
          "model_module": "@jupyter-widgets/controls",
          "model_name": "ProgressStyleModel",
          "model_module_version": "1.5.0",
          "state": {
            "_model_module": "@jupyter-widgets/controls",
            "_model_module_version": "1.5.0",
            "_model_name": "ProgressStyleModel",
            "_view_count": null,
            "_view_module": "@jupyter-widgets/base",
            "_view_module_version": "1.2.0",
            "_view_name": "StyleView",
            "bar_color": null,
            "description_width": ""
          }
        },
        "ec2dcf6f54e947ecadd672f1653e2f85": {
          "model_module": "@jupyter-widgets/base",
          "model_name": "LayoutModel",
          "model_module_version": "1.2.0",
          "state": {
            "_model_module": "@jupyter-widgets/base",
            "_model_module_version": "1.2.0",
            "_model_name": "LayoutModel",
            "_view_count": null,
            "_view_module": "@jupyter-widgets/base",
            "_view_module_version": "1.2.0",
            "_view_name": "LayoutView",
            "align_content": null,
            "align_items": null,
            "align_self": null,
            "border": null,
            "bottom": null,
            "display": null,
            "flex": null,
            "flex_flow": null,
            "grid_area": null,
            "grid_auto_columns": null,
            "grid_auto_flow": null,
            "grid_auto_rows": null,
            "grid_column": null,
            "grid_gap": null,
            "grid_row": null,
            "grid_template_areas": null,
            "grid_template_columns": null,
            "grid_template_rows": null,
            "height": null,
            "justify_content": null,
            "justify_items": null,
            "left": null,
            "margin": null,
            "max_height": null,
            "max_width": null,
            "min_height": null,
            "min_width": null,
            "object_fit": null,
            "object_position": null,
            "order": null,
            "overflow": null,
            "overflow_x": null,
            "overflow_y": null,
            "padding": null,
            "right": null,
            "top": null,
            "visibility": null,
            "width": null
          }
        },
        "4952ecd2ac3a4f97b100311af0cb048d": {
          "model_module": "@jupyter-widgets/controls",
          "model_name": "DescriptionStyleModel",
          "model_module_version": "1.5.0",
          "state": {
            "_model_module": "@jupyter-widgets/controls",
            "_model_module_version": "1.5.0",
            "_model_name": "DescriptionStyleModel",
            "_view_count": null,
            "_view_module": "@jupyter-widgets/base",
            "_view_module_version": "1.2.0",
            "_view_name": "StyleView",
            "description_width": ""
          }
        }
      }
    }
  },
  "cells": [
    {
      "cell_type": "markdown",
      "metadata": {
        "id": "view-in-github",
        "colab_type": "text"
      },
      "source": [
        "<a href=\"https://colab.research.google.com/github/patrickfleith/datapipes/blob/main/Evaluation_101.ipynb\" target=\"_parent\"><img src=\"https://colab.research.google.com/assets/colab-badge.svg\" alt=\"Open In Colab\"/></a>"
      ]
    },
    {
      "cell_type": "markdown",
      "source": [
        "# Getting Started with LLM Evaluation Metrics"
      ],
      "metadata": {
        "id": "MvO-7UAzEFeW"
      }
    },
    {
      "cell_type": "markdown",
      "source": [
        ">[Exact Match](#scrollTo=VnMbUCEKATj7)\n",
        "\n",
        ">[F1-score, precision, recall](#scrollTo=gV72VzkC3ime)\n",
        "\n",
        ">[Text Normalization](#scrollTo=aOgVWdvTlcOH)\n",
        "\n",
        ">[Damerau-Levenshtein Distance](#scrollTo=zklowmjTn-lF)\n",
        "\n",
        ">[Embedding Distance](#scrollTo=pHZXxBPcs0Q4)\n",
        "\n"
      ],
      "metadata": {
        "colab_type": "toc",
        "id": "GnHs0X0IEHmX"
      }
    },
    {
      "cell_type": "markdown",
      "source": [
        "There are numerous ways we can evaluate text generated by LLMs.\n",
        "\n",
        "> **In this notebook we assume we have reference text (gold labels / ground truth) against which we can compare LLM predictions**\n",
        "\n",
        "We'll cover evaluate without references in another notebook.\n",
        "\n",
        "We'll use the `evaluate` library from HuggingFace. Here are all the  metrics provided by this library."
      ],
      "metadata": {
        "id": "ONbwKW4G8DGM"
      }
    },
    {
      "cell_type": "code",
      "execution_count": 1,
      "metadata": {
        "id": "aTeR0HDW6kRD",
        "colab": {
          "base_uri": "https://localhost:8080/"
        },
        "outputId": "bf05418b-d8ca-4004-801a-4499ee29c2e7"
      },
      "outputs": [
        {
          "output_type": "stream",
          "name": "stdout",
          "text": [
            "\u001b[?25l   \u001b[90m━━━━━━━━━━━━━━━━━━━━━━━━━━━━━━━━━━━━━━━━\u001b[0m \u001b[32m0.0/84.0 kB\u001b[0m \u001b[31m?\u001b[0m eta \u001b[36m-:--:--\u001b[0m\r\u001b[2K   \u001b[90m━━━━━━━━━━━━━━━━━━━━━━━━━━━━━━━━━━━━━━━━\u001b[0m \u001b[32m84.0/84.0 kB\u001b[0m \u001b[31m5.7 MB/s\u001b[0m eta \u001b[36m0:00:00\u001b[0m\n",
            "\u001b[2K   \u001b[90m━━━━━━━━━━━━━━━━━━━━━━━━━━━━━━━━━━━━━━━━\u001b[0m \u001b[32m480.6/480.6 kB\u001b[0m \u001b[31m9.1 MB/s\u001b[0m eta \u001b[36m0:00:00\u001b[0m\n",
            "\u001b[2K   \u001b[90m━━━━━━━━━━━━━━━━━━━━━━━━━━━━━━━━━━━━━━━━\u001b[0m \u001b[32m116.3/116.3 kB\u001b[0m \u001b[31m3.5 MB/s\u001b[0m eta \u001b[36m0:00:00\u001b[0m\n",
            "\u001b[2K   \u001b[90m━━━━━━━━━━━━━━━━━━━━━━━━━━━━━━━━━━━━━━━━\u001b[0m \u001b[32m179.3/179.3 kB\u001b[0m \u001b[31m3.3 MB/s\u001b[0m eta \u001b[36m0:00:00\u001b[0m\n",
            "\u001b[2K   \u001b[90m━━━━━━━━━━━━━━━━━━━━━━━━━━━━━━━━━━━━━━━━\u001b[0m \u001b[32m134.8/134.8 kB\u001b[0m \u001b[31m4.3 MB/s\u001b[0m eta \u001b[36m0:00:00\u001b[0m\n",
            "\u001b[2K   \u001b[90m━━━━━━━━━━━━━━━━━━━━━━━━━━━━━━━━━━━━━━━━\u001b[0m \u001b[32m194.1/194.1 kB\u001b[0m \u001b[31m9.5 MB/s\u001b[0m eta \u001b[36m0:00:00\u001b[0m\n",
            "\u001b[?25h\u001b[31mERROR: pip's dependency resolver does not currently take into account all the packages that are installed. This behaviour is the source of the following dependency conflicts.\n",
            "gcsfs 2024.10.0 requires fsspec==2024.10.0, but you have fsspec 2024.9.0 which is incompatible.\u001b[0m\u001b[31m\n",
            "\u001b[0m"
          ]
        }
      ],
      "source": [
        "!pip install evaluate --quiet\n",
        "# You can safely ignore ERROR related to requirements to fsspec==2024.10.0 etc."
      ]
    },
    {
      "cell_type": "markdown",
      "source": [
        "# Exact Match\n",
        "This is a straightforward metric, although you could be surprised.\n",
        "We used the `evaluate` library from 🤗 HuggingFace.\n",
        "\n",
        "With `evaluate` it generally works as follow:\n",
        "- A list of **references**. The ground truth labels 🙏\n",
        "- A list of **predictions**. The labels of the LLM"
      ],
      "metadata": {
        "id": "VnMbUCEKATj7"
      }
    },
    {
      "cell_type": "code",
      "source": [
        "from evaluate import load\n",
        "exact_match_metric = load(\"exact_match\")"
      ],
      "metadata": {
        "id": "AFFEZHcq8IRL",
        "colab": {
          "base_uri": "https://localhost:8080/",
          "height": 49,
          "referenced_widgets": [
            "5ca39992cac64b84b2aa312188454c84",
            "262722502c9c451699bbfa51c7b1e514",
            "84ca9569347549fea9aa740d5b21711f",
            "6d7c9fdc4fb84a1c902b7eb55e5a0805",
            "be237ceea2844e399b552475ad2324e2",
            "c29edee7bdca40338ffee8a38eb7be6d",
            "4f7b581785a24d86af01772db0b1064d",
            "efc838d747f0456abbcf3118cf56a502",
            "c9828f5de5504fa0b63dcfe9586bffe6",
            "371bbac54b364663a20435267975a833",
            "94126b101a1d4ce89db6ac23995ce8de"
          ]
        },
        "outputId": "0b2d2bfa-0795-43d5-f0c7-e02983c32091"
      },
      "execution_count": 2,
      "outputs": [
        {
          "output_type": "display_data",
          "data": {
            "text/plain": [
              "Downloading builder script:   0%|          | 0.00/5.67k [00:00<?, ?B/s]"
            ],
            "application/vnd.jupyter.widget-view+json": {
              "version_major": 2,
              "version_minor": 0,
              "model_id": "5ca39992cac64b84b2aa312188454c84"
            }
          },
          "metadata": {}
        }
      ]
    },
    {
      "cell_type": "markdown",
      "source": [
        "### Exactly Exact\n",
        "Here all the words are the same but there is **only 1 perfect match over 4**"
      ],
      "metadata": {
        "id": "4dWX0ycD_t52"
      }
    },
    {
      "cell_type": "code",
      "source": [
        "references = [\"the cat\", \"theater\", \"YELLING\", \"agent007\"] # the ground truth labels\n",
        "predictions = [\"cat\", \"theater\", \"yelling?\", \"agent\"] # what's generated from your LLM\n",
        "\n",
        "results = exact_match_metric.compute(\n",
        "    references=references,\n",
        "    predictions=predictions,\n",
        ")\n",
        "\n",
        "print(round(results[\"exact_match\"],2))"
      ],
      "metadata": {
        "colab": {
          "base_uri": "https://localhost:8080/"
        },
        "id": "TP9-dAq-_ESm",
        "outputId": "9c771d2e-8615-4296-c72a-390f31f3275b"
      },
      "execution_count": 3,
      "outputs": [
        {
          "output_type": "stream",
          "name": "stdout",
          "text": [
            "0.25\n"
          ]
        }
      ]
    },
    {
      "cell_type": "markdown",
      "source": [
        "## Exactly Except\n",
        "- `regexes_to_ignore`: Regex expressions of characters to ignore when calculating the exact matches. Note: these regexes are removed from the input data before the changes based on the options below (e.g. ignore_case,      ignore_punctuation, ignore_numbers) are applied."
      ],
      "metadata": {
        "id": "3cDRqExkD1Ey"
      }
    },
    {
      "cell_type": "code",
      "source": [
        "results = exact_match_metric.compute(\n",
        "    references=references,\n",
        "    predictions=predictions,\n",
        "    regexes_to_ignore=[\"the \"]\n",
        ")\n",
        "\n",
        "print(round(results[\"exact_match\"],2))"
      ],
      "metadata": {
        "colab": {
          "base_uri": "https://localhost:8080/"
        },
        "id": "69zY59jEDgYe",
        "outputId": "14e68f0a-71c7-4b7a-8121-fea88c8bb7cc"
      },
      "execution_count": 4,
      "outputs": [
        {
          "output_type": "stream",
          "name": "stdout",
          "text": [
            "0.5\n"
          ]
        }
      ]
    },
    {
      "cell_type": "markdown",
      "source": [
        "## Quasy Exactly\n",
        "You also have the following options to ignore:\n",
        "- **`ignore_case`**: Boolean, defaults to False. If true, turns everything to lowercase so that capitalization differences are ignored.\n",
        "- **`ignore_punctuation`**: Boolean, defaults to False. If true, removes all punctuation before comparing predictions and references.\n",
        "- **`ignore_numbers`**: Boolean, defaults to False. If true, removes all punctuation before comparing predictions and references."
      ],
      "metadata": {
        "id": "lNrRPzt3DJHx"
      }
    },
    {
      "cell_type": "code",
      "source": [
        "references = [\"the cat\", \"theater\", \"YELLING\", \"agent007\"]\n",
        "predictions = [\"cat\", \"theater\", \"yelling?\", \"agent\"]\n",
        "\n",
        "results = exact_match_metric.compute(\n",
        "    references=references,\n",
        "    predictions=predictions,\n",
        "    regexes_to_ignore=[\"the \"],\n",
        "    ignore_case=True,\n",
        "    ignore_punctuation=True,\n",
        "    ignore_numbers=False\n",
        ")\n",
        "\n",
        "print(round(results[\"exact_match\"],2))"
      ],
      "metadata": {
        "colab": {
          "base_uri": "https://localhost:8080/"
        },
        "id": "5KsKsnYlF69V",
        "outputId": "e0ae2a7f-eec8-47c7-ad14-130a850ab6d7"
      },
      "execution_count": 5,
      "outputs": [
        {
          "output_type": "stream",
          "name": "stdout",
          "text": [
            "0.75\n"
          ]
        }
      ]
    },
    {
      "cell_type": "markdown",
      "source": [
        "## Example with full sentences\n",
        "With exact match you'll probably not compare individual words but full sentences or completions.\n",
        "\n",
        "So here is an example with 2 full sentences."
      ],
      "metadata": {
        "id": "eUMcqTUmGHZx"
      }
    },
    {
      "cell_type": "code",
      "source": [
        "from evaluate import load\n",
        "exact_match_metric = load(\"exact_match\")\n",
        "\n",
        "references = [\n",
        "    \"I like to eat chocolate with my coffee 😀\",\n",
        "    \"Tomorrow, I'll graduate!! So excited\"\n",
        "]\n",
        "\n",
        "predictions = [\n",
        "    \"I like chocolate with coffee\",\n",
        "    \"Tomorrow, I'll graduate! So excited\"\n",
        "]\n",
        "\n",
        "results = exact_match_metric.compute(\n",
        "    references=references,\n",
        "    predictions=predictions,\n",
        "    ignore_case=True,\n",
        "    ignore_punctuation=True,\n",
        "    ignore_numbers=True\n",
        ")\n",
        "\n",
        "print(round(results[\"exact_match\"],2))"
      ],
      "metadata": {
        "colab": {
          "base_uri": "https://localhost:8080/"
        },
        "id": "Re2x1bEpGusG",
        "outputId": "38ffefd8-65ef-4b52-9b3b-9651cf9411d7"
      },
      "execution_count": 6,
      "outputs": [
        {
          "output_type": "stream",
          "name": "stdout",
          "text": [
            "0.5\n"
          ]
        }
      ]
    },
    {
      "cell_type": "markdown",
      "source": [
        "# F1-score, precision, recall\n",
        "You might be already familiar with those metrics from machine learning classification tasks. If not, don't worry.\n",
        "\n",
        "- **F1-score**: It is a balance between the capability to detect probably something and avoiding false detection.\n",
        "\n",
        "- **Precision**: Out of all the answers the model gave, how many were actually correct? (Avoiding false alarms or incorrect guesses.)\n",
        "\n",
        "- **Recall**: Out of all the actually correct answers possible, how many did the model find? (Avoiding missing correct answers.)\n",
        "\n",
        "There are scenarios in which it can be useful. For instance when we use LLM as a classifier (although I wouldn't recommend doing that, instead just use `SetFit`).\n",
        "\n",
        "For instance let's assume you have a dataset of:\n",
        "`True or False: statement?` where you would expect the LLM to answer either True or False. That reduces the evaluation to classification problem, and we can use precision, recall and f1 score."
      ],
      "metadata": {
        "id": "gV72VzkC3ime"
      }
    },
    {
      "cell_type": "markdown",
      "source": [
        "**What is the F1 score?**\n",
        "The F1 is the harmonic mean of the precision and recall. It can be computed with the equation:\n",
        "\n",
        "$$\n",
        "F_1 = 2 \\cdot \\frac{\\text{precision} \\cdot \\text{recall}}{\\text{precision} + \\text{recall}}\n",
        "$$\n",
        "\n"
      ],
      "metadata": {
        "id": "hbi-5JeC5uW3"
      }
    },
    {
      "cell_type": "code",
      "source": [
        "# let's define a dummary model that randomly predicts true or false\n",
        "import numpy as np\n",
        "\n",
        "np.random.seed(43)\n",
        "def llm(fact_list)->list[bool]:\n",
        "    predictions = [np.random.choice([True, False], ) for item in fact_list]\n",
        "    return predictions"
      ],
      "metadata": {
        "id": "AgujFMQjB32i"
      },
      "execution_count": 7,
      "outputs": []
    },
    {
      "cell_type": "code",
      "source": [
        "true_or_false_statements = [\n",
        "    \"The Earth is a perfect Sphere\",\n",
        "    \"Thomas Pesquet is the First french astronaut on the Moon\",\n",
        "    \"If you could jump straight up more than 100 km, you fall back down to the surface\",\n",
        "    \"Mercury is closer the the Earth than Uranus\"\n",
        "]\n",
        "\n",
        "references = [False, False, True, True]\n",
        "predictions = llm(fact_list=true_or_false_statements)\n",
        "predictions"
      ],
      "metadata": {
        "colab": {
          "base_uri": "https://localhost:8080/"
        },
        "id": "hkb3ftx8BIIp",
        "outputId": "29f8b409-11b3-433a-aa07-fd4cdeb7b37d"
      },
      "execution_count": 8,
      "outputs": [
        {
          "output_type": "execute_result",
          "data": {
            "text/plain": [
              "[True, True, False, False]"
            ]
          },
          "metadata": {},
          "execution_count": 8
        }
      ]
    },
    {
      "cell_type": "code",
      "source": [
        "from evaluate import load\n",
        "f1_metric = load(\"f1\")\n",
        "\n",
        "# trun boolean to 0/1\n",
        "references = [int(item) for item in references]\n",
        "predictions = [int(pred) for pred in predictions]\n",
        "\n",
        "results = f1_metric.compute(\n",
        "    references=references,\n",
        "    predictions=predictions,\n",
        "    # sample_weight=[2, 1, 3, 1]\n",
        ")\n",
        "\n",
        "print(round(results['f1'], 2))"
      ],
      "metadata": {
        "colab": {
          "base_uri": "https://localhost:8080/",
          "height": 66,
          "referenced_widgets": [
            "161ed3c7004d4638b99287c6a801c5fd",
            "a033ef5ebc43434095b923c5ba182883",
            "5ab5aba4f6f048149a1488e383ba8f64",
            "5c042bcb3b1840978a9ce960827b3e35",
            "ce2089c0af8a400d98c1993875d66879",
            "c1a814aee91f48ceaea84df38831ab12",
            "e42a7b17bef44b05a626e302f8c6d3bc",
            "90f1ab48b6104b69834d4e2f468e8fe5",
            "bc75754bb0d1412ea0f496ce0a9c3090",
            "6e2dfecf679e411b9cca013605e17db5",
            "e607c53c93b24dffa15fb1d2a3f3d6cb"
          ]
        },
        "id": "77bUSdSz3kMF",
        "outputId": "ff475a6e-45d0-49b3-d86e-b0c66ee0d43e"
      },
      "execution_count": 9,
      "outputs": [
        {
          "output_type": "display_data",
          "data": {
            "text/plain": [
              "Downloading builder script:   0%|          | 0.00/6.77k [00:00<?, ?B/s]"
            ],
            "application/vnd.jupyter.widget-view+json": {
              "version_major": 2,
              "version_minor": 0,
              "model_id": "161ed3c7004d4638b99287c6a801c5fd"
            }
          },
          "metadata": {}
        },
        {
          "output_type": "stream",
          "name": "stdout",
          "text": [
            "0.0\n"
          ]
        }
      ]
    },
    {
      "cell_type": "code",
      "source": [
        "predictions"
      ],
      "metadata": {
        "colab": {
          "base_uri": "https://localhost:8080/"
        },
        "id": "aXSpklCXDhyF",
        "outputId": "2e523381-dcd0-4448-d461-eb36ee969d6d"
      },
      "execution_count": 10,
      "outputs": [
        {
          "output_type": "execute_result",
          "data": {
            "text/plain": [
              "[1, 1, 0, 0]"
            ]
          },
          "metadata": {},
          "execution_count": 10
        }
      ]
    },
    {
      "cell_type": "code",
      "source": [
        "references"
      ],
      "metadata": {
        "colab": {
          "base_uri": "https://localhost:8080/"
        },
        "id": "oHJeiTnEEHhj",
        "outputId": "6b3da768-b40b-40a0-d510-d1a750ffa97c"
      },
      "execution_count": 11,
      "outputs": [
        {
          "output_type": "execute_result",
          "data": {
            "text/plain": [
              "[0, 0, 1, 1]"
            ]
          },
          "metadata": {},
          "execution_count": 11
        }
      ]
    },
    {
      "cell_type": "markdown",
      "source": [
        "**You could also do multi-class**\n",
        "- That is especially useful for multiple choice question answering (with one correct answer out of several).\n",
        "- In that case you have few options on how to average over each class (like in sklearn f1_score) with `macro`, `micro` or `weighted`."
      ],
      "metadata": {
        "id": "DEribHzv-3k0"
      }
    },
    {
      "cell_type": "code",
      "source": [
        "# here we have 3 classes: 0, 1, 2\n",
        "predictions = [0, 2, 1, 0, 0, 1]\n",
        "references = [0, 1, 2, 0, 1, 2]\n",
        "\n",
        "results = f1_metric.compute(predictions=predictions, references=references, average=\"macro\")\n",
        "print(round(results['f1'], 2))\n",
        "results = f1_metric.compute(predictions=predictions, references=references, average=\"micro\")\n",
        "print(round(results['f1'], 2))\n",
        "results = f1_metric.compute(predictions=predictions, references=references, average=\"weighted\")\n",
        "print(round(results['f1'], 2))"
      ],
      "metadata": {
        "colab": {
          "base_uri": "https://localhost:8080/"
        },
        "id": "A0kvouZ-_SG6",
        "outputId": "ab92d024-2d82-42f0-c463-a0cba254c213"
      },
      "execution_count": 12,
      "outputs": [
        {
          "output_type": "stream",
          "name": "stdout",
          "text": [
            "0.27\n",
            "0.33\n",
            "0.27\n"
          ]
        }
      ]
    },
    {
      "cell_type": "markdown",
      "source": [
        "If `average` is set to `None`, the scores for each class are returned."
      ],
      "metadata": {
        "id": "mkBNxUee_5Gn"
      }
    },
    {
      "cell_type": "code",
      "source": [
        "results = f1_metric.compute(predictions=predictions, references=references, average=None)\n",
        "print(results)"
      ],
      "metadata": {
        "colab": {
          "base_uri": "https://localhost:8080/"
        },
        "id": "FpVdQvy4_xyJ",
        "outputId": "7d0374aa-f86e-4e53-b73d-0be4b37b3360"
      },
      "execution_count": 13,
      "outputs": [
        {
          "output_type": "stream",
          "name": "stdout",
          "text": [
            "{'f1': array([0.8, 0. , 0. ])}\n"
          ]
        }
      ]
    },
    {
      "cell_type": "code",
      "source": [
        "recall_metric = load(\"recall\")\n",
        "precision_metric = load(\"precision\")"
      ],
      "metadata": {
        "colab": {
          "base_uri": "https://localhost:8080/",
          "height": 81,
          "referenced_widgets": [
            "df469275e9c14f2f86f9b3a6b38b1102",
            "f3c5d8116b6a4533b31824d25bb1c24e",
            "70aad3f0bbd246e3acd4f7102b80def9",
            "f8eec845e7e740c5af8c7288ca3fbb1a",
            "af86b75a4036450b90a281c5237d92d2",
            "676bd1263f5e46f08fbf351a19510eb0",
            "20b9da9bfe8740d8894166f1618ce1f3",
            "08587c5d14be4e6693658ba4c30a7582",
            "f93bb3134177454e82c3336a2792b965",
            "cc802a03fa9844d6bca4fadae5088391",
            "0b5d66898d1b4a05aacf8b255b12c82b",
            "69f4f7833974435b92bbd6b716ccd615",
            "aa1afd23034c4067b1d4a1e1165f715b",
            "8b1d3b3158014521bc3db5aa0d6f9851",
            "7060db3a0d2c4a6bbc12f0729b46afd3",
            "38fe6169dc9847e6bb940fdedd906827",
            "492ed448fdfd4773a4d90520841ebac3",
            "ec25ff9d7e7f42388161e20be16945dc",
            "1bceb20df6754496bc6d8a41527e8679",
            "2f531bfbce0d4896b7f3cba71e02b0dc",
            "ec2dcf6f54e947ecadd672f1653e2f85",
            "4952ecd2ac3a4f97b100311af0cb048d"
          ]
        },
        "id": "cSGWXGiweRkD",
        "outputId": "32646838-8e68-4955-c3f3-f926759217db"
      },
      "execution_count": 14,
      "outputs": [
        {
          "output_type": "display_data",
          "data": {
            "text/plain": [
              "Downloading builder script:   0%|          | 0.00/7.36k [00:00<?, ?B/s]"
            ],
            "application/vnd.jupyter.widget-view+json": {
              "version_major": 2,
              "version_minor": 0,
              "model_id": "df469275e9c14f2f86f9b3a6b38b1102"
            }
          },
          "metadata": {}
        },
        {
          "output_type": "display_data",
          "data": {
            "text/plain": [
              "Downloading builder script:   0%|          | 0.00/7.55k [00:00<?, ?B/s]"
            ],
            "application/vnd.jupyter.widget-view+json": {
              "version_major": 2,
              "version_minor": 0,
              "model_id": "69f4f7833974435b92bbd6b716ccd615"
            }
          },
          "metadata": {}
        }
      ]
    },
    {
      "cell_type": "code",
      "source": [
        "recall_metric.compute(\n",
        "    references=[0, 1, 0, 1, 0, 1, 0],\n",
        "    predictions=[0, 0, 1, 1, 0, 1, 1],\n",
        ")"
      ],
      "metadata": {
        "colab": {
          "base_uri": "https://localhost:8080/"
        },
        "id": "n8sqCwfQeXeS",
        "outputId": "86be9ee5-7532-4c15-f11b-9b8a0fb9bcdf"
      },
      "execution_count": 15,
      "outputs": [
        {
          "output_type": "execute_result",
          "data": {
            "text/plain": [
              "{'recall': 0.6666666666666666}"
            ]
          },
          "metadata": {},
          "execution_count": 15
        }
      ]
    },
    {
      "cell_type": "code",
      "source": [
        "precision_metric.compute(\n",
        "    references=[0, 1, 0, 1, 0],\n",
        "    predictions=[0, 0, 1, 1, 0],\n",
        ")"
      ],
      "metadata": {
        "colab": {
          "base_uri": "https://localhost:8080/"
        },
        "id": "CsO_Fsmvee6h",
        "outputId": "4ed814f6-e9eb-4f22-df5c-2462a1db005c"
      },
      "execution_count": 16,
      "outputs": [
        {
          "output_type": "execute_result",
          "data": {
            "text/plain": [
              "{'precision': 0.5}"
            ]
          },
          "metadata": {},
          "execution_count": 16
        }
      ]
    },
    {
      "cell_type": "markdown",
      "source": [
        "## Text Normalization\n",
        "\n",
        "Text normalisation is converting text into a standard format with reduced variability\n",
        "\n",
        "It is not one operations, but a collection of small transformations you could choose to apply of not to your text.\n",
        "\n",
        "𝗘𝘅𝗮𝗺𝗽𝗹𝗲𝘀 👇️\n",
        "- Lowercasing text: \"Hello\" → \"hello\"\n",
        "- Removing punctuation \"Hello, world!\" → \"Hello world\"\n",
        "- Removing stopwords: Eliminate common words like \"a,\" \"an,\" and \"the\" that don't add much meaning in some contexts.\n",
        "- Remove extra spaces and normalise them to a single space: \" Hello world \" → \"Hello world\"\n",
        "- Reduce words to their base or root forms \"running\" → \"run\"\n",
        "- Convert numbers to words (e.g., \"1\" to \"one\") and expand abbreviations (e.g., \"Dr.\" to \"Doctor\")\n",
        "- etc...\n",
        "\n",
        "We normalise to avoid penalisation due to irrelevant variations\n",
        "- normalise your reference text\n",
        "- normalise your prediction\n",
        "Now compare for evaluation\n",
        "\n",
        "But, be careful! Text normalisation strategies can vary based on the problem you're solving. Sometimes, you might want to keep punctuation, or acronyms or something else!\n",
        "\n"
      ],
      "metadata": {
        "id": "aOgVWdvTlcOH"
      }
    },
    {
      "cell_type": "code",
      "source": [
        "import re\n",
        "import string\n",
        "\n",
        "def normalize_text(s):\n",
        "    \"\"\"\n",
        "    Normalize a text string by applying several transformations:\n",
        "    1. Convert all characters to lowercase.\n",
        "    2. Remove punctuation marks.\n",
        "    3. Remove articles (\"a\", \"an\", \"the\").\n",
        "    4. Remove extra whitespace.\n",
        "    \"\"\"\n",
        "    ARTICLES_REGEX = re.compile(r\"\\b(a|an|the)\\b\", re.UNICODE)\n",
        "\n",
        "    def remove_articles(text):\n",
        "        return ARTICLES_REGEX.sub(\" \", text)\n",
        "\n",
        "    def white_space_fix(text):\n",
        "        return \" \".join(text.split())\n",
        "\n",
        "    def remove_punc(text):\n",
        "        exclude = set(string.punctuation)\n",
        "        return \"\".join(ch for ch in text if ch not in exclude)\n",
        "\n",
        "    def lower(text):\n",
        "        return text.lower()\n",
        "\n",
        "    return white_space_fix(remove_articles(remove_punc(lower(s))))"
      ],
      "metadata": {
        "id": "pokreDsklhnb"
      },
      "execution_count": 17,
      "outputs": []
    },
    {
      "cell_type": "code",
      "source": [
        "normalize_text(\"The Quick, brown fox jumped over the Lazy DOG!!\")"
      ],
      "metadata": {
        "colab": {
          "base_uri": "https://localhost:8080/",
          "height": 36
        },
        "id": "affSPMQionOR",
        "outputId": "a2877a6b-9ef3-4356-a2c2-d10ee6e93ff6"
      },
      "execution_count": 18,
      "outputs": [
        {
          "output_type": "execute_result",
          "data": {
            "text/plain": [
              "'quick brown fox jumped over lazy dog'"
            ],
            "application/vnd.google.colaboratory.intrinsic+json": {
              "type": "string"
            }
          },
          "metadata": {},
          "execution_count": 18
        }
      ]
    },
    {
      "cell_type": "markdown",
      "source": [
        "## Damerau-Levenshtein Distance\n",
        "\n",
        "It measures the **minimum number of single-character edits required to transform one string into another**\n",
        "\n",
        "Available operations of the Levenshtein distance:\n",
        "- character 𝗶𝗻𝘀𝗲𝗿𝘁𝗶𝗼𝗻\n",
        "- character 𝗱𝗲𝗹𝗲𝘁𝗶𝗼𝗻\n",
        "- character 𝘀𝘂𝗯𝘀𝘁𝗶𝘁𝘂𝘁𝗶𝗼𝗻\n",
        "\n",
        "With Damerau we have one more operation\n",
        "- swapping two adjacent characters (𝘁𝗿𝗮𝗻𝘀𝗽𝗼𝘀𝗶𝘁𝗶𝗼𝗻)\n",
        "    - detect errors such as typos, where letters are swapped (e.g., \"adn\" → \"and\")\n",
        "\n",
        "Why / When it is good 🤗\n",
        "- 𝘀𝗶𝗺𝗽𝗹𝗲 𝗮𝗻𝗱 𝗶𝗻𝘁𝘂𝗶𝘁𝗶𝘃𝗲\n",
        "- great for near match, minor variation\n",
        "- 𝗴𝗿𝗲𝗮𝘁 𝗳𝗼𝗿 𝘀𝗵𝗼𝗿𝘁 𝗮𝗻𝘀𝘄𝗲𝗿 𝘁𝗮𝘀𝗸𝘀\n",
        "- better when precise words are expected\n",
        "- language agnostic\n",
        "- computational efficient\n",
        "\n",
        "Why / When not good ❌\n",
        "- 𝘀𝗲𝗺𝗮𝗻𝘁𝗶𝗰 𝘀𝗶𝗺𝗶𝗹𝗮𝗿𝗶𝘁𝘆 𝗶𝘀 𝗶𝗻𝗴𝗼𝗿𝗲𝗱. \"Car\" and \"Automobile\" would be considerable different.\n",
        "- 𝗦𝘁𝗿𝘂𝗴𝗴𝗹𝗲𝘀 𝘄𝗶𝘁𝗵 𝗹𝗼𝗻𝗴𝗲𝗿 𝘁𝗲𝘅𝘁\n",
        "- negation can kill it - \"I will come with you\" is the opposite of \"I will not come with you\" but with still be fairly similar under DL distance."
      ],
      "metadata": {
        "id": "zklowmjTn-lF"
      }
    },
    {
      "cell_type": "code",
      "source": [
        "!pip install pyxDamerauLevenshtein --quiet"
      ],
      "metadata": {
        "colab": {
          "base_uri": "https://localhost:8080/"
        },
        "id": "VlduqmTypPGq",
        "outputId": "394b7845-05f9-4f88-8f06-4b7db5b60e0b"
      },
      "execution_count": 19,
      "outputs": [
        {
          "output_type": "stream",
          "name": "stdout",
          "text": [
            "\u001b[?25l     \u001b[90m━━━━━━━━━━━━━━━━━━━━━━━━━━━━━━━━━━━━━━━━\u001b[0m \u001b[32m0.0/62.6 kB\u001b[0m \u001b[31m?\u001b[0m eta \u001b[36m-:--:--\u001b[0m\r\u001b[2K     \u001b[90m━━━━━━━━━━━━━━━━━━━━━━━━━━━━━━━━━━━━━━━━\u001b[0m \u001b[32m62.6/62.6 kB\u001b[0m \u001b[31m3.8 MB/s\u001b[0m eta \u001b[36m0:00:00\u001b[0m\n",
            "\u001b[?25h  Installing build dependencies ... \u001b[?25l\u001b[?25hdone\n",
            "  Getting requirements to build wheel ... \u001b[?25l\u001b[?25hdone\n",
            "  Preparing metadata (pyproject.toml) ... \u001b[?25l\u001b[?25hdone\n",
            "  Building wheel for pyxDamerauLevenshtein (pyproject.toml) ... \u001b[?25l\u001b[?25hdone\n"
          ]
        }
      ]
    },
    {
      "cell_type": "code",
      "source": [
        "from pyxdameraulevenshtein import damerau_levenshtein_distance\n",
        "from pyxdameraulevenshtein import normalized_damerau_levenshtein_distance"
      ],
      "metadata": {
        "id": "eQYrmr3joBhp"
      },
      "execution_count": 20,
      "outputs": []
    },
    {
      "cell_type": "code",
      "source": [
        "references = [\n",
        "    \"I love chocolate, with my coffee in the morning!!\",\n",
        "    \"hey, the cat is here!\"\n",
        "]\n",
        "\n",
        "predictions = [\n",
        "    \"I eat chocolate with coffee every morning\",\n",
        "    \"hey, your cat is here!\"\n",
        "]"
      ],
      "metadata": {
        "id": "eTeE06EWpQA8"
      },
      "execution_count": 21,
      "outputs": []
    },
    {
      "cell_type": "code",
      "source": [
        "for r, p in zip(references, predictions):\n",
        "\n",
        "    print(\"----- w/o text normalization\\n\")\n",
        "    print(f\"regular: \\t{damerau_levenshtein_distance(r, p)}\")\n",
        "    print(f\"normalized: \\t{round(normalized_damerau_levenshtein_distance(r, p),3)}\\n\")\n",
        "\n",
        "    print(\"----- with text normalization\\n\")\n",
        "    nr, np = normalize_text(r), normalize_text(p)\n",
        "    print(f\"regular: \\t{damerau_levenshtein_distance(nr, np)}\")\n",
        "    print(f\"normalized: \\t{round(normalized_damerau_levenshtein_distance(nr, np),3)}\\n\\n\")"
      ],
      "metadata": {
        "colab": {
          "base_uri": "https://localhost:8080/"
        },
        "id": "srpMqDEtpU3B",
        "outputId": "1868b9af-2e72-4ab8-ff26-ee202e68e5c6"
      },
      "execution_count": 22,
      "outputs": [
        {
          "output_type": "stream",
          "name": "stdout",
          "text": [
            "----- w/o text normalization\n",
            "\n",
            "regular: \t16\n",
            "normalized: \t0.327\n",
            "\n",
            "----- with text normalization\n",
            "\n",
            "regular: \t12\n",
            "normalized: \t0.286\n",
            "\n",
            "\n",
            "----- w/o text normalization\n",
            "\n",
            "regular: \t4\n",
            "normalized: \t0.182\n",
            "\n",
            "----- with text normalization\n",
            "\n",
            "regular: \t5\n",
            "normalized: \t0.25\n",
            "\n",
            "\n"
          ]
        }
      ]
    },
    {
      "cell_type": "markdown",
      "source": [
        "# Embedding Distance"
      ],
      "metadata": {
        "id": "pHZXxBPcs0Q4"
      }
    },
    {
      "cell_type": "code",
      "source": [
        "from sentence_transformers import SentenceTransformer\n",
        "import numpy as np\n",
        "\n",
        "def calculate_similarity_score(references, predictions):\n",
        "    # Load a pretrained Sentence Transformer model\n",
        "    model = SentenceTransformer(\"all-MiniLM-L6-v2\")\n",
        "\n",
        "    similarity_score = {\"overall\": 0.0, \"scores\": []}\n",
        "\n",
        "    for refs, preds in zip(references, predictions):\n",
        "        # Encode all references and predictions in batches\n",
        "        ref_embeddings = model.encode(refs, convert_to_tensor=True)\n",
        "        pred_embeddings = model.encode(preds, convert_to_tensor=True)\n",
        "\n",
        "        # Calculate the similarity matrix\n",
        "        similarity_matrix = model.similarity(ref_embeddings, pred_embeddings)\n",
        "\n",
        "        # Find the maximum similarity score for each reference\n",
        "        max_sim = similarity_matrix.max(dim=1).values.max().item()\n",
        "        similarity_score[\"scores\"].append(max_sim)\n",
        "\n",
        "    # Calculate the overall mean score\n",
        "    similarity_score[\"overall\"] = np.mean(similarity_score[\"scores\"])\n",
        "\n",
        "    return similarity_score\n",
        "\n",
        "# Example usage\n",
        "references = [\n",
        "    [\"2024.\", \"two thousand twenty-four\"],\n",
        "    [\"Hello\"],\n",
        "    [\"I like you\"]\n",
        "]\n",
        "predictions = [\n",
        "    [\"Year 2024\"],\n",
        "    [\"Hi\"],\n",
        "    [\"Planet Earth is big\"]\n",
        "]\n",
        "\n",
        "similarity_score = calculate_similarity_score(references, predictions)\n",
        "print(similarity_score)"
      ],
      "metadata": {
        "colab": {
          "base_uri": "https://localhost:8080/"
        },
        "id": "sSXryfO90Npp",
        "outputId": "5aab98b5-5ca9-4948-f054-1d5eeb541f0f"
      },
      "execution_count": 92,
      "outputs": [
        {
          "output_type": "stream",
          "name": "stdout",
          "text": [
            "{'overall': 0.6170853773752848, 'scores': [0.8899925947189331, 0.8071528673171997, 0.15411067008972168]}\n"
          ]
        }
      ]
    }
  ]
}