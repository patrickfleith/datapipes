{
  "nbformat": 4,
  "nbformat_minor": 0,
  "metadata": {
    "colab": {
      "provenance": [],
      "authorship_tag": "ABX9TyNOHxpERiaeudVWySP2ixlx",
      "include_colab_link": true
    },
    "kernelspec": {
      "name": "python3",
      "display_name": "Python 3"
    },
    "language_info": {
      "name": "python"
    },
    "widgets": {
      "application/vnd.jupyter.widget-state+json": {
        "63dae9ba47c344c18a64f26536f236b0": {
          "model_module": "@jupyter-widgets/controls",
          "model_name": "HBoxModel",
          "model_module_version": "1.5.0",
          "state": {
            "_dom_classes": [],
            "_model_module": "@jupyter-widgets/controls",
            "_model_module_version": "1.5.0",
            "_model_name": "HBoxModel",
            "_view_count": null,
            "_view_module": "@jupyter-widgets/controls",
            "_view_module_version": "1.5.0",
            "_view_name": "HBoxView",
            "box_style": "",
            "children": [
              "IPY_MODEL_29520a85343e40039968cba09d22a374",
              "IPY_MODEL_0d8e54484e61483494e42f351b280b98",
              "IPY_MODEL_f4400adc3c9a4cc7afca530b8d132447"
            ],
            "layout": "IPY_MODEL_2f177421f4e04369bc5eacd328e11b53"
          }
        },
        "29520a85343e40039968cba09d22a374": {
          "model_module": "@jupyter-widgets/controls",
          "model_name": "HTMLModel",
          "model_module_version": "1.5.0",
          "state": {
            "_dom_classes": [],
            "_model_module": "@jupyter-widgets/controls",
            "_model_module_version": "1.5.0",
            "_model_name": "HTMLModel",
            "_view_count": null,
            "_view_module": "@jupyter-widgets/controls",
            "_view_module_version": "1.5.0",
            "_view_name": "HTMLView",
            "description": "",
            "description_tooltip": null,
            "layout": "IPY_MODEL_6fcfd044a5644e099917a88c8b810c9b",
            "placeholder": "​",
            "style": "IPY_MODEL_ccf3c2e2806a4dedb3783d2e867e13ff",
            "value": "Downloading builder script: 100%"
          }
        },
        "0d8e54484e61483494e42f351b280b98": {
          "model_module": "@jupyter-widgets/controls",
          "model_name": "FloatProgressModel",
          "model_module_version": "1.5.0",
          "state": {
            "_dom_classes": [],
            "_model_module": "@jupyter-widgets/controls",
            "_model_module_version": "1.5.0",
            "_model_name": "FloatProgressModel",
            "_view_count": null,
            "_view_module": "@jupyter-widgets/controls",
            "_view_module_version": "1.5.0",
            "_view_name": "ProgressView",
            "bar_style": "success",
            "description": "",
            "description_tooltip": null,
            "layout": "IPY_MODEL_7e5b5a86609f4b41ad602f5cfa59c579",
            "max": 5669,
            "min": 0,
            "orientation": "horizontal",
            "style": "IPY_MODEL_9e670746b99e4ee69d965ae9e1bacf47",
            "value": 5669
          }
        },
        "f4400adc3c9a4cc7afca530b8d132447": {
          "model_module": "@jupyter-widgets/controls",
          "model_name": "HTMLModel",
          "model_module_version": "1.5.0",
          "state": {
            "_dom_classes": [],
            "_model_module": "@jupyter-widgets/controls",
            "_model_module_version": "1.5.0",
            "_model_name": "HTMLModel",
            "_view_count": null,
            "_view_module": "@jupyter-widgets/controls",
            "_view_module_version": "1.5.0",
            "_view_name": "HTMLView",
            "description": "",
            "description_tooltip": null,
            "layout": "IPY_MODEL_90cfc2df8a4f44c89e134a5bfdcc812e",
            "placeholder": "​",
            "style": "IPY_MODEL_2da16af9daf14c1591f3d93ab9ddd982",
            "value": " 5.67k/5.67k [00:00&lt;00:00, 227kB/s]"
          }
        },
        "2f177421f4e04369bc5eacd328e11b53": {
          "model_module": "@jupyter-widgets/base",
          "model_name": "LayoutModel",
          "model_module_version": "1.2.0",
          "state": {
            "_model_module": "@jupyter-widgets/base",
            "_model_module_version": "1.2.0",
            "_model_name": "LayoutModel",
            "_view_count": null,
            "_view_module": "@jupyter-widgets/base",
            "_view_module_version": "1.2.0",
            "_view_name": "LayoutView",
            "align_content": null,
            "align_items": null,
            "align_self": null,
            "border": null,
            "bottom": null,
            "display": null,
            "flex": null,
            "flex_flow": null,
            "grid_area": null,
            "grid_auto_columns": null,
            "grid_auto_flow": null,
            "grid_auto_rows": null,
            "grid_column": null,
            "grid_gap": null,
            "grid_row": null,
            "grid_template_areas": null,
            "grid_template_columns": null,
            "grid_template_rows": null,
            "height": null,
            "justify_content": null,
            "justify_items": null,
            "left": null,
            "margin": null,
            "max_height": null,
            "max_width": null,
            "min_height": null,
            "min_width": null,
            "object_fit": null,
            "object_position": null,
            "order": null,
            "overflow": null,
            "overflow_x": null,
            "overflow_y": null,
            "padding": null,
            "right": null,
            "top": null,
            "visibility": null,
            "width": null
          }
        },
        "6fcfd044a5644e099917a88c8b810c9b": {
          "model_module": "@jupyter-widgets/base",
          "model_name": "LayoutModel",
          "model_module_version": "1.2.0",
          "state": {
            "_model_module": "@jupyter-widgets/base",
            "_model_module_version": "1.2.0",
            "_model_name": "LayoutModel",
            "_view_count": null,
            "_view_module": "@jupyter-widgets/base",
            "_view_module_version": "1.2.0",
            "_view_name": "LayoutView",
            "align_content": null,
            "align_items": null,
            "align_self": null,
            "border": null,
            "bottom": null,
            "display": null,
            "flex": null,
            "flex_flow": null,
            "grid_area": null,
            "grid_auto_columns": null,
            "grid_auto_flow": null,
            "grid_auto_rows": null,
            "grid_column": null,
            "grid_gap": null,
            "grid_row": null,
            "grid_template_areas": null,
            "grid_template_columns": null,
            "grid_template_rows": null,
            "height": null,
            "justify_content": null,
            "justify_items": null,
            "left": null,
            "margin": null,
            "max_height": null,
            "max_width": null,
            "min_height": null,
            "min_width": null,
            "object_fit": null,
            "object_position": null,
            "order": null,
            "overflow": null,
            "overflow_x": null,
            "overflow_y": null,
            "padding": null,
            "right": null,
            "top": null,
            "visibility": null,
            "width": null
          }
        },
        "ccf3c2e2806a4dedb3783d2e867e13ff": {
          "model_module": "@jupyter-widgets/controls",
          "model_name": "DescriptionStyleModel",
          "model_module_version": "1.5.0",
          "state": {
            "_model_module": "@jupyter-widgets/controls",
            "_model_module_version": "1.5.0",
            "_model_name": "DescriptionStyleModel",
            "_view_count": null,
            "_view_module": "@jupyter-widgets/base",
            "_view_module_version": "1.2.0",
            "_view_name": "StyleView",
            "description_width": ""
          }
        },
        "7e5b5a86609f4b41ad602f5cfa59c579": {
          "model_module": "@jupyter-widgets/base",
          "model_name": "LayoutModel",
          "model_module_version": "1.2.0",
          "state": {
            "_model_module": "@jupyter-widgets/base",
            "_model_module_version": "1.2.0",
            "_model_name": "LayoutModel",
            "_view_count": null,
            "_view_module": "@jupyter-widgets/base",
            "_view_module_version": "1.2.0",
            "_view_name": "LayoutView",
            "align_content": null,
            "align_items": null,
            "align_self": null,
            "border": null,
            "bottom": null,
            "display": null,
            "flex": null,
            "flex_flow": null,
            "grid_area": null,
            "grid_auto_columns": null,
            "grid_auto_flow": null,
            "grid_auto_rows": null,
            "grid_column": null,
            "grid_gap": null,
            "grid_row": null,
            "grid_template_areas": null,
            "grid_template_columns": null,
            "grid_template_rows": null,
            "height": null,
            "justify_content": null,
            "justify_items": null,
            "left": null,
            "margin": null,
            "max_height": null,
            "max_width": null,
            "min_height": null,
            "min_width": null,
            "object_fit": null,
            "object_position": null,
            "order": null,
            "overflow": null,
            "overflow_x": null,
            "overflow_y": null,
            "padding": null,
            "right": null,
            "top": null,
            "visibility": null,
            "width": null
          }
        },
        "9e670746b99e4ee69d965ae9e1bacf47": {
          "model_module": "@jupyter-widgets/controls",
          "model_name": "ProgressStyleModel",
          "model_module_version": "1.5.0",
          "state": {
            "_model_module": "@jupyter-widgets/controls",
            "_model_module_version": "1.5.0",
            "_model_name": "ProgressStyleModel",
            "_view_count": null,
            "_view_module": "@jupyter-widgets/base",
            "_view_module_version": "1.2.0",
            "_view_name": "StyleView",
            "bar_color": null,
            "description_width": ""
          }
        },
        "90cfc2df8a4f44c89e134a5bfdcc812e": {
          "model_module": "@jupyter-widgets/base",
          "model_name": "LayoutModel",
          "model_module_version": "1.2.0",
          "state": {
            "_model_module": "@jupyter-widgets/base",
            "_model_module_version": "1.2.0",
            "_model_name": "LayoutModel",
            "_view_count": null,
            "_view_module": "@jupyter-widgets/base",
            "_view_module_version": "1.2.0",
            "_view_name": "LayoutView",
            "align_content": null,
            "align_items": null,
            "align_self": null,
            "border": null,
            "bottom": null,
            "display": null,
            "flex": null,
            "flex_flow": null,
            "grid_area": null,
            "grid_auto_columns": null,
            "grid_auto_flow": null,
            "grid_auto_rows": null,
            "grid_column": null,
            "grid_gap": null,
            "grid_row": null,
            "grid_template_areas": null,
            "grid_template_columns": null,
            "grid_template_rows": null,
            "height": null,
            "justify_content": null,
            "justify_items": null,
            "left": null,
            "margin": null,
            "max_height": null,
            "max_width": null,
            "min_height": null,
            "min_width": null,
            "object_fit": null,
            "object_position": null,
            "order": null,
            "overflow": null,
            "overflow_x": null,
            "overflow_y": null,
            "padding": null,
            "right": null,
            "top": null,
            "visibility": null,
            "width": null
          }
        },
        "2da16af9daf14c1591f3d93ab9ddd982": {
          "model_module": "@jupyter-widgets/controls",
          "model_name": "DescriptionStyleModel",
          "model_module_version": "1.5.0",
          "state": {
            "_model_module": "@jupyter-widgets/controls",
            "_model_module_version": "1.5.0",
            "_model_name": "DescriptionStyleModel",
            "_view_count": null,
            "_view_module": "@jupyter-widgets/base",
            "_view_module_version": "1.2.0",
            "_view_name": "StyleView",
            "description_width": ""
          }
        }
      }
    }
  },
  "cells": [
    {
      "cell_type": "markdown",
      "metadata": {
        "id": "view-in-github",
        "colab_type": "text"
      },
      "source": [
        "<a href=\"https://colab.research.google.com/github/patrickfleith/datapipes/blob/main/SQuADv2_%2B_Damerau_Levenshtein_Distance_%5BWIP%5D.ipynb\" target=\"_parent\"><img src=\"https://colab.research.google.com/assets/colab-badge.svg\" alt=\"Open In Colab\"/></a>"
      ]
    },
    {
      "cell_type": "code",
      "execution_count": 2,
      "metadata": {
        "colab": {
          "base_uri": "https://localhost:8080/"
        },
        "id": "6vxT48asfisT",
        "outputId": "e3f01968-c1a0-4f83-9acb-5cda27babf2a"
      },
      "outputs": [
        {
          "output_type": "stream",
          "name": "stdout",
          "text": [
            "\u001b[?25l   \u001b[90m━━━━━━━━━━━━━━━━━━━━━━━━━━━━━━━━━━━━━━━━\u001b[0m \u001b[32m0.0/84.0 kB\u001b[0m \u001b[31m?\u001b[0m eta \u001b[36m-:--:--\u001b[0m\r\u001b[2K   \u001b[90m━━━━━━━━━━━━━━━━━━━━━━━━━━━━━━━━━━━━━━━━\u001b[0m \u001b[32m84.0/84.0 kB\u001b[0m \u001b[31m1.9 MB/s\u001b[0m eta \u001b[36m0:00:00\u001b[0m\n",
            "\u001b[?25h\u001b[?25l   \u001b[90m━━━━━━━━━━━━━━━━━━━━━━━━━━━━━━━━━━━━━━━━\u001b[0m \u001b[32m0.0/480.6 kB\u001b[0m \u001b[31m?\u001b[0m eta \u001b[36m-:--:--\u001b[0m\r\u001b[2K   \u001b[91m━━━━━━━━━━━━━━━━━━━━━━━━━━━━━━━━━━━━━━━\u001b[0m\u001b[90m╺\u001b[0m \u001b[32m471.0/480.6 kB\u001b[0m \u001b[31m27.6 MB/s\u001b[0m eta \u001b[36m0:00:01\u001b[0m\r\u001b[2K   \u001b[90m━━━━━━━━━━━━━━━━━━━━━━━━━━━━━━━━━━━━━━━━\u001b[0m \u001b[32m480.6/480.6 kB\u001b[0m \u001b[31m10.1 MB/s\u001b[0m eta \u001b[36m0:00:00\u001b[0m\n",
            "\u001b[2K   \u001b[90m━━━━━━━━━━━━━━━━━━━━━━━━━━━━━━━━━━━━━━━━\u001b[0m \u001b[32m116.3/116.3 kB\u001b[0m \u001b[31m6.0 MB/s\u001b[0m eta \u001b[36m0:00:00\u001b[0m\n",
            "\u001b[2K   \u001b[90m━━━━━━━━━━━━━━━━━━━━━━━━━━━━━━━━━━━━━━━━\u001b[0m \u001b[32m179.3/179.3 kB\u001b[0m \u001b[31m9.5 MB/s\u001b[0m eta \u001b[36m0:00:00\u001b[0m\n",
            "\u001b[2K   \u001b[90m━━━━━━━━━━━━━━━━━━━━━━━━━━━━━━━━━━━━━━━━\u001b[0m \u001b[32m134.8/134.8 kB\u001b[0m \u001b[31m1.4 MB/s\u001b[0m eta \u001b[36m0:00:00\u001b[0m\n",
            "\u001b[2K   \u001b[90m━━━━━━━━━━━━━━━━━━━━━━━━━━━━━━━━━━━━━━━━\u001b[0m \u001b[32m194.1/194.1 kB\u001b[0m \u001b[31m9.2 MB/s\u001b[0m eta \u001b[36m0:00:00\u001b[0m\n",
            "\u001b[?25h\u001b[31mERROR: pip's dependency resolver does not currently take into account all the packages that are installed. This behaviour is the source of the following dependency conflicts.\n",
            "gcsfs 2024.10.0 requires fsspec==2024.10.0, but you have fsspec 2024.9.0 which is incompatible.\u001b[0m\u001b[31m\n",
            "\u001b[0m"
          ]
        }
      ],
      "source": [
        "!pip install evaluate --quiet\n",
        "# You can safely ignore ERROR related to requirements to fsspec==2024.10.0 etc."
      ]
    },
    {
      "cell_type": "code",
      "source": [
        "from evaluate import load\n",
        "squadv2_metric = load(\"exact_match\")"
      ],
      "metadata": {
        "colab": {
          "base_uri": "https://localhost:8080/",
          "height": 49,
          "referenced_widgets": [
            "63dae9ba47c344c18a64f26536f236b0",
            "29520a85343e40039968cba09d22a374",
            "0d8e54484e61483494e42f351b280b98",
            "f4400adc3c9a4cc7afca530b8d132447",
            "2f177421f4e04369bc5eacd328e11b53",
            "6fcfd044a5644e099917a88c8b810c9b",
            "ccf3c2e2806a4dedb3783d2e867e13ff",
            "7e5b5a86609f4b41ad602f5cfa59c579",
            "9e670746b99e4ee69d965ae9e1bacf47",
            "90cfc2df8a4f44c89e134a5bfdcc812e",
            "2da16af9daf14c1591f3d93ab9ddd982"
          ]
        },
        "id": "CBusUGbVflbQ",
        "outputId": "69195c9c-462d-482a-9a35-f7a72f8024d9"
      },
      "execution_count": 3,
      "outputs": [
        {
          "output_type": "display_data",
          "data": {
            "text/plain": [
              "Downloading builder script:   0%|          | 0.00/5.67k [00:00<?, ?B/s]"
            ],
            "application/vnd.jupyter.widget-view+json": {
              "version_major": 2,
              "version_minor": 0,
              "model_id": "63dae9ba47c344c18a64f26536f236b0"
            }
          },
          "metadata": {}
        }
      ]
    },
    {
      "cell_type": "markdown",
      "source": [
        "## SQuAD v2 Metric\n",
        "This metric wraps the official scoring script for version 2 of the Stanford Question Answering Dataset (SQuAD).\n",
        "\n",
        "SQuAD is a reading comprehension dataset, consisting of questions posed by crowdworkers on a set of Wikipedia articles, where the answer to every question is a segment of text, or span, from the corresponding reading passage, or the question might be unanswerable.\n",
        "\n",
        "SQuAD 2.0 combines the 100,000 questions in SQuAD 1.1 with over 50,000 unanswerable questions written adversarially by crowdworkers to look similar to answerable ones. To do well on SQuAD2.0, systems must not only answer questions when possible, but also determine when no answer is supported by the paragraph and abstain from answering.\n",
        "\n",
        "<hr>\n",
        "\n",
        "**How to use?**\n",
        "\n",
        "The metric takes two files or two lists - one representing model predictions and the other the references to compare them to.\n",
        "\n",
        "*Predictions* : List of triple for question-answers to score with the following key-value pairs:\n",
        "\n",
        "- `id`: the question-answer identification field of the question and answer pair\n",
        "- `prediction_text` : the text of the answer\n",
        "- `no_answer_probability` : the probability that the question has no answer\n",
        "\n",
        "*References*: List of question-answers dictionaries with the following key-value pairs:\n",
        "- `id`: id of the question-answer pair (see above),\n",
        "- `answers`: a list of Dict {‘text’: text of the answer as a string}\n",
        "- `no_answer_threshold`: the probability threshold to decide that a question has no answer."
      ],
      "metadata": {
        "id": "ZvRfsXf8f7Rl"
      }
    },
    {
      "cell_type": "code",
      "source": [
        "from evaluate import load\n",
        "squad_metric = load(\"squad_v2\")\n",
        "\n",
        "predictions = [\n",
        "    {'prediction_text': '1976', 'id': '56e10a3be3433e1400422b22', 'no_answer_probability': 1.},\n",
        "     {'prediction_text': 'Beyonce', 'id': '56d2051ce7d4791d0090260b', 'no_answer_probability': 0.},\n",
        "      {'prediction_text': 'climate change', 'id': '5733b5344776f419006610e1', 'no_answer_probability': 0.}\n",
        "    ]\n",
        "\n",
        "references = [\n",
        "    {'answers': {'answer_start': [97], 'text': ['1976']}, 'id': '56e10a3be3433e1400422b22'},\n",
        "     {'answers': {'answer_start': [233], 'text': ['Beyoncé and Bruno Mars']}, 'id': '56d2051ce7d4791d0090260b'},\n",
        "      {'answers': {'answer_start': [891], 'text': ['climate change']}, 'id': '5733b5344776f419006610e1'}\n",
        "]\n",
        "\n",
        "results = squad_metric.compute(predictions=predictions, references=references)\n",
        "results"
      ],
      "metadata": {
        "colab": {
          "base_uri": "https://localhost:8080/"
        },
        "id": "-UrGcgfDfsWa",
        "outputId": "671cc68b-010a-4ce7-8361-23a4fa124ca1"
      },
      "execution_count": 27,
      "outputs": [
        {
          "output_type": "execute_result",
          "data": {
            "text/plain": [
              "{'exact': 66.66666666666667,\n",
              " 'f1': 66.66666666666667,\n",
              " 'total': 3,\n",
              " 'HasAns_exact': 66.66666666666667,\n",
              " 'HasAns_f1': 66.66666666666667,\n",
              " 'HasAns_total': 3,\n",
              " 'best_exact': 66.66666666666667,\n",
              " 'best_exact_thresh': 1.0,\n",
              " 'best_f1': 66.66666666666667,\n",
              " 'best_f1_thresh': 1.0}"
            ]
          },
          "metadata": {},
          "execution_count": 27
        }
      ]
    },
    {
      "cell_type": "markdown",
      "source": [
        "This metric outputs a dictionary with 13 values:\n",
        "\n",
        "'exact': Exact match (the normalized answer exactly match the gold answer) (see the exact_match metric (forthcoming))\n",
        "'f1': The average F1-score of predicted tokens versus the gold answer (see the F1 score metric)\n",
        "'total': Number of scores considered\n",
        "'HasAns_exact': Exact match (the normalized answer exactly match the gold answer)\n",
        "'HasAns_f1': The F-score of predicted tokens versus the gold answer\n",
        "'HasAns_total': How many of the questions have answers\n",
        "'NoAns_exact': Exact match (the normalized answer exactly match the gold answer)\n",
        "'NoAns_f1': The F-score of predicted tokens versus the gold answer\n",
        "'NoAns_total': How many of the questions have no answers\n",
        "'best_exact' : Best exact match (with varying threshold)\n",
        "'best_exact_thresh': No-answer probability threshold associated to the best exact match\n",
        "'best_f1': Best F1 score (with varying threshold)\n",
        "'best_f1_thresh': No-answer probability threshold associated to the best F1"
      ],
      "metadata": {
        "id": "j-pFrIHTiMZA"
      }
    },
    {
      "cell_type": "code",
      "source": [
        "predictions = [\n",
        "    {'prediction_text': 'hello','no_answer_probability': 0, 'id': '0'},\n",
        "    {'prediction_text': 'bonjour','no_answer_probability': 0, 'id': '1'},\n",
        "    {'prediction_text': '  facebook','no_answer_probability': 0, 'id': '2'}\n",
        "    ]\n",
        "\n",
        "references = [\n",
        "    {'answers': {'answer_start': [0], 'text': ['hello']}, 'id': '0'},\n",
        "    {'answers': {'answer_start': [0], 'text': ['bonjour', 'cats']}, 'id': '1'},\n",
        "    {'answers': {'answer_start': [0], 'text': ['Facebook']}, 'id': '2'},\n",
        "    ]\n",
        "\n",
        "results = squad_metric.compute(predictions=predictions, references=references)\n",
        "results"
      ],
      "metadata": {
        "colab": {
          "base_uri": "https://localhost:8080/"
        },
        "id": "GenXWq_Uem6B",
        "outputId": "d5dc1d0a-f07b-4c0b-9991-81db672a6119"
      },
      "execution_count": 36,
      "outputs": [
        {
          "output_type": "execute_result",
          "data": {
            "text/plain": [
              "{'exact': 100.0,\n",
              " 'f1': 100.0,\n",
              " 'total': 3,\n",
              " 'HasAns_exact': 100.0,\n",
              " 'HasAns_f1': 100.0,\n",
              " 'HasAns_total': 3,\n",
              " 'best_exact': 100.0,\n",
              " 'best_exact_thresh': 0.0,\n",
              " 'best_f1': 100.0,\n",
              " 'best_f1_thresh': 0.0}"
            ]
          },
          "metadata": {},
          "execution_count": 36
        }
      ]
    },
    {
      "cell_type": "code",
      "source": [
        "predictions = [\n",
        "    {'prediction_text': '','no_answer_probability': 1, 'id': '0'},\n",
        "    {'prediction_text': 'bonjour','no_answer_probability': 0, 'id': '1'},\n",
        "    {'prediction_text': '  facebook','no_answer_probability': 0, 'id': '2'}\n",
        "    ]\n",
        "\n",
        "references = [\n",
        "    {'answers': {'answer_start': [0], 'text': []}, 'id': '0'},\n",
        "    {'answers': {'answer_start': [0], 'text': ['bonjour', 'cats']}, 'id': '1'},\n",
        "    {'answers': {'answer_start': [0], 'text': ['Facebook']}, 'id': '2'},\n",
        "    ]\n",
        "\n",
        "results = squad_metric.compute(predictions=predictions, references=references)\n",
        "results"
      ],
      "metadata": {
        "colab": {
          "base_uri": "https://localhost:8080/"
        },
        "id": "wkRzPEWillBB",
        "outputId": "3b1bb8c4-806d-4c4e-f5d0-efa0617c95f9"
      },
      "execution_count": 41,
      "outputs": [
        {
          "output_type": "execute_result",
          "data": {
            "text/plain": [
              "{'exact': 100.0,\n",
              " 'f1': 100.0,\n",
              " 'total': 3,\n",
              " 'HasAns_exact': 100.0,\n",
              " 'HasAns_f1': 100.0,\n",
              " 'HasAns_total': 2,\n",
              " 'NoAns_exact': 100.0,\n",
              " 'NoAns_f1': 100.0,\n",
              " 'NoAns_total': 1,\n",
              " 'best_exact': 100.0,\n",
              " 'best_exact_thresh': 0.0,\n",
              " 'best_f1': 100.0,\n",
              " 'best_f1_thresh': 0.0}"
            ]
          },
          "metadata": {},
          "execution_count": 41
        }
      ]
    },
    {
      "cell_type": "code",
      "source": [
        "!pip install pyxDamerauLevenshtein --quiet"
      ],
      "metadata": {
        "colab": {
          "base_uri": "https://localhost:8080/"
        },
        "id": "EfJslqRpmjCi",
        "outputId": "1c653a53-6486-4cba-cc38-92e7983f6bda"
      },
      "execution_count": 46,
      "outputs": [
        {
          "output_type": "stream",
          "name": "stdout",
          "text": [
            "\u001b[?25l     \u001b[90m━━━━━━━━━━━━━━━━━━━━━━━━━━━━━━━━━━━━━━━━\u001b[0m \u001b[32m0.0/62.6 kB\u001b[0m \u001b[31m?\u001b[0m eta \u001b[36m-:--:--\u001b[0m\r\u001b[2K     \u001b[91m━━━━━━━━━━━━━━━━━━━━━━━━━━━━━━━━━━━━━━━\u001b[0m\u001b[90m╺\u001b[0m \u001b[32m61.4/62.6 kB\u001b[0m \u001b[31m2.4 MB/s\u001b[0m eta \u001b[36m0:00:01\u001b[0m\r\u001b[2K     \u001b[90m━━━━━━━━━━━━━━━━━━━━━━━━━━━━━━━━━━━━━━━━\u001b[0m \u001b[32m62.6/62.6 kB\u001b[0m \u001b[31m1.4 MB/s\u001b[0m eta \u001b[36m0:00:00\u001b[0m\n",
            "\u001b[?25h  Installing build dependencies ... \u001b[?25l\u001b[?25hdone\n",
            "  Getting requirements to build wheel ... \u001b[?25l\u001b[?25hdone\n",
            "  Preparing metadata (pyproject.toml) ... \u001b[?25l\u001b[?25hdone\n",
            "  Building wheel for pyxDamerauLevenshtein (pyproject.toml) ... \u001b[?25l\u001b[?25hdone\n"
          ]
        }
      ]
    },
    {
      "cell_type": "code",
      "source": [
        "import re\n",
        "import string\n",
        "\n",
        "def normalize_text(s):\n",
        "    \"\"\"\n",
        "    Normalize a text string by applying several transformations:\n",
        "    1. Convert all characters to lowercase.\n",
        "    2. Remove punctuation marks.\n",
        "    3. Remove articles (\"a\", \"an\", \"the\").\n",
        "    4. Remove extra whitespace.\n",
        "    \"\"\"\n",
        "    ARTICLES_REGEX = re.compile(r\"\\b(a|an|the)\\b\", re.UNICODE)\n",
        "\n",
        "    def remove_articles(text):\n",
        "        return ARTICLES_REGEX.sub(\" \", text)\n",
        "\n",
        "    def white_space_fix(text):\n",
        "        return \" \".join(text.split())\n",
        "\n",
        "    def remove_punc(text):\n",
        "        exclude = set(string.punctuation)\n",
        "        return \"\".join(ch for ch in text if ch not in exclude)\n",
        "\n",
        "    def lower(text):\n",
        "        return text.lower()\n",
        "\n",
        "    return white_space_fix(remove_articles(remove_punc(lower(s))))"
      ],
      "metadata": {
        "id": "9_rIrCf3mhV2"
      },
      "execution_count": 75,
      "outputs": []
    },
    {
      "cell_type": "code",
      "source": [
        "normalize_text(\"The Quick, brown fox jumped over the Lazy DOG!!\")"
      ],
      "metadata": {
        "colab": {
          "base_uri": "https://localhost:8080/",
          "height": 35
        },
        "id": "Mq1BQhJQmyXY",
        "outputId": "c3ee5673-bb3e-46aa-aa37-f9f8c9c372dc"
      },
      "execution_count": 74,
      "outputs": [
        {
          "output_type": "execute_result",
          "data": {
            "text/plain": [
              "'quick brown fox jumped over lazy dog'"
            ],
            "application/vnd.google.colaboratory.intrinsic+json": {
              "type": "string"
            }
          },
          "metadata": {},
          "execution_count": 74
        }
      ]
    },
    {
      "cell_type": "code",
      "source": [
        "from pyxdameraulevenshtein import damerau_levenshtein_distance\n",
        "from pyxdameraulevenshtein import normalized_damerau_levenshtein_distance"
      ],
      "metadata": {
        "id": "zVihDZ6Zm401"
      },
      "execution_count": 53,
      "outputs": []
    },
    {
      "cell_type": "code",
      "source": [
        "references = [\n",
        "    \"I love chocolate, with my coffee in the morning!!\",\n",
        "    \"hey, the cat is here!\"\n",
        "]\n",
        "\n",
        "predictions = [\n",
        "    \"I eat chocolate with coffee every morning\",\n",
        "    \"hey, your cat is here!\"\n",
        "]"
      ],
      "metadata": {
        "id": "kj-3txaKnDJu"
      },
      "execution_count": 55,
      "outputs": []
    },
    {
      "cell_type": "code",
      "source": [
        "for r, p in zip(references, predictions):\n",
        "\n",
        "    print(\"----- w/o text normalization\\n\")\n",
        "    print(f\"regular: \\t{damerau_levenshtein_distance(r, p)}\")\n",
        "    print(f\"normalized: \\t{round(normalized_damerau_levenshtein_distance(r, p),3)}\\n\")\n",
        "\n",
        "    print(\"----- with text normalization\\n\")\n",
        "    nr, np = normalize_text(r), normalize_text(p)\n",
        "    print(f\"regular: \\t{damerau_levenshtein_distance(nr, np)}\")\n",
        "    print(f\"normalized: \\t{round(normalized_damerau_levenshtein_distance(nr, np),3)}\\n\\n\")"
      ],
      "metadata": {
        "colab": {
          "base_uri": "https://localhost:8080/"
        },
        "id": "Xhv7z6NQr4uA",
        "outputId": "1d914047-4757-4fc8-fc84-aa48dcc8b158"
      },
      "execution_count": 69,
      "outputs": [
        {
          "output_type": "stream",
          "name": "stdout",
          "text": [
            "----- w/o text normalization\n",
            "\n",
            "regular: \t16\n",
            "normalized: \t0.327\n",
            "\n",
            "----- with text normalization\n",
            "\n",
            "regular: \t12\n",
            "normalized: \t0.286\n",
            "\n",
            "\n",
            "----- w/o text normalization\n",
            "\n",
            "regular: \t4\n",
            "normalized: \t0.182\n",
            "\n",
            "----- with text normalization\n",
            "\n",
            "regular: \t5\n",
            "normalized: \t0.25\n",
            "\n",
            "\n"
          ]
        }
      ]
    },
    {
      "cell_type": "code",
      "source": [
        "for r, p in zip(references, predictions):\n",
        ""
      ],
      "metadata": {
        "colab": {
          "base_uri": "https://localhost:8080/"
        },
        "id": "mSQc09VLsRT6",
        "outputId": "4f8c2761-6240-47eb-8165-f69fedf4b64a"
      },
      "execution_count": 62,
      "outputs": [
        {
          "output_type": "stream",
          "name": "stdout",
          "text": [
            "regular: \t12\n",
            "normalized: \t0.286\n",
            "\n",
            "regular: \t5\n",
            "normalized: \t0.25\n",
            "\n"
          ]
        }
      ]
    },
    {
      "cell_type": "code",
      "source": [
        "damerau_levenshtein_distance(references[0], predictions[0]), damerau_levenshtein_distance(references[1], predictions[1])"
      ],
      "metadata": {
        "colab": {
          "base_uri": "https://localhost:8080/"
        },
        "id": "KwYPwULxoLgV",
        "outputId": "b6a445b8-2218-440b-f8b8-613e0bd061e7"
      },
      "execution_count": 15,
      "outputs": [
        {
          "output_type": "execute_result",
          "data": {
            "text/plain": [
              "(16, 2)"
            ]
          },
          "metadata": {},
          "execution_count": 15
        }
      ]
    },
    {
      "cell_type": "code",
      "source": [
        "round(normalized_damerau_levenshtein_distance(references[0], predictions[0]),4), round(normalized_damerau_levenshtein_distance(references[1], predictions[1]),4)"
      ],
      "metadata": {
        "colab": {
          "base_uri": "https://localhost:8080/"
        },
        "id": "FCJaST8HoNkM",
        "outputId": "671d9fa5-42b1-4c5b-9515-f0d1bade5aeb"
      },
      "execution_count": 16,
      "outputs": [
        {
          "output_type": "execute_result",
          "data": {
            "text/plain": [
              "(0.3265, 0.0952)"
            ]
          },
          "metadata": {},
          "execution_count": 16
        }
      ]
    },
    {
      "cell_type": "code",
      "source": [
        "nr = [normalize_answer(s) for s in references]\n",
        "np = [normalize_answer(s) for s in predictions]"
      ],
      "metadata": {
        "id": "51N0CZdvoP_l"
      },
      "execution_count": 19,
      "outputs": []
    },
    {
      "cell_type": "code",
      "source": [
        "damerau_levenshtein_distance(nr[0], np[0]), damerau_levenshtein_distance(nr[1], np[1])"
      ],
      "metadata": {
        "colab": {
          "base_uri": "https://localhost:8080/"
        },
        "id": "H3KR-fT1oxLH",
        "outputId": "a270ceb5-99f4-4cc9-d967-ed1c68dc3b69"
      },
      "execution_count": 21,
      "outputs": [
        {
          "output_type": "execute_result",
          "data": {
            "text/plain": [
              "(12, 4)"
            ]
          },
          "metadata": {},
          "execution_count": 21
        }
      ]
    },
    {
      "cell_type": "code",
      "source": [
        "round(normalized_damerau_levenshtein_distance(nr[0], np[0]),4), round(normalized_damerau_levenshtein_distance(nr[1], np[1]),4)"
      ],
      "metadata": {
        "colab": {
          "base_uri": "https://localhost:8080/"
        },
        "id": "T4QgfLULo6LB",
        "outputId": "ce3647e7-0c29-4be0-bfb4-729ce9f70294"
      },
      "execution_count": 22,
      "outputs": [
        {
          "output_type": "execute_result",
          "data": {
            "text/plain": [
              "(0.2857, 0.2105)"
            ]
          },
          "metadata": {},
          "execution_count": 22
        }
      ]
    }
  ]
}