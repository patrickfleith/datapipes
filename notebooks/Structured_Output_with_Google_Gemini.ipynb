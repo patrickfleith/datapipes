{
  "nbformat": 4,
  "nbformat_minor": 0,
  "metadata": {
    "colab": {
      "provenance": []
    },
    "kernelspec": {
      "name": "python3",
      "display_name": "Python 3"
    },
    "language_info": {
      "name": "python"
    }
  },
  "cells": [
    {
      "cell_type": "markdown",
      "source": [
        "# Structured Output with Google Gemini\n",
        "\n",
        "In order to build reliable pipelines in which LLMs consistently return outputs in the same format, we are using a **Structured Output**\n",
        "- This means that we define a blueprint for the output\n",
        "- We pass the 'blueprint' to the LLM\n",
        "- Then the LLM output will conform to the blueprint.\n",
        "\n",
        "This 'blueprint' in the LLM jargon is often called a \"schema\".\n",
        "\n",
        "**To generate structured outputs with Google Gemini, we'll use the library `instructor`**.\n",
        "This will make it very easy to switch between different model providers."
      ],
      "metadata": {
        "id": "w6Gx1TJgGCqD"
      }
    },
    {
      "cell_type": "markdown",
      "source": [
        "## Setup Google Gemini API"
      ],
      "metadata": {
        "id": "LSxQcVBTGNcD"
      }
    },
    {
      "cell_type": "code",
      "source": [
        "!pip install instructor --quiet"
      ],
      "metadata": {
        "colab": {
          "base_uri": "https://localhost:8080/"
        },
        "id": "LvKrsUW2HsqP",
        "outputId": "0fcee898-ec1e-40fe-ac71-4d6a0eb7d267"
      },
      "execution_count": 1,
      "outputs": [
        {
          "output_type": "stream",
          "name": "stdout",
          "text": [
            "\u001b[?25l   \u001b[90m━━━━━━━━━━━━━━━━━━━━━━━━━━━━━━━━━━━━━━━━\u001b[0m \u001b[32m0.0/71.4 kB\u001b[0m \u001b[31m?\u001b[0m eta \u001b[36m-:--:--\u001b[0m\r\u001b[2K   \u001b[90m━━━━━━━━━━━━━━━━━━━━━━━━━━━━━━━━━━━━━━━━\u001b[0m \u001b[32m71.4/71.4 kB\u001b[0m \u001b[31m2.5 MB/s\u001b[0m eta \u001b[36m0:00:00\u001b[0m\n",
            "\u001b[?25h"
          ]
        }
      ]
    },
    {
      "cell_type": "code",
      "execution_count": 2,
      "metadata": {
        "id": "McHR_WXZFZR3"
      },
      "outputs": [],
      "source": [
        "import google.generativeai as genai\n",
        "import os\n",
        "from pydantic import BaseModel\n",
        "from enum import Enum\n",
        "import instructor"
      ]
    },
    {
      "cell_type": "code",
      "source": [
        "from google.colab import userdata\n",
        "GOOGLE_API_KEY = userdata.get('GOOGLE_API_KEY')"
      ],
      "metadata": {
        "id": "Cb5lAMSkF9HQ"
      },
      "execution_count": 3,
      "outputs": []
    },
    {
      "cell_type": "code",
      "source": [
        "genai.configure(api_key=GOOGLE_API_KEY)"
      ],
      "metadata": {
        "id": "qtpunraSF9qI"
      },
      "execution_count": 4,
      "outputs": []
    },
    {
      "cell_type": "markdown",
      "source": [
        "## Generate JSON\n",
        "When the model is configured to output JSON, it responds to any prompt with JSON-formatted output.\n",
        "\n",
        "You can control the structure of the JSON response by supplying a schema. There are two ways to supply a schema to the model:\n",
        "\n",
        "- As text in the prompt\n",
        "- As a structured schema supplied through model configuration\n",
        "\n",
        "Both approaches work for Gemini 1.5 Flash and for Gemini 1.5 Pro."
      ],
      "metadata": {
        "id": "kfb4Zr6YGRgJ"
      }
    },
    {
      "cell_type": "markdown",
      "source": [
        "#### Example\n",
        "\n",
        "We will configure Gemini to answer math questions.\n",
        "- It will provide step-by-step explainations and intermediate results\n",
        "- It will finish by answering with the final answer."
      ],
      "metadata": {
        "id": "kJEHMQ0H9i_Q"
      }
    },
    {
      "cell_type": "code",
      "source": [
        "# Each step is some explanation and an intermediate output\n",
        "class Step(BaseModel):\n",
        "    explanation: str\n",
        "    output: str\n",
        "\n",
        "# The complete problem-solving reasoning is made of several steps\n",
        "#  leading to a final answer.\n",
        "class MathReasoning(BaseModel):\n",
        "    steps: list[Step]\n",
        "    final_answer: str"
      ],
      "metadata": {
        "id": "zawtOFFFGBrb"
      },
      "execution_count": 6,
      "outputs": []
    },
    {
      "cell_type": "code",
      "source": [
        "google_client = genai.GenerativeModel(\n",
        "    model_name=\"gemini-1.5-flash\")\n",
        "\n",
        "client = instructor.from_gemini(\n",
        "    client=google_client,\n",
        "    mode=instructor.Mode.GEMINI_JSON,\n",
        ")"
      ],
      "metadata": {
        "id": "Ie8M5Q2YI_EK"
      },
      "execution_count": 7,
      "outputs": []
    },
    {
      "cell_type": "code",
      "source": [
        "# note that client.chat.completions.create will also work\n",
        "response = client.messages.create(\n",
        "    messages=[\n",
        "        {\n",
        "            \"role\": \"system\",\n",
        "            \"content\": \"You are a helpful math tutor. \\\n",
        "                        Guide the user through the solution step by step.\"},\n",
        "        {\n",
        "            \"role\": \"user\",\n",
        "            \"content\": \"how can I solve 8x + 7 = -23\"},\n",
        "    ],\n",
        "    response_model=MathReasoning,\n",
        ")"
      ],
      "metadata": {
        "id": "EcMR-pvUIGN5"
      },
      "execution_count": 8,
      "outputs": []
    },
    {
      "cell_type": "code",
      "source": [
        "# @title\n",
        "from pprint import pprint\n",
        "for step in response.steps:\n",
        "    print(step.explanation)\n",
        "    print(step.output)\n",
        "print(f\"\\n\\nfinal answer: {response.final_answer}\")"
      ],
      "metadata": {
        "colab": {
          "base_uri": "https://localhost:8080/"
        },
        "id": "B4rfZVhvJGYd",
        "outputId": "9cb635d5-8413-4c5d-fe98-b75ae999fb70",
        "cellView": "form"
      },
      "execution_count": 18,
      "outputs": [
        {
          "output_type": "stream",
          "name": "stdout",
          "text": [
            "Subtract 7 from both sides of the equation to isolate the term with 'x'.\n",
            "8x + 7 - 7 = -23 - 7\n",
            "8x = -30\n",
            "Divide both sides of the equation by 8 to solve for 'x'.\n",
            "8x / 8 = -30 / 8\n",
            "x = -30/8\n",
            "Simplify the fraction by dividing both numerator and denominator by their greatest common divisor, which is 2.\n",
            "x = -15/4\n",
            "\n",
            "\n",
            "final answer: x = -15/4\n"
          ]
        }
      ]
    },
    {
      "cell_type": "markdown",
      "source": [
        "Learn more about instructor here: https://python.useinstructor.com/"
      ],
      "metadata": {
        "id": "E9wSWooF9k_y"
      }
    }
  ]
}