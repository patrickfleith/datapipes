{
  "nbformat": 4,
  "nbformat_minor": 0,
  "metadata": {
    "colab": {
      "provenance": []
    },
    "kernelspec": {
      "name": "python3",
      "display_name": "Python 3"
    },
    "language_info": {
      "name": "python"
    }
  },
  "cells": [
    {
      "cell_type": "markdown",
      "source": [
        "# How to use Google Gemini models with python\n",
        "In this notebook we look into:\n",
        "1. The basics on how to use a Google Gemini model with just a few lines of codes.\n",
        "2. Which settings you can play with to tune the behaviour of the model on your use case."
      ],
      "metadata": {
        "id": "232r2K_5TNs9"
      }
    },
    {
      "cell_type": "markdown",
      "source": [
        "## Google API setup\n",
        "\n",
        "In order to use a Google Gemini models, you'll need to create an API key and configure it in your Google Colab Secrets.\n",
        "\n",
        "\n",
        "1. You get your api key from Google AI Studio [here](https://aistudio.google.com/app/apikey)\n",
        "4. Open your Colab secrets (click on the key icon here on the left)\n",
        "3. Give a the name, for instance `GOOGLE_API_KEY`, and past the value in `Value`.\n",
        "4. Toggle `Notebook access` to give access to this specific notebook to the API key.\n",
        "\n",
        "🔑 Note that this api key will now be available in your secrets everytime you open or create a new colab notebook. You'll however still need to grant explicit access to each notebook.\n",
        "\n",
        "\n",
        "💸 You'll be able to start **free of charge** but you will just be limited in the number of requests you could make to Gemini per minute and per day.\n",
        "- I recommend you start using `gemini-2.0-flash` because you have 15 request per minute and a total of 1500 request per day free, so it's pretty good to strart."
      ],
      "metadata": {
        "id": "bx6eItYrLF43"
      }
    },
    {
      "cell_type": "code",
      "source": [
        "# if you are running the notebook outside of Google Colab, uncomment this line to install the Google Generative AI library.\n",
        "#!pip install -q -U google-generativeai"
      ],
      "metadata": {
        "id": "jWMT2QjwUTl8"
      },
      "execution_count": 7,
      "outputs": []
    },
    {
      "cell_type": "code",
      "execution_count": 8,
      "metadata": {
        "id": "czXW-QHkTI4V"
      },
      "outputs": [],
      "source": [
        "import google.generativeai as genai\n",
        "import os"
      ]
    },
    {
      "cell_type": "code",
      "source": [
        "from google.colab import userdata\n",
        "GOOGLE_API_KEY = userdata.get('GOOGLE_API_KEY')"
      ],
      "metadata": {
        "id": "PZ2gHuv-TM5G"
      },
      "execution_count": 9,
      "outputs": []
    },
    {
      "cell_type": "code",
      "source": [
        "genai.configure(api_key=GOOGLE_API_KEY)"
      ],
      "metadata": {
        "id": "EXXEQ75HT_Vr"
      },
      "execution_count": 10,
      "outputs": []
    },
    {
      "cell_type": "markdown",
      "source": [
        "## Simple inference with Gemini model from Google\n",
        "Text generation is very simple.\n",
        "- You need to create a `model` instance.\n",
        "    - This is where you provide a `model_name` 🧠\n",
        "- Then you call the `generate_content()` function.\n",
        "    - THis is where you provide the user input query 💬\n",
        "\n",
        "\n",
        "## Google Models\n",
        "All the model we see are actually multimodals in that we could pass not just text but also Audio, Images, and Videos. But we focus on text for now.\n",
        "\n",
        "I recommend testing models in the following order (from cheaper to more expensive and better).\n",
        "1. `gemini-2.0-flash`: Fast and versatile performance across a diverse variety of tasks\n",
        "    - Input token limit: **1 million !**\n",
        "    - Knowledge Cutoff: Aug 2024.\n",
        "    - 15 Request per minutes, 1500 requests per day on the free plan\n",
        "2. `gemini-2.5-flash-preview-05-20` best model in terms of price-performance, offering well-rounded capabilities.\n",
        "    - Input token limit: **1 million !**\n",
        "    - Knowledge Cutoff: January 2025.\n",
        "    - 10 Request per minutes, 500 requests per day on the free plan\n",
        "3. `gemini-2.5-pro-preview-06-05`: One of the world's best model to-date. State-of-the-art thinking model, capable of reasoning over complex problems in code, math, and STEM, as well as analyzing large datasets, codebases, and documents using long context\n",
        "    - Input token limit: **1 million !**\n",
        "    - Latest update: January 2025.\n",
        "    - 2 Request per minutes, 50 requests per day on the free plan\n",
        "\n",
        "If you need more capacity you'll have to configure a billing account. And [here](https://ai.google.dev/pricing)\n"
      ],
      "metadata": {
        "id": "yksIC4gxM3zp"
      }
    },
    {
      "cell_type": "code",
      "source": [
        "model = genai.GenerativeModel(model_name=\"gemini-2.0-flash\")\n",
        "response = model.generate_content(\"Write a very short poem about an astronaut on the Moon\")\n",
        "print(response.text)"
      ],
      "metadata": {
        "colab": {
          "base_uri": "https://localhost:8080/",
          "height": 104
        },
        "id": "_hAnHOZ2TM1h",
        "outputId": "9c721e66-6fed-4e48-9842-8f63810d99bc"
      },
      "execution_count": 11,
      "outputs": [
        {
          "output_type": "stream",
          "name": "stdout",
          "text": [
            "Dust whispers secrets,\n",
            "A silent, silver stage.\n",
            "One small step echoes,\n",
            "Across a cosmic age.\n",
            "\n"
          ]
        }
      ]
    },
    {
      "cell_type": "markdown",
      "source": [
        "# Advanced Parameters\n",
        "\n",
        "[here](https://ai.google.dev/gemini-api/docs/models/generative-models#model-parameters) is the documentation if you want to dig deeper, but I'll show you the most important ones below.\n",
        "\n",
        "**Having a conversation**\n"
      ],
      "metadata": {
        "id": "jPshoL2NVBXy"
      }
    },
    {
      "cell_type": "code",
      "source": [
        "# How to make an interactive chat?\n",
        "model = genai.GenerativeModel(\"gemini-2.0-flash\")\n",
        "chat = model.start_chat(\n",
        "    history=[\n",
        "        {\"role\": \"user\", \"parts\": \"Hello\"},\n",
        "        {\"role\": \"model\", \"parts\": \"Great to meet you. What would you like to know?\"},\n",
        "    ]\n",
        ")\n",
        "response = chat.send_message(\"I have 2 dogs in my house.\")\n",
        "print(f\"Model response 1:\\n\")\n",
        "print(response.text)\n",
        "print(f\"Model response 2:\\n\")\n",
        "response = chat.send_message(\"How many paws are in my house?\")\n",
        "print(response.text)"
      ],
      "metadata": {
        "colab": {
          "base_uri": "https://localhost:8080/",
          "height": 156
        },
        "id": "QPMBvLf9To69",
        "outputId": "faf54807-2e64-4ba0-8faf-ed4cec26ddcc"
      },
      "execution_count": 12,
      "outputs": [
        {
          "output_type": "stream",
          "name": "stdout",
          "text": [
            "Model response 1:\n",
            "\n",
            "That's wonderful! What kind of dogs are they? I'd love to hear more about them. Are they the same breed? Are they getting along well?\n",
            "\n",
            "Model response 2:\n",
            "\n",
            "Since you have two dogs, and each dog has four paws, there are 2 * 4 = 8 paws in your house!\n",
            "\n"
          ]
        }
      ]
    },
    {
      "cell_type": "markdown",
      "source": [
        "**Configure text generation parameters**\n",
        "\n",
        "Every prompt you send to the model includes [parameters](https://ai.google.dev/gemini-api/docs/models/generative-models#model-parameters) that control how the model generates responses. You can use [GenerationConfig](https://ai.google.dev/api/rest/v1/GenerationConfig) to configure these parameters. If you don't configure the parameters, the model uses default options, which can vary by model."
      ],
      "metadata": {
        "id": "SgZ1gZkwU42N"
      }
    },
    {
      "cell_type": "code",
      "source": [
        "model = genai.GenerativeModel(\"gemini-2.0-flash\")\n",
        "response = model.generate_content(\n",
        "    \"Tell me a story about a magic backpack.\",\n",
        "    generation_config=genai.types.GenerationConfig(\n",
        "        candidate_count=1, #  Number of generated responses to return\n",
        "        stop_sequences=[\"x\"], # step of character which stop generation. Rarely used.\n",
        "        max_output_tokens=20, # The maximum number of tokens to include in a response candidate.\n",
        "        temperature=1.0, # Controls the randomness of the output: Betweem 0.0 and 2.0\n",
        "        presence_penalty=1.0,\n",
        "        top_k=10\n",
        "    ),\n",
        ")\n",
        "\n",
        "print(response.text)"
      ],
      "metadata": {
        "colab": {
          "base_uri": "https://localhost:8080/",
          "height": 34
        },
        "id": "8U_tWsD5VNnS",
        "outputId": "0f6b9aca-9885-4b62-9dba-afc82007be1f"
      },
      "execution_count": 13,
      "outputs": [
        {
          "output_type": "stream",
          "name": "stdout",
          "text": [
            "Flora was a collector of oddities. Not e\n"
          ]
        }
      ]
    },
    {
      "cell_type": "markdown",
      "source": [
        "**Note**: Like with OpenAI API you can control the following other parameters (for the full details look at [GenerationConfig](https://ai.google.dev/api/rest/v1/GenerationConfig)).\n",
        "- response_schema;\n",
        "- top_p\n",
        "- top_k\n",
        "- presence_penalty\n",
        "- frequence_penalty\n",
        "- logprobs\n",
        "- ..."
      ],
      "metadata": {
        "id": "kHTKxVIPVx0Y"
      }
    },
    {
      "cell_type": "code",
      "source": [
        "# You can also count tokens easily\n",
        "print(response.usage_metadata)"
      ],
      "metadata": {
        "colab": {
          "base_uri": "https://localhost:8080/"
        },
        "id": "fDUtr0UYXU4S",
        "outputId": "678eb4cb-7e7b-4fa3-a9e2-a89e2b65b4e4"
      },
      "execution_count": 14,
      "outputs": [
        {
          "output_type": "stream",
          "name": "stdout",
          "text": [
            "prompt_token_count: 9\n",
            "candidates_token_count: 10\n",
            "total_token_count: 19\n",
            "\n"
          ]
        }
      ]
    },
    {
      "cell_type": "markdown",
      "source": [
        "Every prompt you send to the model includes parameters that control how the model generates responses. You can use GenerationConfig to configure these parameters. If you don't configure the parameters, the model uses default options, which can vary by model."
      ],
      "metadata": {
        "id": "Krj96doEUihI"
      }
    },
    {
      "cell_type": "markdown",
      "source": [
        "# Streaming"
      ],
      "metadata": {
        "id": "2G8NbjhMUzbB"
      }
    },
    {
      "cell_type": "code",
      "source": [
        "model = genai.GenerativeModel(\"gemini-2.0-flash\")\n",
        "response = model.generate_content(\"Write a story about a magic backpack.\", stream=True)\n",
        "for chunk in response:\n",
        "    print(chunk.text)\n",
        "    print(\"_\" * 80)"
      ],
      "metadata": {
        "colab": {
          "base_uri": "https://localhost:8080/",
          "height": 1000
        },
        "id": "LQBfn_t9U1L1",
        "outputId": "9a05a0c8-92e3-4d41-81c4-9c69e77788d0"
      },
      "execution_count": 15,
      "outputs": [
        {
          "output_type": "stream",
          "name": "stdout",
          "text": [
            "El\n",
            "________________________________________________________________________________\n",
            "ara was,\n",
            "________________________________________________________________________________\n",
            " to put it mildly, uninspired. High school felt like a monotonous cycle of textbooks and\n",
            "________________________________________________________________________________\n",
            " cafeteria lunches. She longed for something, anything, to disrupt the predictable rhythm of her life\n",
            "________________________________________________________________________________\n",
            ". Then, one rainy Tuesday, rummaging through her grandmother's dusty attic, she found it.\n",
            "\n",
            "Tucked away in a cobweb-laden\n",
            "________________________________________________________________________________\n",
            " corner was a backpack, not just any backpack, but one crafted from a deep indigo fabric that seemed to shimmer with an inner light. The leather straps were intricately\n",
            "________________________________________________________________________________\n",
            " woven, and a single, tarnished silver buckle held it closed. Curiosity bubbling inside her, Elara undid the buckle.\n",
            "\n",
            "The backpack was empty, yet the air around it crackled with an almost palpable energy. Intrigued, she\n",
            "________________________________________________________________________________\n",
            " tossed in her worn copy of \"Moby Dick,\" hoping to finally get past chapter three without falling asleep. The moment the book touched the bottom of the pack, a faint blue glow emanated from within, and a sound, like the\n",
            "________________________________________________________________________________\n",
            " distant crash of waves, filled the attic. Elara cautiously peeked inside. The book was gone.\n",
            "\n",
            "Panicked, she reached in, expecting to find a gaping hole. Instead, her hand closed around something cold and smooth. She pulled it out. It was a small, perfectly formed seashell, unlike anything she'd\n",
            "________________________________________________________________________________\n",
            " ever seen. Holding it to her ear, she heard not the familiar sound of the ocean, but a melody, a haunting, melancholic tune that tugged at her heartstrings.\n",
            "\n",
            "Over the next few days, Elara experimented. She put in a wilted rose and pulled out a vial of shimmering, crimson\n",
            "________________________________________________________________________________\n",
            " perfume that smelled of rain and secrets. She put in a dull pencil and pulled out a charcoal sketch of a magnificent, unknown cityscape. The backpack was a gateway to something incredible, a translator of the mundane into the extraordinary.\n",
            "\n",
            "News of Elara’s newfound creativity spread. She started winning art competitions with her unbelievably\n",
            "________________________________________________________________________________\n",
            " detailed sketches. She wrote poetry that resonated with a depth beyond her years, infused with the scent of forgotten loves and faraway lands. Her life, once a drab monochrome, was now a vibrant tapestry of color and sound.\n",
            "\n",
            "But the backpack had a cost. The objects it produced, beautiful as they were, felt…borrow\n",
            "________________________________________________________________________________\n",
            "ed. The perfume smelled like a love that wasn't hers. The cityscape felt like a memory she hadn't lived. The poetry, though acclaimed, felt like a voice that wasn't her own.\n",
            "\n",
            "One day, her best friend, Leo, noticed her detachment. \"Elara, you've\n",
            "________________________________________________________________________________\n",
            " changed. You're amazing, but you're not really...you.\"\n",
            "\n",
            "His words hit her hard. She was so focused on the beauty the backpack offered that she was losing herself in the process. She was becoming a vessel, a conduit for someone else's creativity.\n",
            "\n",
            "That night, she sat in the attic\n",
            "________________________________________________________________________________\n",
            ", the indigo backpack glowing softly beside her. She had a choice to make. She could continue to rely on its magic, achieving greatness by proxy, or she could forge her own path, imperfections and all.\n",
            "\n",
            "Finally, she reached a decision. She reached into the backpack and pulled out the first item she had ever taken\n",
            "________________________________________________________________________________\n",
            " from it – the seashell. Holding it tight, she whispered, \"Thank you.\" Then, with a deep breath, she placed the backpack back in the dusty corner of the attic, covering it with an old sheet.\n",
            "\n",
            "The next day, Elara went to art class. She sat down with a blank canvas and a set\n",
            "________________________________________________________________________________\n",
            " of well-worn paints. Her hands trembled slightly, but she didn’t hesitate. She began to paint. It wasn't as polished as the charcoal sketch. The colors weren't as vibrant as the crimson perfume. But it was hers.\n",
            "\n",
            "The painting was a simple landscape, inspired by the view from her bedroom\n",
            "________________________________________________________________________________\n",
            " window. It was imperfect, raw, and filled with the quiet beauty of her own world. When Leo saw it, he smiled. \"That's it, Elara. That's you.\"\n",
            "\n",
            "Elara smiled back, a genuine, heartfelt smile. The magic backpack had shown her the power of imagination, but she\n",
            "________________________________________________________________________________\n",
            " finally understood that true creativity came not from borrowed brilliance, but from the depths of her own heart and the experiences of her own life. She had found her own magic, and it was far more valuable than anything she could ever pull out of a shimmering, indigo backpack.\n",
            "\n",
            "________________________________________________________________________________\n"
          ]
        }
      ]
    }
  ]
}