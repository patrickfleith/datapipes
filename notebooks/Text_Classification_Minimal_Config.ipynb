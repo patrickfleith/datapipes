{
  "nbformat": 4,
  "nbformat_minor": 0,
  "metadata": {
    "colab": {
      "provenance": []
    },
    "kernelspec": {
      "name": "python3",
      "display_name": "Python 3"
    },
    "language_info": {
      "name": "python"
    }
  },
  "cells": [
    {
      "cell_type": "markdown",
      "source": [
        "# Text Classification Dataset Generation with minimal configuration\n",
        "-"
      ],
      "metadata": {
        "id": "nBMdSVWNhKZZ"
      }
    },
    {
      "cell_type": "code",
      "execution_count": 1,
      "metadata": {
        "id": "40lDzEHWhH-y"
      },
      "outputs": [],
      "source": [
        "LABELS = [\n",
        "    {\n",
        "        'name': 'vebose',\n",
        "        'description': \"Verbose in text is often includes some redundancy, filler words, excessive qualifiers, unnecessary adjectives or adverbs, irrelevant information, and repetition of known context.\"\n",
        "    },\n",
        "    {\n",
        "        'name': 'concise',\n",
        "        'description': \"Concise text is characterized by clarity, precision, and brevity. It communicates ideas directly, in a very compact manner using only the words necessary to convey the intended message.\"\n",
        "    }\n",
        "]"
      ]
    },
    {
      "cell_type": "code",
      "source": [
        "LANGUAGES = {\n",
        "    \"fr\": \"French\",\n",
        "    \"es\": \"Spanish\",\n",
        "    \"en\": \"English\"\n",
        "}"
      ],
      "metadata": {
        "id": "JBulUHEuiVb8"
      },
      "execution_count": 2,
      "outputs": []
    },
    {
      "cell_type": "code",
      "source": [
        "!pip install instructor datasets --quiet"
      ],
      "metadata": {
        "colab": {
          "base_uri": "https://localhost:8080/"
        },
        "id": "bcYv-feliXfp",
        "outputId": "d11e11db-a1e9-4154-9719-3d3129db2688"
      },
      "execution_count": 5,
      "outputs": [
        {
          "output_type": "stream",
          "name": "stdout",
          "text": [
            "\u001b[?25l   \u001b[90m━━━━━━━━━━━━━━━━━━━━━━━━━━━━━━━━━━━━━━━━\u001b[0m \u001b[32m0.0/480.6 kB\u001b[0m \u001b[31m?\u001b[0m eta \u001b[36m-:--:--\u001b[0m\r\u001b[2K   \u001b[91m━━━━━━━━━━━━━━━━━━━━━━━━━━━━━━━━━\u001b[0m\u001b[90m╺\u001b[0m\u001b[90m━━━━━━\u001b[0m \u001b[32m399.4/480.6 kB\u001b[0m \u001b[31m12.8 MB/s\u001b[0m eta \u001b[36m0:00:01\u001b[0m\r\u001b[2K   \u001b[90m━━━━━━━━━━━━━━━━━━━━━━━━━━━━━━━━━━━━━━━━\u001b[0m \u001b[32m480.6/480.6 kB\u001b[0m \u001b[31m7.8 MB/s\u001b[0m eta \u001b[36m0:00:00\u001b[0m\n",
            "\u001b[2K   \u001b[90m━━━━━━━━━━━━━━━━━━━━━━━━━━━━━━━━━━━━━━━━\u001b[0m \u001b[32m116.3/116.3 kB\u001b[0m \u001b[31m7.1 MB/s\u001b[0m eta \u001b[36m0:00:00\u001b[0m\n",
            "\u001b[2K   \u001b[90m━━━━━━━━━━━━━━━━━━━━━━━━━━━━━━━━━━━━━━━━\u001b[0m \u001b[32m179.3/179.3 kB\u001b[0m \u001b[31m7.5 MB/s\u001b[0m eta \u001b[36m0:00:00\u001b[0m\n",
            "\u001b[2K   \u001b[90m━━━━━━━━━━━━━━━━━━━━━━━━━━━━━━━━━━━━━━━━\u001b[0m \u001b[32m143.5/143.5 kB\u001b[0m \u001b[31m4.8 MB/s\u001b[0m eta \u001b[36m0:00:00\u001b[0m\n",
            "\u001b[2K   \u001b[90m━━━━━━━━━━━━━━━━━━━━━━━━━━━━━━━━━━━━━━━━\u001b[0m \u001b[32m194.8/194.8 kB\u001b[0m \u001b[31m13.2 MB/s\u001b[0m eta \u001b[36m0:00:00\u001b[0m\n",
            "\u001b[?25h\u001b[31mERROR: pip's dependency resolver does not currently take into account all the packages that are installed. This behaviour is the source of the following dependency conflicts.\n",
            "gcsfs 2024.10.0 requires fsspec==2024.10.0, but you have fsspec 2024.9.0 which is incompatible.\u001b[0m\u001b[31m\n",
            "\u001b[0m"
          ]
        }
      ]
    },
    {
      "cell_type": "code",
      "source": [
        "import google.generativeai as genai\n",
        "from google.colab import userdata\n",
        "from pydantic import BaseModel\n",
        "import instructor\n",
        "import random\n",
        "import uuid\n",
        "import time\n",
        "import os"
      ],
      "metadata": {
        "id": "5TuLSbPNiwKk"
      },
      "execution_count": 4,
      "outputs": []
    },
    {
      "cell_type": "code",
      "source": [
        "MODEL_ID = 'gemini-1.5-flash'"
      ],
      "metadata": {
        "id": "42j492do1F-L"
      },
      "execution_count": 29,
      "outputs": []
    },
    {
      "cell_type": "code",
      "source": [
        "# Setup your API in Colab Secrets and read it here. Pass it to genai to interact with Gemini.\n",
        "GOOGLE_API_KEY = userdata.get('GOOGLE_API_KEY')\n",
        "OPENAI_API_KEY = userdata.get('OPENAI_API_KEY')\n",
        "ANTHROPIC_API_KEY = userdata.get('ANTHROPIC_API_KEY')\n",
        "genai.configure(api_key=GOOGLE_API_KEY)"
      ],
      "metadata": {
        "id": "OT2D2v4Ri0_f"
      },
      "execution_count": 30,
      "outputs": []
    },
    {
      "cell_type": "code",
      "source": [
        "# let's instantiate a model and try it\n",
        "model = genai.GenerativeModel(model_name=MODEL_ID)"
      ],
      "metadata": {
        "id": "epKeZu9cjDtO"
      },
      "execution_count": 31,
      "outputs": []
    },
    {
      "cell_type": "code",
      "source": [
        "labels_listing = [label['name'] for label in LABELS]\n",
        "# labels_listing = ', '.join(labels_listing)"
      ],
      "metadata": {
        "id": "w-gHG9AfjyDp"
      },
      "execution_count": 32,
      "outputs": []
    },
    {
      "cell_type": "code",
      "source": [
        "# GENERATED_PROMPT_TEMPLATE = \"\"\"I am creating a dataset to train a classifier that distinguishes verbose texts from concise texts. Your task is to generate verbose, realistic, and professional texts. Each example should provide rich detail and context without exaggeration or redundancy. Avoid flowery language and unnecessary embellishments while ensuring the tone remains professional and informative.\n",
        "\n",
        "# Generate {number} examples of verbose texts. Each example should:\n",
        "\n",
        "# Be a realistic, coherent response to an imagined query, scenario, or description.\n",
        "# Include detailed explanations, background information, and illustrative examples.\n",
        "# Use longer sentence structures and provide additional context where necessary.\n",
        "# For example:\n",
        "\n",
        "# A detailed explanation of a process or concept.\n",
        "# A comprehensive description of an event or scenario.\n",
        "# A professional email or message containing all relevant details.\n",
        "# Etc.\n",
        "\n",
        "# Avoid repeating ideas across examples and ensure each one is unique and comprehensive.\"\"\""
      ],
      "metadata": {
        "id": "XXSXY-dIjyzh"
      },
      "execution_count": 33,
      "outputs": []
    },
    {
      "cell_type": "code",
      "source": [
        "NUM_SAMPLES = 10"
      ],
      "metadata": {
        "id": "sNCuiZ-rjIpK"
      },
      "execution_count": 34,
      "outputs": []
    },
    {
      "cell_type": "code",
      "source": [
        "PROMPT_TEMPLATE = \"\"\"I need text examples in order to train a machine learning model to classify between the following classes {labels_listing}. \\\n",
        "Your task is to generate {num_samples} texts which are diverse and representative of what could be encountered \\\n",
        "for the '{label_name}' class . {label_description}. Do not exagerate, and ensure that while it belongs to the described class, it is realistic.\"\"\""
      ],
      "metadata": {
        "id": "zXAn9tH78zKQ"
      },
      "execution_count": 35,
      "outputs": []
    },
    {
      "cell_type": "code",
      "source": [
        "NUM_SAMPLES = 10\n",
        "\n",
        "PROMPTS = [PROMPT_TEMPLATE.format(\n",
        "    num_samples=NUM_SAMPLES,\n",
        "    labels_listing=labels_listing,\n",
        "    label_name=LABEL['name'],\n",
        "    label_description=LABEL['description']) for LABEL in LABELS]"
      ],
      "metadata": {
        "id": "FkO7RwKR_ht9"
      },
      "execution_count": 36,
      "outputs": []
    },
    {
      "cell_type": "code",
      "source": [
        "PROMPTS[0]"
      ],
      "metadata": {
        "colab": {
          "base_uri": "https://localhost:8080/",
          "height": 88
        },
        "id": "f_URox2iBNxa",
        "outputId": "32aaf4b5-2742-4966-9bb3-1784675a6977"
      },
      "execution_count": 37,
      "outputs": [
        {
          "output_type": "execute_result",
          "data": {
            "text/plain": [
              "\"I need text examples in order to train a machine learning model to classify between the following classes ['vebose', 'concise']. Your task is to generate 10 texts which are diverse and representative of what could be encountered for the 'vebose' class . Verbose in text is often includes some redundancy, filler words, excessive qualifiers, unnecessary adjectives or adverbs, irrelevant information, and repetition of known context.. Do not exagerate, and ensure that while it belongs to the described class, it is realistic.\""
            ],
            "application/vnd.google.colaboratory.intrinsic+json": {
              "type": "string"
            }
          },
          "metadata": {},
          "execution_count": 37
        }
      ]
    },
    {
      "cell_type": "code",
      "source": [
        "response = model.generate_content(PROMPTS[0])"
      ],
      "metadata": {
        "id": "8ljfu3BAkxSR"
      },
      "execution_count": 38,
      "outputs": []
    },
    {
      "cell_type": "code",
      "source": [
        "print(response.candidates[0].content.parts[0].text)"
      ],
      "metadata": {
        "colab": {
          "base_uri": "https://localhost:8080/"
        },
        "id": "lcN4BsZ8lTHR",
        "outputId": "98d90700-4b6d-4335-ae99-0752c7574f27"
      },
      "execution_count": 39,
      "outputs": [
        {
          "output_type": "stream",
          "name": "stdout",
          "text": [
            "Here are 10 examples of verbose text, aiming for realism and avoiding exaggeration:\n",
            "\n",
            "1.  \"The meeting, which was scheduled for Tuesday morning, at approximately 9:00 AM,  was, in my opinion, quite unproductive.  There were, frankly, a lot of people there, and, well,  many of them seemed to have a lot of, shall we say,  unnecessary things to say, which, you know,  took up a considerable amount of time.\"\n",
            "\n",
            "2.  \"So, basically, what happened was,  the project, it was a really big project, you know, a huge undertaking, and it involved, like, tons of different people,  and a lot of them had different opinions,  and so,  it was kind of a long and drawn-out process, to put it mildly,  before we finally got it completed.\"\n",
            "\n",
            "3.  \"The report, which I've painstakingly prepared,  details the findings of our investigation, which, as you may recall, was quite extensive. We looked at many different aspects, several of them quite in detail, and the overall conclusion is that, it seems to me, further research may be warranted.\"\n",
            "\n",
            "4.  \"In essence, the fundamental problem, as I see it, is that the current system, which has been in place for quite some time now, is simply not efficient. There are many redundancies, and a lot of processes could be streamlined considerably, resulting in a significant improvement in, you know, overall productivity.\"\n",
            "\n",
            "5.  \"I'm writing to inform you that, due to unforeseen circumstances, specifically a rather significant and unexpected delay in receiving the necessary materials, the shipment,  which was initially anticipated to arrive on the 15th of the current month,  will now be delayed until, we estimate,  sometime around the 22nd, perhaps even a bit later.\"\n",
            "\n",
            "6.  \"The dog, a very fluffy and adorable golden retriever,  with a long, silky coat,  ran across the park, a large and sprawling green space, with many trees,  and lots of people walking their dogs, and it was truly a beautiful sight to behold, I thought to myself.\"\n",
            "\n",
            "7.  \"The restaurant, a rather charming establishment, located in a quaint little neighborhood, offered a menu, quite extensive, with numerous options, both for vegetarians and carnivores,  and I chose the pasta, which was very delicious, and quite a generous portion, if I may say so myself.\"\n",
            "\n",
            "8.  \"It's a really good book,  I mean, it's actually fantastic, in my humble opinion, you should really read it,  because it's incredibly well-written,  and it has this really amazing plot, with lots of twists and turns, and  it's really captivating,  you won't be disappointed, I promise.\"\n",
            "\n",
            "9.  \"Considering all factors, and after careful deliberation, and taking into account numerous variables and potential outcomes, we've decided, at least for the time being, that the proposed solution, while not perfect, might be the best course of action, under the circumstances.\"\n",
            "\n",
            "10. \"To summarize the key points, we've seen significant growth in the last quarter, a substantial increase, in fact, which is quite impressive, and we anticipate, based on current projections, that this trend will continue, at least in the short term,  barring any unforeseen complications.\"\n",
            "\n"
          ]
        }
      ]
    },
    {
      "cell_type": "code",
      "source": [
        "response = model.generate_content(GENERATED_PROMPT_TEMPLATE.format(number=10))"
      ],
      "metadata": {
        "id": "cOFfMOU--FVM"
      },
      "execution_count": 71,
      "outputs": []
    },
    {
      "cell_type": "code",
      "source": [
        "print(response.candidates[0].content.parts[0].text)"
      ],
      "metadata": {
        "colab": {
          "base_uri": "https://localhost:8080/"
        },
        "id": "6T-cVXCA-IBn",
        "outputId": "cb4aad74-1d15-4e33-d22b-246bbbb197d7"
      },
      "execution_count": 73,
      "outputs": [
        {
          "output_type": "stream",
          "name": "stdout",
          "text": [
            "1. **Subject: Comprehensive Analysis of Q3 Sales Performance**\n",
            "\n",
            "This report details the performance of the sales department during the third quarter of the fiscal year, encompassing a comprehensive analysis of key performance indicators (KPIs) and contributing factors.  Sales figures fell short of projected targets by 7.2%, primarily attributable to a slowdown in the Western region, which experienced a 12% decrease compared to Q2.  This decline correlates with the nationwide economic downturn observed in August and September, impacting consumer spending habits and delaying large-scale procurement decisions within key client segments.  Detailed regional breakdowns are available in Appendix A, alongside a comparative analysis of marketing campaign effectiveness during this period.  We recommend implementing the revised sales strategy outlined in Section 3, focusing on targeted outreach to key accounts and the development of new product offerings tailored to the current economic climate.  Furthermore, a thorough review of our sales team training modules is warranted to ensure alignment with the evolving market conditions.\n",
            "\n",
            "2. **Detailed Explanation of the Software Development Lifecycle (SDLC)**\n",
            "\n",
            "The Software Development Lifecycle (SDLC) is a structured process used to design, develop, test, and deploy software applications. Several methodologies exist, each with its strengths and weaknesses. The Waterfall model, for example, follows a linear sequence of phases, commencing with requirements gathering and culminating in deployment.  This model is suitable for projects with well-defined requirements and minimal anticipated changes.  In contrast, Agile methodologies, such as Scrum and Kanban, emphasize iterative development and flexibility, enabling adaptations based on evolving requirements and feedback.  These iterative cycles, known as sprints, typically last two to four weeks, facilitating regular testing and adjustments.  The choice of SDLC methodology significantly impacts project management, resource allocation, and overall project success. Careful consideration of project specifics, team capabilities, and stakeholder expectations is crucial for selecting the most appropriate approach.\n",
            "\n",
            "3. **Incident Report: Server Outage on October 26th**\n",
            "\n",
            "This report documents the server outage that occurred on October 26th, commencing at 14:37 PST and lasting approximately 90 minutes. The primary cause was determined to be a hardware failure within the primary database server, resulting in the unavailability of core applications reliant on that server.  Our initial diagnostic tests indicated a critical power supply failure, subsequently confirmed upon physical inspection.  The impact included disrupted user access to CRM and inventory management systems, resulting in a temporary halt to order processing and customer support activities. We implemented our disaster recovery plan, successfully switching to the secondary server within 67 minutes, minimizing the overall downtime.  A comprehensive post-incident review will be conducted, including a detailed analysis of our disaster recovery procedures and recommendations for preventative measures to avoid similar incidents in the future.  This review will specifically focus on improving the redundancy of our critical infrastructure.\n",
            "\n",
            "4. **Proposal: Implementation of a New Customer Relationship Management (CRM) System**\n",
            "\n",
            "This proposal outlines the rationale and implementation plan for a new CRM system to replace our current, outdated system. The existing system lacks essential features such as robust reporting capabilities, advanced analytics, and seamless integration with our existing marketing automation platform. This limits our ability to effectively track customer interactions, analyze sales trends, and personalize marketing campaigns.  The proposed system, Salesforce Sales Cloud, offers enhanced functionality, improved scalability, and greater integration possibilities.  The implementation process will be phased, commencing with data migration and user training, followed by system testing and full deployment.  A detailed project timeline, including key milestones and resource allocation, is provided in Appendix B.  The anticipated return on investment (ROI) is projected at 18 months based on improved sales efficiency and reduced operational costs.\n",
            "\n",
            "5. **Environmental Impact Assessment: Proposed Wind Farm Project**\n",
            "\n",
            "This assessment evaluates the potential environmental impact of the proposed wind farm project in the Green Valley region.  The project involves the installation of 50 wind turbines, generating an estimated 150 megawatts of clean energy.  Our assessment considers potential impacts on avian populations, noise pollution levels, and landscape aesthetics.  Mitigation strategies, including the implementation of bird deterrent systems and the selection of turbine placement to minimize noise impact, are incorporated into the design.  A detailed environmental impact statement, including comprehensive ecological surveys and noise modeling simulations, supports our conclusions.  We have collaborated closely with local environmental agencies throughout the assessment process to ensure compliance with all relevant regulations and to identify and address any potential concerns.\n",
            "\n",
            "\n",
            "6.  **Market Research Report: Growth Potential of Sustainable Packaging**\n",
            "\n",
            "This report analyzes the market potential for sustainable packaging solutions within the consumer goods sector.  The increasing consumer demand for environmentally friendly products, coupled with growing government regulations regarding plastic waste, presents a significant opportunity for businesses adopting sustainable packaging alternatives.  The report includes a detailed market segmentation analysis, identifying key trends and consumer preferences.  Specific examples of successful sustainable packaging initiatives implemented by leading brands are detailed in Section 4.  We predict a compound annual growth rate (CAGR) of 15% for the next five years, driven primarily by increased adoption of biodegradable materials and improved recycling infrastructure. This analysis also factors in potential challenges, including higher initial production costs and the need for further technological advancements in certain material sectors.\n",
            "\n",
            "\n",
            "7. **Investment Opportunity: Analysis of Renewable Energy Sector**\n",
            "\n",
            "This document presents a comprehensive analysis of the investment opportunities within the renewable energy sector, specifically focusing on solar and wind power technologies. The rapid decline in the cost of solar panels and wind turbines, combined with supportive government policies and increasing corporate sustainability commitments, has made these sectors increasingly attractive for investment.  This analysis considers various investment vehicles, including publicly traded companies, infrastructure projects, and private equity funds, evaluating their respective risk profiles and potential returns.  We provide a detailed comparison of various investment strategies, considering factors such as diversification, liquidity, and long-term growth prospects. Key risks, including policy uncertainty and technological disruptions, are also carefully considered.\n",
            "\n",
            "\n",
            "8. **Risk Assessment: Supply Chain Disruptions in the Automotive Industry**\n",
            "\n",
            "This report assesses the potential risks associated with supply chain disruptions in the automotive industry.  Recent events, such as the semiconductor shortage and geopolitical instability, have highlighted the vulnerability of global supply chains.  The report analyzes various risk factors, including geopolitical events, natural disasters, pandemics, and cybersecurity threats, assessing their potential impact on production, sales, and profitability.  Specific examples of recent supply chain disruptions and their consequences are provided.  Mitigation strategies, such as diversifying sourcing, building inventory buffers, and investing in supply chain resilience technologies, are discussed. The overall goal is to provide automotive manufacturers with a framework to better manage and mitigate these risks.\n",
            "\n",
            "\n",
            "9. **Strategic Planning Document: Expansion into New Markets**\n",
            "\n",
            "This document outlines the strategic plan for expanding into new international markets. The plan focuses on three key regions: Southeast Asia, Latin America, and Eastern Europe.  For each region, a detailed market analysis is provided, identifying key opportunities and challenges. This includes analysis of consumer behavior, competitive landscape, regulatory environment, and infrastructure.  The plan includes specific market entry strategies, such as joint ventures, direct investment, and franchising, tailored to each region's unique characteristics.  A comprehensive budget and timeline are also provided, outlining the necessary resources and milestones for successful market entry. Key performance indicators (KPIs) for measuring the success of the expansion strategy are also defined.\n",
            "\n",
            "\n",
            "10. **Technical Specification Document: New Mobile Application Development**\n",
            "\n",
            "This document provides a comprehensive technical specification for the development of a new mobile application for iOS and Android platforms.  The application will provide users with a platform for managing their personal finances, including budgeting, tracking expenses, and investing.  The document details the application's functionality, including user interface design, database architecture, security protocols, and integration with third-party financial services.  Specific technical requirements for each platform are outlined, including programming languages, frameworks, and APIs.  Testing protocols, including unit testing, integration testing, and user acceptance testing (UAT), are detailed to ensure the application meets the required quality standards and performance benchmarks.\n",
            "\n"
          ]
        }
      ]
    },
    {
      "cell_type": "code",
      "source": [
        "CONCISE_GENERATED_PROMPT_TEMPLATE = \"\"\"I am creating a dataset to train a classifier that distinguishes concise texts from verbose texts. Your task is to generate concise, clear, and professional texts. Each example should communicate the essential information directly, avoiding unnecessary elaboration or redundant details. The tone should remain professional and precise.\n",
        "\n",
        "Generate {number} examples of concise texts. Each example should:\n",
        "\n",
        "Be a realistic, coherent response to an imagined query, scenario, or description.\n",
        "Focus only on the key points and avoid adding extra context, explanations, or non-essential details.\n",
        "Use short, clear sentence structures to convey the message efficiently. Although short, don't cut the meet. Conciseness mean precise and specific in our case.\n",
        "For example:\n",
        "\n",
        "A brief explanation of a process or concept.\n",
        "A high-level summary of an event or scenario.\n",
        "A concise email or message stating only the critical information.\n",
        "Avoid repeating ideas across examples and ensure each one is unique and succinct.\"\"\""
      ],
      "metadata": {
        "id": "ANbJtsWd-XNK"
      },
      "execution_count": 40,
      "outputs": []
    },
    {
      "cell_type": "code",
      "source": [
        "response = model.generate_content(CONCISE_GENERATED_PROMPT_TEMPLATE.format(number=10))\n",
        "print(response.candidates[0].content.parts[0].text)"
      ],
      "metadata": {
        "colab": {
          "base_uri": "https://localhost:8080/",
          "height": 364
        },
        "id": "4C12w7Ur-jMP",
        "outputId": "1aa35687-e3d1-4636-c3fa-c5b631418d74"
      },
      "execution_count": 41,
      "outputs": [
        {
          "output_type": "stream",
          "name": "stdout",
          "text": [
            "1. **Project Status:**  Deployment delayed.  New deadline: October 27th.  Addressing critical bug.\n",
            "\n",
            "2. **Meeting Summary:**  Budget approved. Marketing plan finalized. Next steps:  Launch campaign.\n",
            "\n",
            "3. **Sales Report Q3:** Revenue exceeded projections.  Increased market share.  Strong customer acquisition.\n",
            "\n",
            "4. **System Failure:** Power surge caused server outage.  System restored.  Data integrity confirmed.\n",
            "\n",
            "5. **Candidate Feedback:** Strong technical skills. Lacks experience in project management.  Further interview recommended.\n",
            "\n",
            "6. **Travel Itinerary:** Flight departs 8 AM.  Hotel reservation confirmed.  Meeting scheduled 2 PM.\n",
            "\n",
            "7. **Order Confirmation:**  Order #12345 processed.  Shipping confirmation follows.  Expected delivery: 3-5 business days.\n",
            "\n",
            "8. **Incident Report:**  Employee injury.  Minor laceration.  First aid administered.  OSHA report filed.\n",
            "\n",
            "9. **Proposal Summary:**  Solution addresses key challenges.  Cost-effective implementation.  Detailed proposal attached.\n",
            "\n",
            "10. **Risk Assessment:** High probability of failure. Mitigation strategies outlined.  Contingency plan developed.\n",
            "\n"
          ]
        }
      ]
    },
    {
      "cell_type": "code",
      "source": [
        "from pydantic import BaseModel, Field\n",
        "\n",
        "class TextEntries(BaseModel):\n",
        "    entries: list[str] = Field(\n",
        "        ...,\n",
        "        description=\"List of texts\"\n",
        "    )\n",
        "\n",
        "# we can access the JSON Schema\n",
        "TextEntries.model_json_schema()"
      ],
      "metadata": {
        "colab": {
          "base_uri": "https://localhost:8080/"
        },
        "id": "UsjEaGP_ll38",
        "outputId": "f80f82ca-9e9c-4574-aa55-1d04006e2514"
      },
      "execution_count": 42,
      "outputs": [
        {
          "output_type": "execute_result",
          "data": {
            "text/plain": [
              "{'properties': {'entries': {'description': 'List of texts',\n",
              "   'items': {'type': 'string'},\n",
              "   'title': 'Entries',\n",
              "   'type': 'array'}},\n",
              " 'required': ['entries'],\n",
              " 'title': 'TextEntries',\n",
              " 'type': 'object'}"
            ]
          },
          "metadata": {},
          "execution_count": 42
        }
      ]
    },
    {
      "cell_type": "code",
      "source": [
        "google_client = genai.GenerativeModel(\n",
        "    model_name=MODEL_ID)\n",
        "\n",
        "client = instructor.from_gemini(\n",
        "    client=google_client,\n",
        "    mode=instructor.Mode.GEMINI_JSON,\n",
        ")"
      ],
      "metadata": {
        "id": "e8ZFc_YDmmzZ"
      },
      "execution_count": 43,
      "outputs": []
    },
    {
      "cell_type": "code",
      "source": [
        "messages = [\n",
        "    {\n",
        "        \"role\": \"system\",\n",
        "        \"content\": \"You are a helpful AI Assistant\"\n",
        "    },\n",
        "    {\n",
        "        \"role\": \"user\",\n",
        "        \"content\": prompt_generation\n",
        "    }\n",
        "]\n",
        "\n",
        "messages"
      ],
      "metadata": {
        "colab": {
          "base_uri": "https://localhost:8080/",
          "height": 211
        },
        "id": "J98fOmh7nLAj",
        "outputId": "08c6212e-9c9a-44ac-8df8-ada8822f6e2b"
      },
      "execution_count": 44,
      "outputs": [
        {
          "output_type": "error",
          "ename": "NameError",
          "evalue": "name 'prompt_generation' is not defined",
          "traceback": [
            "\u001b[0;31m---------------------------------------------------------------------------\u001b[0m",
            "\u001b[0;31mNameError\u001b[0m                                 Traceback (most recent call last)",
            "\u001b[0;32m<ipython-input-44-4ddf0c33def5>\u001b[0m in \u001b[0;36m<cell line: 0>\u001b[0;34m()\u001b[0m\n\u001b[1;32m      6\u001b[0m     {\n\u001b[1;32m      7\u001b[0m         \u001b[0;34m\"role\"\u001b[0m\u001b[0;34m:\u001b[0m \u001b[0;34m\"user\"\u001b[0m\u001b[0;34m,\u001b[0m\u001b[0;34m\u001b[0m\u001b[0;34m\u001b[0m\u001b[0m\n\u001b[0;32m----> 8\u001b[0;31m         \u001b[0;34m\"content\"\u001b[0m\u001b[0;34m:\u001b[0m \u001b[0mprompt_generation\u001b[0m\u001b[0;34m\u001b[0m\u001b[0;34m\u001b[0m\u001b[0m\n\u001b[0m\u001b[1;32m      9\u001b[0m     }\n\u001b[1;32m     10\u001b[0m ]\n",
            "\u001b[0;31mNameError\u001b[0m: name 'prompt_generation' is not defined"
          ]
        }
      ]
    },
    {
      "cell_type": "code",
      "source": [
        "response = client.messages.create(\n",
        "    messages=messages,\n",
        "    response_model=TextEntries\n",
        ")"
      ],
      "metadata": {
        "colab": {
          "base_uri": "https://localhost:8080/",
          "height": 193
        },
        "id": "Uim98CR-moPt",
        "outputId": "4a6d81c7-4dd4-47dc-a06c-145553f4ac42"
      },
      "execution_count": 45,
      "outputs": [
        {
          "output_type": "error",
          "ename": "NameError",
          "evalue": "name 'messages' is not defined",
          "traceback": [
            "\u001b[0;31m---------------------------------------------------------------------------\u001b[0m",
            "\u001b[0;31mNameError\u001b[0m                                 Traceback (most recent call last)",
            "\u001b[0;32m<ipython-input-45-00f6cf4f40ad>\u001b[0m in \u001b[0;36m<cell line: 0>\u001b[0;34m()\u001b[0m\n\u001b[1;32m      1\u001b[0m response = client.messages.create(\n\u001b[0;32m----> 2\u001b[0;31m     \u001b[0mmessages\u001b[0m\u001b[0;34m=\u001b[0m\u001b[0mmessages\u001b[0m\u001b[0;34m,\u001b[0m\u001b[0;34m\u001b[0m\u001b[0;34m\u001b[0m\u001b[0m\n\u001b[0m\u001b[1;32m      3\u001b[0m     \u001b[0mresponse_model\u001b[0m\u001b[0;34m=\u001b[0m\u001b[0mTextEntries\u001b[0m\u001b[0;34m\u001b[0m\u001b[0;34m\u001b[0m\u001b[0m\n\u001b[1;32m      4\u001b[0m )\n",
            "\u001b[0;31mNameError\u001b[0m: name 'messages' is not defined"
          ]
        }
      ]
    },
    {
      "cell_type": "code",
      "source": [
        "for entry in response.entries:\n",
        "    print(entry, '\\n\\n')"
      ],
      "metadata": {
        "colab": {
          "base_uri": "https://localhost:8080/"
        },
        "id": "bA5tFV6hnieh",
        "outputId": "ef28a9dc-901d-4fa8-99c4-f1b16e65d261"
      },
      "execution_count": 68,
      "outputs": [
        {
          "output_type": "stream",
          "name": "stdout",
          "text": [
            "The quick brown rabbit, which was incredibly fast and agile, jumped over the lazy fox, which was, to put it mildly, quite lazy and unmotivated.  It was a truly remarkable feat of athleticism, considering the, uh, well, the fox's lack of exertion. \n",
            "\n",
            "\n",
            "In the realm of culinary arts, the preparation of a simple omelet, while seemingly straightforward, can actually involve a multitude of nuanced steps and considerations.  Firstly, you have to carefully select your eggs, ensuring they're the freshest, most superior eggs available.  Then, the cooking process itself, oh my goodness, requires very precise temperature control and, of course, deft wrist action. And finally, you might even add some extra ingredients. For example, you could add cheese or herbs. \n",
            "\n",
            "\n",
            "It is my considered opinion, based on a long period of careful observation and exhaustive study, that the current economic climate presents numerous challenges and also some unique and exciting opportunities.  However, it's also important to bear in mind the potential for unforeseen complications and difficulties.  In addition, there are numerous factors to consider. So, in essence, a really great deal of thought is needed before coming to any solid conclusions. \n",
            "\n",
            "\n",
            "The weather today is, let's just say, a bit unpredictable. It's kind of sunny, kind of cloudy, with a slight chance of showers.  It's the type of day where you really need to be prepared for anything.  You know, you should carry an umbrella and a jacket, just in case, because it's just one of those days. \n",
            "\n",
            "\n",
            "Considering all things, taking into account all the variables, and given the particular circumstances, it seems to me, although further investigation may be necessary, that we are faced with a particularly complex situation, one that may be rather challenging to resolve effectively. To sum up: it's complicated. \n",
            "\n",
            "\n",
            "I want to tell you a story. It is, to put it simply, about a dog.  This dog, a golden retriever of rather impressive size, lived in a large house, a very large house, with a big yard. The dog was, generally speaking, a very friendly dog, but sometimes, occasionally, he could be a bit mischievous, which is, of course, typical for a dog of his breed, size, and age. It happened then that he chased a squirrel. \n",
            "\n",
            "\n",
            "The meeting commenced at precisely 2:00 PM, as scheduled.  Attendees, all duly notified beforehand, arrived promptly, and after some initial pleasantries and preliminary discussions of relatively minor import, we began to address the primary subject matter of our convening.  The discussions, which were, naturally, quite involved, lasted for a considerable amount of time. The general outcome was positive. \n",
            "\n",
            "\n",
            "I went to the store today. It was, shall we say, an experience.  The lines were incredibly long, and the selection of items available was, well, not exactly optimal.  Plus, I had trouble finding a parking spot. Overall it was a moderately frustrating, yet not entirely unpleasant, experience. \n",
            "\n",
            "\n",
            "Well, the thing is, and this is kind of a long story, but basically what happened was this:  so I started, you know, doing this thing. And then, unexpectedly, that other thing happened.  It was quite a surprise.  And to make a long story short, it all ended up working out in the end. \n",
            "\n",
            "\n",
            "Yesterday I had a very interesting experience. I mean, it was a kind of extraordinary incident, although seemingly mundane in nature at first glance. To elaborate, what transpired was that my cat, a rather charming yet capricious feline, decided to engage in an extended session of playing, which involved a number of very interesting maneuvers and acrobatics. \n",
            "\n",
            "\n"
          ]
        }
      ]
    },
    {
      "cell_type": "code",
      "source": [],
      "metadata": {
        "id": "Of4FXZW2njoa"
      },
      "execution_count": null,
      "outputs": []
    }
  ]
}