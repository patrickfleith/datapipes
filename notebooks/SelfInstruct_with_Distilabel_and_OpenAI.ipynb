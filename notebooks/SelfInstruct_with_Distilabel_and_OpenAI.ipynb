{
  "nbformat": 4,
  "nbformat_minor": 0,
  "metadata": {
    "colab": {
      "provenance": [],
      "collapsed_sections": [
        "fvsfDixrGRbp"
      ]
    },
    "kernelspec": {
      "name": "python3",
      "display_name": "Python 3"
    },
    "language_info": {
      "name": "python"
    },
    "widgets": {
      "application/vnd.jupyter.widget-state+json": {
        "0ae8becc2f704184ab35adf86381e45d": {
          "model_module": "@jupyter-widgets/controls",
          "model_name": "HBoxModel",
          "model_module_version": "1.5.0",
          "state": {
            "_dom_classes": [],
            "_model_module": "@jupyter-widgets/controls",
            "_model_module_version": "1.5.0",
            "_model_name": "HBoxModel",
            "_view_count": null,
            "_view_module": "@jupyter-widgets/controls",
            "_view_module_version": "1.5.0",
            "_view_name": "HBoxView",
            "box_style": "",
            "children": [
              "IPY_MODEL_a6c53c36251a40a2b98474ef80131a90",
              "IPY_MODEL_08dda78c6b014e35b38e4083c8bdfead",
              "IPY_MODEL_8d3ef1f5ee0c43659e3d50227624bc9f"
            ],
            "layout": "IPY_MODEL_d7d60f645fb74b3cbe73fb1c6e4e0036"
          }
        },
        "a6c53c36251a40a2b98474ef80131a90": {
          "model_module": "@jupyter-widgets/controls",
          "model_name": "HTMLModel",
          "model_module_version": "1.5.0",
          "state": {
            "_dom_classes": [],
            "_model_module": "@jupyter-widgets/controls",
            "_model_module_version": "1.5.0",
            "_model_name": "HTMLModel",
            "_view_count": null,
            "_view_module": "@jupyter-widgets/controls",
            "_view_module_version": "1.5.0",
            "_view_name": "HTMLView",
            "description": "",
            "description_tooltip": null,
            "layout": "IPY_MODEL_d4d09f8bd3244094822455f371c36d6f",
            "placeholder": "​",
            "style": "IPY_MODEL_3ab3f5636795434096f8fa8546abd84e",
            "value": "Uploading the dataset shards: 100%"
          }
        },
        "08dda78c6b014e35b38e4083c8bdfead": {
          "model_module": "@jupyter-widgets/controls",
          "model_name": "FloatProgressModel",
          "model_module_version": "1.5.0",
          "state": {
            "_dom_classes": [],
            "_model_module": "@jupyter-widgets/controls",
            "_model_module_version": "1.5.0",
            "_model_name": "FloatProgressModel",
            "_view_count": null,
            "_view_module": "@jupyter-widgets/controls",
            "_view_module_version": "1.5.0",
            "_view_name": "ProgressView",
            "bar_style": "success",
            "description": "",
            "description_tooltip": null,
            "layout": "IPY_MODEL_988f27f0589847b79045aae24eacab53",
            "max": 1,
            "min": 0,
            "orientation": "horizontal",
            "style": "IPY_MODEL_a4cdaa7d819d4251bda6e59c6583d6d1",
            "value": 1
          }
        },
        "8d3ef1f5ee0c43659e3d50227624bc9f": {
          "model_module": "@jupyter-widgets/controls",
          "model_name": "HTMLModel",
          "model_module_version": "1.5.0",
          "state": {
            "_dom_classes": [],
            "_model_module": "@jupyter-widgets/controls",
            "_model_module_version": "1.5.0",
            "_model_name": "HTMLModel",
            "_view_count": null,
            "_view_module": "@jupyter-widgets/controls",
            "_view_module_version": "1.5.0",
            "_view_name": "HTMLView",
            "description": "",
            "description_tooltip": null,
            "layout": "IPY_MODEL_23342fa1f2cd4f34bf4006b09931a31b",
            "placeholder": "​",
            "style": "IPY_MODEL_759f20c100c348fda4d3d2cdde99c43a",
            "value": " 1/1 [00:01&lt;00:00,  1.36s/it]"
          }
        },
        "d7d60f645fb74b3cbe73fb1c6e4e0036": {
          "model_module": "@jupyter-widgets/base",
          "model_name": "LayoutModel",
          "model_module_version": "1.2.0",
          "state": {
            "_model_module": "@jupyter-widgets/base",
            "_model_module_version": "1.2.0",
            "_model_name": "LayoutModel",
            "_view_count": null,
            "_view_module": "@jupyter-widgets/base",
            "_view_module_version": "1.2.0",
            "_view_name": "LayoutView",
            "align_content": null,
            "align_items": null,
            "align_self": null,
            "border": null,
            "bottom": null,
            "display": null,
            "flex": null,
            "flex_flow": null,
            "grid_area": null,
            "grid_auto_columns": null,
            "grid_auto_flow": null,
            "grid_auto_rows": null,
            "grid_column": null,
            "grid_gap": null,
            "grid_row": null,
            "grid_template_areas": null,
            "grid_template_columns": null,
            "grid_template_rows": null,
            "height": null,
            "justify_content": null,
            "justify_items": null,
            "left": null,
            "margin": null,
            "max_height": null,
            "max_width": null,
            "min_height": null,
            "min_width": null,
            "object_fit": null,
            "object_position": null,
            "order": null,
            "overflow": null,
            "overflow_x": null,
            "overflow_y": null,
            "padding": null,
            "right": null,
            "top": null,
            "visibility": null,
            "width": null
          }
        },
        "d4d09f8bd3244094822455f371c36d6f": {
          "model_module": "@jupyter-widgets/base",
          "model_name": "LayoutModel",
          "model_module_version": "1.2.0",
          "state": {
            "_model_module": "@jupyter-widgets/base",
            "_model_module_version": "1.2.0",
            "_model_name": "LayoutModel",
            "_view_count": null,
            "_view_module": "@jupyter-widgets/base",
            "_view_module_version": "1.2.0",
            "_view_name": "LayoutView",
            "align_content": null,
            "align_items": null,
            "align_self": null,
            "border": null,
            "bottom": null,
            "display": null,
            "flex": null,
            "flex_flow": null,
            "grid_area": null,
            "grid_auto_columns": null,
            "grid_auto_flow": null,
            "grid_auto_rows": null,
            "grid_column": null,
            "grid_gap": null,
            "grid_row": null,
            "grid_template_areas": null,
            "grid_template_columns": null,
            "grid_template_rows": null,
            "height": null,
            "justify_content": null,
            "justify_items": null,
            "left": null,
            "margin": null,
            "max_height": null,
            "max_width": null,
            "min_height": null,
            "min_width": null,
            "object_fit": null,
            "object_position": null,
            "order": null,
            "overflow": null,
            "overflow_x": null,
            "overflow_y": null,
            "padding": null,
            "right": null,
            "top": null,
            "visibility": null,
            "width": null
          }
        },
        "3ab3f5636795434096f8fa8546abd84e": {
          "model_module": "@jupyter-widgets/controls",
          "model_name": "DescriptionStyleModel",
          "model_module_version": "1.5.0",
          "state": {
            "_model_module": "@jupyter-widgets/controls",
            "_model_module_version": "1.5.0",
            "_model_name": "DescriptionStyleModel",
            "_view_count": null,
            "_view_module": "@jupyter-widgets/base",
            "_view_module_version": "1.2.0",
            "_view_name": "StyleView",
            "description_width": ""
          }
        },
        "988f27f0589847b79045aae24eacab53": {
          "model_module": "@jupyter-widgets/base",
          "model_name": "LayoutModel",
          "model_module_version": "1.2.0",
          "state": {
            "_model_module": "@jupyter-widgets/base",
            "_model_module_version": "1.2.0",
            "_model_name": "LayoutModel",
            "_view_count": null,
            "_view_module": "@jupyter-widgets/base",
            "_view_module_version": "1.2.0",
            "_view_name": "LayoutView",
            "align_content": null,
            "align_items": null,
            "align_self": null,
            "border": null,
            "bottom": null,
            "display": null,
            "flex": null,
            "flex_flow": null,
            "grid_area": null,
            "grid_auto_columns": null,
            "grid_auto_flow": null,
            "grid_auto_rows": null,
            "grid_column": null,
            "grid_gap": null,
            "grid_row": null,
            "grid_template_areas": null,
            "grid_template_columns": null,
            "grid_template_rows": null,
            "height": null,
            "justify_content": null,
            "justify_items": null,
            "left": null,
            "margin": null,
            "max_height": null,
            "max_width": null,
            "min_height": null,
            "min_width": null,
            "object_fit": null,
            "object_position": null,
            "order": null,
            "overflow": null,
            "overflow_x": null,
            "overflow_y": null,
            "padding": null,
            "right": null,
            "top": null,
            "visibility": null,
            "width": null
          }
        },
        "a4cdaa7d819d4251bda6e59c6583d6d1": {
          "model_module": "@jupyter-widgets/controls",
          "model_name": "ProgressStyleModel",
          "model_module_version": "1.5.0",
          "state": {
            "_model_module": "@jupyter-widgets/controls",
            "_model_module_version": "1.5.0",
            "_model_name": "ProgressStyleModel",
            "_view_count": null,
            "_view_module": "@jupyter-widgets/base",
            "_view_module_version": "1.2.0",
            "_view_name": "StyleView",
            "bar_color": null,
            "description_width": ""
          }
        },
        "23342fa1f2cd4f34bf4006b09931a31b": {
          "model_module": "@jupyter-widgets/base",
          "model_name": "LayoutModel",
          "model_module_version": "1.2.0",
          "state": {
            "_model_module": "@jupyter-widgets/base",
            "_model_module_version": "1.2.0",
            "_model_name": "LayoutModel",
            "_view_count": null,
            "_view_module": "@jupyter-widgets/base",
            "_view_module_version": "1.2.0",
            "_view_name": "LayoutView",
            "align_content": null,
            "align_items": null,
            "align_self": null,
            "border": null,
            "bottom": null,
            "display": null,
            "flex": null,
            "flex_flow": null,
            "grid_area": null,
            "grid_auto_columns": null,
            "grid_auto_flow": null,
            "grid_auto_rows": null,
            "grid_column": null,
            "grid_gap": null,
            "grid_row": null,
            "grid_template_areas": null,
            "grid_template_columns": null,
            "grid_template_rows": null,
            "height": null,
            "justify_content": null,
            "justify_items": null,
            "left": null,
            "margin": null,
            "max_height": null,
            "max_width": null,
            "min_height": null,
            "min_width": null,
            "object_fit": null,
            "object_position": null,
            "order": null,
            "overflow": null,
            "overflow_x": null,
            "overflow_y": null,
            "padding": null,
            "right": null,
            "top": null,
            "visibility": null,
            "width": null
          }
        },
        "759f20c100c348fda4d3d2cdde99c43a": {
          "model_module": "@jupyter-widgets/controls",
          "model_name": "DescriptionStyleModel",
          "model_module_version": "1.5.0",
          "state": {
            "_model_module": "@jupyter-widgets/controls",
            "_model_module_version": "1.5.0",
            "_model_name": "DescriptionStyleModel",
            "_view_count": null,
            "_view_module": "@jupyter-widgets/base",
            "_view_module_version": "1.2.0",
            "_view_name": "StyleView",
            "description_width": ""
          }
        },
        "6c836a6e21a94f5f8ef6812b265618e3": {
          "model_module": "@jupyter-widgets/controls",
          "model_name": "HBoxModel",
          "model_module_version": "1.5.0",
          "state": {
            "_dom_classes": [],
            "_model_module": "@jupyter-widgets/controls",
            "_model_module_version": "1.5.0",
            "_model_name": "HBoxModel",
            "_view_count": null,
            "_view_module": "@jupyter-widgets/controls",
            "_view_module_version": "1.5.0",
            "_view_name": "HBoxView",
            "box_style": "",
            "children": [
              "IPY_MODEL_f29c66cd628d4a85bda369dec4da7bed",
              "IPY_MODEL_ad2aca4839c64adbb67fc6c6dcdefe11",
              "IPY_MODEL_2f9bf2a338c04d1cb2a26f6d01f793f7"
            ],
            "layout": "IPY_MODEL_ac72aaa24fb8472fb1ba759ec248e088"
          }
        },
        "f29c66cd628d4a85bda369dec4da7bed": {
          "model_module": "@jupyter-widgets/controls",
          "model_name": "HTMLModel",
          "model_module_version": "1.5.0",
          "state": {
            "_dom_classes": [],
            "_model_module": "@jupyter-widgets/controls",
            "_model_module_version": "1.5.0",
            "_model_name": "HTMLModel",
            "_view_count": null,
            "_view_module": "@jupyter-widgets/controls",
            "_view_module_version": "1.5.0",
            "_view_name": "HTMLView",
            "description": "",
            "description_tooltip": null,
            "layout": "IPY_MODEL_d03e091cfa594dc5abb464de7a521a6a",
            "placeholder": "​",
            "style": "IPY_MODEL_60998693610a47d69310c675d404aeac",
            "value": "Creating parquet from Arrow format: 100%"
          }
        },
        "ad2aca4839c64adbb67fc6c6dcdefe11": {
          "model_module": "@jupyter-widgets/controls",
          "model_name": "FloatProgressModel",
          "model_module_version": "1.5.0",
          "state": {
            "_dom_classes": [],
            "_model_module": "@jupyter-widgets/controls",
            "_model_module_version": "1.5.0",
            "_model_name": "FloatProgressModel",
            "_view_count": null,
            "_view_module": "@jupyter-widgets/controls",
            "_view_module_version": "1.5.0",
            "_view_name": "ProgressView",
            "bar_style": "success",
            "description": "",
            "description_tooltip": null,
            "layout": "IPY_MODEL_33a79e19d6dc4056a63d931c5df418c5",
            "max": 1,
            "min": 0,
            "orientation": "horizontal",
            "style": "IPY_MODEL_a95b853059b34591a999d785d1160a4d",
            "value": 1
          }
        },
        "2f9bf2a338c04d1cb2a26f6d01f793f7": {
          "model_module": "@jupyter-widgets/controls",
          "model_name": "HTMLModel",
          "model_module_version": "1.5.0",
          "state": {
            "_dom_classes": [],
            "_model_module": "@jupyter-widgets/controls",
            "_model_module_version": "1.5.0",
            "_model_name": "HTMLModel",
            "_view_count": null,
            "_view_module": "@jupyter-widgets/controls",
            "_view_module_version": "1.5.0",
            "_view_name": "HTMLView",
            "description": "",
            "description_tooltip": null,
            "layout": "IPY_MODEL_1bceb6db07a7478fbb7885f32abe69b8",
            "placeholder": "​",
            "style": "IPY_MODEL_5a81b96e03fc446289cb54afdf7cc48c",
            "value": " 1/1 [00:00&lt;00:00, 26.78ba/s]"
          }
        },
        "ac72aaa24fb8472fb1ba759ec248e088": {
          "model_module": "@jupyter-widgets/base",
          "model_name": "LayoutModel",
          "model_module_version": "1.2.0",
          "state": {
            "_model_module": "@jupyter-widgets/base",
            "_model_module_version": "1.2.0",
            "_model_name": "LayoutModel",
            "_view_count": null,
            "_view_module": "@jupyter-widgets/base",
            "_view_module_version": "1.2.0",
            "_view_name": "LayoutView",
            "align_content": null,
            "align_items": null,
            "align_self": null,
            "border": null,
            "bottom": null,
            "display": null,
            "flex": null,
            "flex_flow": null,
            "grid_area": null,
            "grid_auto_columns": null,
            "grid_auto_flow": null,
            "grid_auto_rows": null,
            "grid_column": null,
            "grid_gap": null,
            "grid_row": null,
            "grid_template_areas": null,
            "grid_template_columns": null,
            "grid_template_rows": null,
            "height": null,
            "justify_content": null,
            "justify_items": null,
            "left": null,
            "margin": null,
            "max_height": null,
            "max_width": null,
            "min_height": null,
            "min_width": null,
            "object_fit": null,
            "object_position": null,
            "order": null,
            "overflow": null,
            "overflow_x": null,
            "overflow_y": null,
            "padding": null,
            "right": null,
            "top": null,
            "visibility": null,
            "width": null
          }
        },
        "d03e091cfa594dc5abb464de7a521a6a": {
          "model_module": "@jupyter-widgets/base",
          "model_name": "LayoutModel",
          "model_module_version": "1.2.0",
          "state": {
            "_model_module": "@jupyter-widgets/base",
            "_model_module_version": "1.2.0",
            "_model_name": "LayoutModel",
            "_view_count": null,
            "_view_module": "@jupyter-widgets/base",
            "_view_module_version": "1.2.0",
            "_view_name": "LayoutView",
            "align_content": null,
            "align_items": null,
            "align_self": null,
            "border": null,
            "bottom": null,
            "display": null,
            "flex": null,
            "flex_flow": null,
            "grid_area": null,
            "grid_auto_columns": null,
            "grid_auto_flow": null,
            "grid_auto_rows": null,
            "grid_column": null,
            "grid_gap": null,
            "grid_row": null,
            "grid_template_areas": null,
            "grid_template_columns": null,
            "grid_template_rows": null,
            "height": null,
            "justify_content": null,
            "justify_items": null,
            "left": null,
            "margin": null,
            "max_height": null,
            "max_width": null,
            "min_height": null,
            "min_width": null,
            "object_fit": null,
            "object_position": null,
            "order": null,
            "overflow": null,
            "overflow_x": null,
            "overflow_y": null,
            "padding": null,
            "right": null,
            "top": null,
            "visibility": null,
            "width": null
          }
        },
        "60998693610a47d69310c675d404aeac": {
          "model_module": "@jupyter-widgets/controls",
          "model_name": "DescriptionStyleModel",
          "model_module_version": "1.5.0",
          "state": {
            "_model_module": "@jupyter-widgets/controls",
            "_model_module_version": "1.5.0",
            "_model_name": "DescriptionStyleModel",
            "_view_count": null,
            "_view_module": "@jupyter-widgets/base",
            "_view_module_version": "1.2.0",
            "_view_name": "StyleView",
            "description_width": ""
          }
        },
        "33a79e19d6dc4056a63d931c5df418c5": {
          "model_module": "@jupyter-widgets/base",
          "model_name": "LayoutModel",
          "model_module_version": "1.2.0",
          "state": {
            "_model_module": "@jupyter-widgets/base",
            "_model_module_version": "1.2.0",
            "_model_name": "LayoutModel",
            "_view_count": null,
            "_view_module": "@jupyter-widgets/base",
            "_view_module_version": "1.2.0",
            "_view_name": "LayoutView",
            "align_content": null,
            "align_items": null,
            "align_self": null,
            "border": null,
            "bottom": null,
            "display": null,
            "flex": null,
            "flex_flow": null,
            "grid_area": null,
            "grid_auto_columns": null,
            "grid_auto_flow": null,
            "grid_auto_rows": null,
            "grid_column": null,
            "grid_gap": null,
            "grid_row": null,
            "grid_template_areas": null,
            "grid_template_columns": null,
            "grid_template_rows": null,
            "height": null,
            "justify_content": null,
            "justify_items": null,
            "left": null,
            "margin": null,
            "max_height": null,
            "max_width": null,
            "min_height": null,
            "min_width": null,
            "object_fit": null,
            "object_position": null,
            "order": null,
            "overflow": null,
            "overflow_x": null,
            "overflow_y": null,
            "padding": null,
            "right": null,
            "top": null,
            "visibility": null,
            "width": null
          }
        },
        "a95b853059b34591a999d785d1160a4d": {
          "model_module": "@jupyter-widgets/controls",
          "model_name": "ProgressStyleModel",
          "model_module_version": "1.5.0",
          "state": {
            "_model_module": "@jupyter-widgets/controls",
            "_model_module_version": "1.5.0",
            "_model_name": "ProgressStyleModel",
            "_view_count": null,
            "_view_module": "@jupyter-widgets/base",
            "_view_module_version": "1.2.0",
            "_view_name": "StyleView",
            "bar_color": null,
            "description_width": ""
          }
        },
        "1bceb6db07a7478fbb7885f32abe69b8": {
          "model_module": "@jupyter-widgets/base",
          "model_name": "LayoutModel",
          "model_module_version": "1.2.0",
          "state": {
            "_model_module": "@jupyter-widgets/base",
            "_model_module_version": "1.2.0",
            "_model_name": "LayoutModel",
            "_view_count": null,
            "_view_module": "@jupyter-widgets/base",
            "_view_module_version": "1.2.0",
            "_view_name": "LayoutView",
            "align_content": null,
            "align_items": null,
            "align_self": null,
            "border": null,
            "bottom": null,
            "display": null,
            "flex": null,
            "flex_flow": null,
            "grid_area": null,
            "grid_auto_columns": null,
            "grid_auto_flow": null,
            "grid_auto_rows": null,
            "grid_column": null,
            "grid_gap": null,
            "grid_row": null,
            "grid_template_areas": null,
            "grid_template_columns": null,
            "grid_template_rows": null,
            "height": null,
            "justify_content": null,
            "justify_items": null,
            "left": null,
            "margin": null,
            "max_height": null,
            "max_width": null,
            "min_height": null,
            "min_width": null,
            "object_fit": null,
            "object_position": null,
            "order": null,
            "overflow": null,
            "overflow_x": null,
            "overflow_y": null,
            "padding": null,
            "right": null,
            "top": null,
            "visibility": null,
            "width": null
          }
        },
        "5a81b96e03fc446289cb54afdf7cc48c": {
          "model_module": "@jupyter-widgets/controls",
          "model_name": "DescriptionStyleModel",
          "model_module_version": "1.5.0",
          "state": {
            "_model_module": "@jupyter-widgets/controls",
            "_model_module_version": "1.5.0",
            "_model_name": "DescriptionStyleModel",
            "_view_count": null,
            "_view_module": "@jupyter-widgets/base",
            "_view_module_version": "1.2.0",
            "_view_name": "StyleView",
            "description_width": ""
          }
        },
        "ab7e93caeb304c8da894d65ab5da3304": {
          "model_module": "@jupyter-widgets/controls",
          "model_name": "HBoxModel",
          "model_module_version": "1.5.0",
          "state": {
            "_dom_classes": [],
            "_model_module": "@jupyter-widgets/controls",
            "_model_module_version": "1.5.0",
            "_model_name": "HBoxModel",
            "_view_count": null,
            "_view_module": "@jupyter-widgets/controls",
            "_view_module_version": "1.5.0",
            "_view_name": "HBoxView",
            "box_style": "",
            "children": [
              "IPY_MODEL_a4c31a5b01134b86949a3611454f09ab",
              "IPY_MODEL_906ea6d080844d4d8872a5924672202d",
              "IPY_MODEL_365edd5f303949429aaf042a4c23d2ec"
            ],
            "layout": "IPY_MODEL_d8a62f58dfe24e81b723312e9c8a1fd6"
          }
        },
        "a4c31a5b01134b86949a3611454f09ab": {
          "model_module": "@jupyter-widgets/controls",
          "model_name": "HTMLModel",
          "model_module_version": "1.5.0",
          "state": {
            "_dom_classes": [],
            "_model_module": "@jupyter-widgets/controls",
            "_model_module_version": "1.5.0",
            "_model_name": "HTMLModel",
            "_view_count": null,
            "_view_module": "@jupyter-widgets/controls",
            "_view_module_version": "1.5.0",
            "_view_name": "HTMLView",
            "description": "",
            "description_tooltip": null,
            "layout": "IPY_MODEL_108897eef7264af2aa367b64e5243374",
            "placeholder": "​",
            "style": "IPY_MODEL_890ec0d6c0c04af680f4d6b3b284220d",
            "value": "README.md: 100%"
          }
        },
        "906ea6d080844d4d8872a5924672202d": {
          "model_module": "@jupyter-widgets/controls",
          "model_name": "FloatProgressModel",
          "model_module_version": "1.5.0",
          "state": {
            "_dom_classes": [],
            "_model_module": "@jupyter-widgets/controls",
            "_model_module_version": "1.5.0",
            "_model_name": "FloatProgressModel",
            "_view_count": null,
            "_view_module": "@jupyter-widgets/controls",
            "_view_module_version": "1.5.0",
            "_view_name": "ProgressView",
            "bar_style": "success",
            "description": "",
            "description_tooltip": null,
            "layout": "IPY_MODEL_382cb0b7111343468d7eb7c7ad36b861",
            "max": 304,
            "min": 0,
            "orientation": "horizontal",
            "style": "IPY_MODEL_8a17780a90e544e3b574bcda3bae44c3",
            "value": 304
          }
        },
        "365edd5f303949429aaf042a4c23d2ec": {
          "model_module": "@jupyter-widgets/controls",
          "model_name": "HTMLModel",
          "model_module_version": "1.5.0",
          "state": {
            "_dom_classes": [],
            "_model_module": "@jupyter-widgets/controls",
            "_model_module_version": "1.5.0",
            "_model_name": "HTMLModel",
            "_view_count": null,
            "_view_module": "@jupyter-widgets/controls",
            "_view_module_version": "1.5.0",
            "_view_name": "HTMLView",
            "description": "",
            "description_tooltip": null,
            "layout": "IPY_MODEL_160bb278437d4120a2cec33c10121efd",
            "placeholder": "​",
            "style": "IPY_MODEL_aa531da7acc94b8bad750a4aebdf78aa",
            "value": " 304/304 [00:00&lt;00:00, 9.01kB/s]"
          }
        },
        "d8a62f58dfe24e81b723312e9c8a1fd6": {
          "model_module": "@jupyter-widgets/base",
          "model_name": "LayoutModel",
          "model_module_version": "1.2.0",
          "state": {
            "_model_module": "@jupyter-widgets/base",
            "_model_module_version": "1.2.0",
            "_model_name": "LayoutModel",
            "_view_count": null,
            "_view_module": "@jupyter-widgets/base",
            "_view_module_version": "1.2.0",
            "_view_name": "LayoutView",
            "align_content": null,
            "align_items": null,
            "align_self": null,
            "border": null,
            "bottom": null,
            "display": null,
            "flex": null,
            "flex_flow": null,
            "grid_area": null,
            "grid_auto_columns": null,
            "grid_auto_flow": null,
            "grid_auto_rows": null,
            "grid_column": null,
            "grid_gap": null,
            "grid_row": null,
            "grid_template_areas": null,
            "grid_template_columns": null,
            "grid_template_rows": null,
            "height": null,
            "justify_content": null,
            "justify_items": null,
            "left": null,
            "margin": null,
            "max_height": null,
            "max_width": null,
            "min_height": null,
            "min_width": null,
            "object_fit": null,
            "object_position": null,
            "order": null,
            "overflow": null,
            "overflow_x": null,
            "overflow_y": null,
            "padding": null,
            "right": null,
            "top": null,
            "visibility": null,
            "width": null
          }
        },
        "108897eef7264af2aa367b64e5243374": {
          "model_module": "@jupyter-widgets/base",
          "model_name": "LayoutModel",
          "model_module_version": "1.2.0",
          "state": {
            "_model_module": "@jupyter-widgets/base",
            "_model_module_version": "1.2.0",
            "_model_name": "LayoutModel",
            "_view_count": null,
            "_view_module": "@jupyter-widgets/base",
            "_view_module_version": "1.2.0",
            "_view_name": "LayoutView",
            "align_content": null,
            "align_items": null,
            "align_self": null,
            "border": null,
            "bottom": null,
            "display": null,
            "flex": null,
            "flex_flow": null,
            "grid_area": null,
            "grid_auto_columns": null,
            "grid_auto_flow": null,
            "grid_auto_rows": null,
            "grid_column": null,
            "grid_gap": null,
            "grid_row": null,
            "grid_template_areas": null,
            "grid_template_columns": null,
            "grid_template_rows": null,
            "height": null,
            "justify_content": null,
            "justify_items": null,
            "left": null,
            "margin": null,
            "max_height": null,
            "max_width": null,
            "min_height": null,
            "min_width": null,
            "object_fit": null,
            "object_position": null,
            "order": null,
            "overflow": null,
            "overflow_x": null,
            "overflow_y": null,
            "padding": null,
            "right": null,
            "top": null,
            "visibility": null,
            "width": null
          }
        },
        "890ec0d6c0c04af680f4d6b3b284220d": {
          "model_module": "@jupyter-widgets/controls",
          "model_name": "DescriptionStyleModel",
          "model_module_version": "1.5.0",
          "state": {
            "_model_module": "@jupyter-widgets/controls",
            "_model_module_version": "1.5.0",
            "_model_name": "DescriptionStyleModel",
            "_view_count": null,
            "_view_module": "@jupyter-widgets/base",
            "_view_module_version": "1.2.0",
            "_view_name": "StyleView",
            "description_width": ""
          }
        },
        "382cb0b7111343468d7eb7c7ad36b861": {
          "model_module": "@jupyter-widgets/base",
          "model_name": "LayoutModel",
          "model_module_version": "1.2.0",
          "state": {
            "_model_module": "@jupyter-widgets/base",
            "_model_module_version": "1.2.0",
            "_model_name": "LayoutModel",
            "_view_count": null,
            "_view_module": "@jupyter-widgets/base",
            "_view_module_version": "1.2.0",
            "_view_name": "LayoutView",
            "align_content": null,
            "align_items": null,
            "align_self": null,
            "border": null,
            "bottom": null,
            "display": null,
            "flex": null,
            "flex_flow": null,
            "grid_area": null,
            "grid_auto_columns": null,
            "grid_auto_flow": null,
            "grid_auto_rows": null,
            "grid_column": null,
            "grid_gap": null,
            "grid_row": null,
            "grid_template_areas": null,
            "grid_template_columns": null,
            "grid_template_rows": null,
            "height": null,
            "justify_content": null,
            "justify_items": null,
            "left": null,
            "margin": null,
            "max_height": null,
            "max_width": null,
            "min_height": null,
            "min_width": null,
            "object_fit": null,
            "object_position": null,
            "order": null,
            "overflow": null,
            "overflow_x": null,
            "overflow_y": null,
            "padding": null,
            "right": null,
            "top": null,
            "visibility": null,
            "width": null
          }
        },
        "8a17780a90e544e3b574bcda3bae44c3": {
          "model_module": "@jupyter-widgets/controls",
          "model_name": "ProgressStyleModel",
          "model_module_version": "1.5.0",
          "state": {
            "_model_module": "@jupyter-widgets/controls",
            "_model_module_version": "1.5.0",
            "_model_name": "ProgressStyleModel",
            "_view_count": null,
            "_view_module": "@jupyter-widgets/base",
            "_view_module_version": "1.2.0",
            "_view_name": "StyleView",
            "bar_color": null,
            "description_width": ""
          }
        },
        "160bb278437d4120a2cec33c10121efd": {
          "model_module": "@jupyter-widgets/base",
          "model_name": "LayoutModel",
          "model_module_version": "1.2.0",
          "state": {
            "_model_module": "@jupyter-widgets/base",
            "_model_module_version": "1.2.0",
            "_model_name": "LayoutModel",
            "_view_count": null,
            "_view_module": "@jupyter-widgets/base",
            "_view_module_version": "1.2.0",
            "_view_name": "LayoutView",
            "align_content": null,
            "align_items": null,
            "align_self": null,
            "border": null,
            "bottom": null,
            "display": null,
            "flex": null,
            "flex_flow": null,
            "grid_area": null,
            "grid_auto_columns": null,
            "grid_auto_flow": null,
            "grid_auto_rows": null,
            "grid_column": null,
            "grid_gap": null,
            "grid_row": null,
            "grid_template_areas": null,
            "grid_template_columns": null,
            "grid_template_rows": null,
            "height": null,
            "justify_content": null,
            "justify_items": null,
            "left": null,
            "margin": null,
            "max_height": null,
            "max_width": null,
            "min_height": null,
            "min_width": null,
            "object_fit": null,
            "object_position": null,
            "order": null,
            "overflow": null,
            "overflow_x": null,
            "overflow_y": null,
            "padding": null,
            "right": null,
            "top": null,
            "visibility": null,
            "width": null
          }
        },
        "aa531da7acc94b8bad750a4aebdf78aa": {
          "model_module": "@jupyter-widgets/controls",
          "model_name": "DescriptionStyleModel",
          "model_module_version": "1.5.0",
          "state": {
            "_model_module": "@jupyter-widgets/controls",
            "_model_module_version": "1.5.0",
            "_model_name": "DescriptionStyleModel",
            "_view_count": null,
            "_view_module": "@jupyter-widgets/base",
            "_view_module_version": "1.2.0",
            "_view_name": "StyleView",
            "description_width": ""
          }
        }
      }
    }
  },
  "cells": [
    {
      "cell_type": "markdown",
      "source": [
        "# SelfInstruct with Distilabel and OpenAI\n",
        "\n",
        "[<img src=\"https://raw.githubusercontent.com/argilla-io/distilabel/main/docs/assets/distilabel-badge-light.png\" alt=\"Built with Distilabel\" width=\"200\" height=\"32\"/>](https://github.com/argilla-io/distilabel)\n",
        "\n",
        "This notebook shows how to generate instructions with the **SelfInstruct approach**\n",
        "- It is based on this paper: https://arxiv.org/pdf/2212.10560\n",
        "\n",
        "**Table of content**\n",
        "- Start from a list of very specific topics\n",
        "- Create a disitlabel pipeline with SelftInstruct\n",
        "- Generate a dataset of instructions related to these topics."
      ],
      "metadata": {
        "id": "E8P7GmN5E5v4"
      }
    },
    {
      "cell_type": "markdown",
      "source": [
        "# Imports and Setup of distilabel with OpenAI\n",
        "- As we use `openai` you'll need to setup your `OPENAI_API_KEY` (read a guide here [here](https://github.com/patrickfleith/datapipes/blob/main/notebooks/How_to_use_an_OpenAI_Chat_model.ipynb))\n",
        "- We will not use the openai client, but the distilabel wrapper, to interface with a `SelfInstruct` pipeline."
      ],
      "metadata": {
        "id": "fvsfDixrGRbp"
      }
    },
    {
      "cell_type": "code",
      "execution_count": 1,
      "metadata": {
        "colab": {
          "base_uri": "https://localhost:8080/"
        },
        "id": "L3Ky2nSAvd19",
        "outputId": "5d98fa2d-d69d-4135-bf1f-336530f25a1a"
      },
      "outputs": [
        {
          "output_type": "stream",
          "name": "stdout",
          "text": [
            "\u001b[2K   \u001b[90m━━━━━━━━━━━━━━━━━━━━━━━━━━━━━━━━━━━━━━━━\u001b[0m \u001b[32m442.2/442.2 kB\u001b[0m \u001b[31m5.5 MB/s\u001b[0m eta \u001b[36m0:00:00\u001b[0m\n",
            "\u001b[2K   \u001b[90m━━━━━━━━━━━━━━━━━━━━━━━━━━━━━━━━━━━━━━━━\u001b[0m \u001b[32m480.6/480.6 kB\u001b[0m \u001b[31m7.9 MB/s\u001b[0m eta \u001b[36m0:00:00\u001b[0m\n",
            "\u001b[2K   \u001b[90m━━━━━━━━━━━━━━━━━━━━━━━━━━━━━━━━━━━━━━━━\u001b[0m \u001b[32m134.8/134.8 kB\u001b[0m \u001b[31m3.4 MB/s\u001b[0m eta \u001b[36m0:00:00\u001b[0m\n",
            "\u001b[2K   \u001b[90m━━━━━━━━━━━━━━━━━━━━━━━━━━━━━━━━━━━━━━━━\u001b[0m \u001b[32m50.1/50.1 kB\u001b[0m \u001b[31m1.5 MB/s\u001b[0m eta \u001b[36m0:00:00\u001b[0m\n",
            "\u001b[2K   \u001b[90m━━━━━━━━━━━━━━━━━━━━━━━━━━━━━━━━━━━━━━━━\u001b[0m \u001b[32m116.3/116.3 kB\u001b[0m \u001b[31m4.2 MB/s\u001b[0m eta \u001b[36m0:00:00\u001b[0m\n",
            "\u001b[2K   \u001b[90m━━━━━━━━━━━━━━━━━━━━━━━━━━━━━━━━━━━━━━━━\u001b[0m \u001b[32m179.3/179.3 kB\u001b[0m \u001b[31m10.5 MB/s\u001b[0m eta \u001b[36m0:00:00\u001b[0m\n",
            "\u001b[2K   \u001b[90m━━━━━━━━━━━━━━━━━━━━━━━━━━━━━━━━━━━━━━━━\u001b[0m \u001b[32m194.1/194.1 kB\u001b[0m \u001b[31m9.7 MB/s\u001b[0m eta \u001b[36m0:00:00\u001b[0m\n",
            "\u001b[?25h\u001b[31mERROR: pip's dependency resolver does not currently take into account all the packages that are installed. This behaviour is the source of the following dependency conflicts.\n",
            "gcsfs 2024.10.0 requires fsspec==2024.10.0, but you have fsspec 2024.9.0 which is incompatible.\u001b[0m\u001b[31m\n",
            "\u001b[0m"
          ]
        }
      ],
      "source": [
        "!pip install distilabel --upgrade --quiet"
      ]
    },
    {
      "cell_type": "code",
      "source": [
        "from distilabel.steps.tasks import SelfInstruct\n",
        "from distilabel.llms import OpenAILLM\n",
        "from google.colab import userdata\n",
        "import distilabel\n",
        "import openai"
      ],
      "metadata": {
        "id": "sLx4EIEAvtIf"
      },
      "execution_count": 2,
      "outputs": []
    },
    {
      "cell_type": "code",
      "source": [
        "# printing my version such you can check yours - in check of troubles\n",
        "print(f\"Open AI version: {openai.__version__}\")\n",
        "print(f\"Distilabel version: {distilabel.__version__}\")"
      ],
      "metadata": {
        "colab": {
          "base_uri": "https://localhost:8080/"
        },
        "id": "fqnavsFYEFcS",
        "outputId": "342e2787-a3a6-4e9b-f465-ccf8ca160efc"
      },
      "execution_count": 3,
      "outputs": [
        {
          "output_type": "stream",
          "name": "stdout",
          "text": [
            "Open AI version: 1.57.4\n",
            "Distilabel version: 1.4.2\n"
          ]
        }
      ]
    },
    {
      "cell_type": "code",
      "source": [
        "# printing my version such you can check yours - in check of troubles\n",
        "print(f\"Open AI version: {openai.__version__}\")\n",
        "print(f\"Distilabel version: {distilabel.__version__}\")"
      ],
      "metadata": {
        "colab": {
          "base_uri": "https://localhost:8080/"
        },
        "id": "rtZmsBgoDqoG",
        "outputId": "221f8392-2c67-40e0-c1c6-931bae1cbf55"
      },
      "execution_count": null,
      "outputs": [
        {
          "output_type": "stream",
          "name": "stdout",
          "text": [
            "Open AI version: 1.54.4\n",
            "Distilabel version: 1.4.1\n"
          ]
        }
      ]
    },
    {
      "cell_type": "code",
      "source": [
        "# load your API key\n",
        "OPENAI_API_KEY = userdata.get('OPENAI_API_KEY')"
      ],
      "metadata": {
        "id": "u8Nr_xcdwEN7"
      },
      "execution_count": 4,
      "outputs": []
    },
    {
      "cell_type": "markdown",
      "source": [
        "Documentation for `SeltInstruct` is here:\n",
        "- `https://distilabel.argilla.io/dev/components-gallery/tasks/selfinstruct/`"
      ],
      "metadata": {
        "id": "d9nw7CwVD2OM"
      }
    },
    {
      "cell_type": "markdown",
      "source": [
        "# Creating the Instruction Generation pipeline with `SelfInstruct`\n",
        "\n",
        "For the inner working of `SelftInstruct` read the paper, it is short and very informative [here](https://arxiv.org/pdf/2212.10560). In this notebook we focus on applying it and shipping a dataset ⚡\n",
        "\n",
        "### So what is SelfInstruct?\n",
        "\n",
        "What are the mandatory pieces:\n",
        "- **`llm`** - Can be from a closed one like OpenAI api, Gemini, Anthropic or an open-source one like Llama or Mistral.\n",
        "- A list of seed topics: typically something like `topics = ['spacewalk', 'french cheese', 'hiking in winter']`\n",
        "\n",
        "\n"
      ],
      "metadata": {
        "id": "b33q4dBoHilZ"
      }
    },
    {
      "cell_type": "code",
      "source": [
        "llm = OpenAILLM(model=\"gpt-4o-mini\", api_key=OPENAI_API_KEY)\n",
        "seeds = ['spacewalk', 'french cheese', 'hiking in winter']\n",
        "\n",
        "\n",
        "self_instruct = SelfInstruct(\n",
        "    llm=llm\n",
        ")\n",
        "\n",
        "self_instruct.load()"
      ],
      "metadata": {
        "colab": {
          "base_uri": "https://localhost:8080/"
        },
        "id": "wpYZGhKAK3u2",
        "outputId": "1dba155d-9b60-4621-c7da-27fff80f718e"
      },
      "execution_count": 5,
      "outputs": [
        {
          "output_type": "stream",
          "name": "stderr",
          "text": [
            "WARNING:distilabel.step.None:Step 'None' hasn't received a pipeline, and it hasn't been created within a `Pipeline` context. Please, use `with Pipeline() as pipeline:` and create the step within the context.\n"
          ]
        }
      ]
    },
    {
      "cell_type": "code",
      "source": [
        "result = next(self_instruct.process([{\"input\": seed} for seed in seeds]))"
      ],
      "metadata": {
        "id": "18Mf9nz1P-5-"
      },
      "execution_count": 6,
      "outputs": []
    },
    {
      "cell_type": "markdown",
      "source": [
        "By default, a `SelftInstruct` Task will generate one result object per seed.\n",
        "- each result will have 5 generated instruction (default which can be changed. See below)."
      ],
      "metadata": {
        "id": "CH0lPARQQyWG"
      }
    },
    {
      "cell_type": "code",
      "source": [
        "# there are as much result as seed\n",
        "len(result), len(seeds)"
      ],
      "metadata": {
        "colab": {
          "base_uri": "https://localhost:8080/"
        },
        "id": "V5w2-CMkQnrH",
        "outputId": "ce3dce97-b3c4-49e7-99b6-cab97f6470bb"
      },
      "execution_count": 7,
      "outputs": [
        {
          "output_type": "execute_result",
          "data": {
            "text/plain": [
              "(3, 3)"
            ]
          },
          "metadata": {},
          "execution_count": 7
        }
      ]
    },
    {
      "cell_type": "markdown",
      "source": [
        "**Let's look at the first item in result:**\n",
        "- is a dictionary → cool for further processing\n",
        "- keep the input seed for traceability\n",
        "- included a list of generated instructions at the `instructions` key.\n",
        "- keep track of the model used to generate it\n",
        "- keep track of the full criteria list\n",
        "- you can also see the full prompt (including the criteria used)"
      ],
      "metadata": {
        "id": "Di7yRUY8RR1Q"
      }
    },
    {
      "cell_type": "code",
      "source": [
        "result[0]"
      ],
      "metadata": {
        "colab": {
          "base_uri": "https://localhost:8080/"
        },
        "id": "2IaV1QE0RNoI",
        "outputId": "3d95abce-2752-4e0f-bf07-16896c7f4719"
      },
      "execution_count": 8,
      "outputs": [
        {
          "output_type": "execute_result",
          "data": {
            "text/plain": [
              "{'input': 'spacewalk',\n",
              " 'instructions': ['What challenges do astronauts face during a spacewalk?  ',\n",
              "  'Explain the steps involved in preparing for a spacewalk mission.  ',\n",
              "  'Describe the tools and equipment typically used in a spacewalk.  ',\n",
              "  'Illustrate the importance of teamwork during a spacewalk operation.  ',\n",
              "  'Summarize the historical milestones in spacewalks since their inception.'],\n",
              " 'distilabel_metadata': {'raw_output_self_instruct_0': 'What challenges do astronauts face during a spacewalk?  \\nExplain the steps involved in preparing for a spacewalk mission.  \\nDescribe the tools and equipment typically used in a spacewalk.  \\nIllustrate the importance of teamwork during a spacewalk operation.  \\nSummarize the historical milestones in spacewalks since their inception.',\n",
              "  'raw_input_self_instruct_0': [{'role': 'user',\n",
              "    'content': '# Task Description\\nDevelop 5 user queries that can be received by the given AI application and applicable to the provided context. Emphasize diversity in verbs and linguistic structures within the model\\'s textual capabilities.\\n\\n# Criteria for Queries\\nIncorporate a diverse range of verbs, avoiding repetition.\\nEnsure queries are compatible with AI model\\'s text generation functions and are limited to 1-2 sentences.\\nDesign queries to be self-contained and standalone.\\nBlend interrogative (e.g., \"What is the significance of x?\") and imperative (e.g., \"Detail the process of x.\") styles.\\nWrite each query on a separate line and avoid using numbered lists or bullet points.\\n\\n# AI Application\\nAI assistant\\n\\n# Context\\nspacewalk\\n\\n# Output\\n'}]},\n",
              " 'model_name': 'gpt-4o-mini'}"
            ]
          },
          "metadata": {},
          "execution_count": 8
        }
      ]
    },
    {
      "cell_type": "markdown",
      "source": [
        "Let's look at what kind of instructions have been generated for the seed `spacewalk`"
      ],
      "metadata": {
        "id": "HsPj091wE2vQ"
      }
    },
    {
      "cell_type": "code",
      "source": [
        "# let's look at the instructions\n",
        "for idx, inst in enumerate(result[0]['instructions']):\n",
        "    print(f\"{idx+1}. {inst}\")"
      ],
      "metadata": {
        "colab": {
          "base_uri": "https://localhost:8080/"
        },
        "id": "C4X8pySVTIBr",
        "outputId": "c2bf20e9-a2d4-48cb-ac42-a528f2583d80"
      },
      "execution_count": 9,
      "outputs": [
        {
          "output_type": "stream",
          "name": "stdout",
          "text": [
            "1. What challenges do astronauts face during a spacewalk?  \n",
            "2. Explain the steps involved in preparing for a spacewalk mission.  \n",
            "3. Describe the tools and equipment typically used in a spacewalk.  \n",
            "4. Illustrate the importance of teamwork during a spacewalk operation.  \n",
            "5. Summarize the historical milestones in spacewalks since their inception.\n"
          ]
        }
      ]
    },
    {
      "cell_type": "markdown",
      "source": [
        "We can also check the full prompt used under the hood 👀"
      ],
      "metadata": {
        "id": "WWB0mc_cFAHD"
      }
    },
    {
      "cell_type": "code",
      "source": [
        "print(result[0]['distilabel_metadata']['raw_input_self_instruct_0'][0]['content'])"
      ],
      "metadata": {
        "colab": {
          "base_uri": "https://localhost:8080/"
        },
        "id": "4hFPt1GRSaVr",
        "outputId": "b677931a-75f4-4542-cb7c-dc1e805668ff"
      },
      "execution_count": 11,
      "outputs": [
        {
          "output_type": "stream",
          "name": "stdout",
          "text": [
            "# Task Description\n",
            "Develop 5 user queries that can be received by the given AI application and applicable to the provided context. Emphasize diversity in verbs and linguistic structures within the model's textual capabilities.\n",
            "\n",
            "# Criteria for Queries\n",
            "Incorporate a diverse range of verbs, avoiding repetition.\n",
            "Ensure queries are compatible with AI model's text generation functions and are limited to 1-2 sentences.\n",
            "Design queries to be self-contained and standalone.\n",
            "Blend interrogative (e.g., \"What is the significance of x?\") and imperative (e.g., \"Detail the process of x.\") styles.\n",
            "Write each query on a separate line and avoid using numbered lists or bullet points.\n",
            "\n",
            "# AI Application\n",
            "AI assistant\n",
            "\n",
            "# Context\n",
            "spacewalk\n",
            "\n",
            "# Output\n",
            "\n"
          ]
        }
      ]
    },
    {
      "cell_type": "markdown",
      "source": [
        "# Customise the pipeline\n",
        "\n",
        "To customise the pipeline we can change the following parameters.\n",
        "\n",
        "- **`application_description`**: (Optional) The description of the AI application that one want to build with these instructions. Defaults to AI assistant.\n",
        "- **criteria_for_query_generation**: (Optional) criteria used internally to generate good quality instructions hopefully meeting these criteria\n",
        "- **`num_instructions`**: (Optional) The number of instructions to be generated. Defaults to 5."
      ],
      "metadata": {
        "id": "d1qIbCy-Tr4Z"
      }
    },
    {
      "cell_type": "code",
      "source": [
        "llm=OpenAILLM(model=\"gpt-4o-mini\", api_key=OPENAI_API_KEY)\n",
        "\n",
        "application_description = \"AI assistant for customer advises in a clothing shop\"\n",
        "\n",
        "custom_criteria_for_query_generation = \"\"\"\n",
        "Incorporate a diverse range of verbs, avoiding repetition.\n",
        "Ensure queries are compatible with AI model's text generation functions and are limited to 1-2 sentences.\n",
        "Design queries to be self-contained and standalone.\n",
        "Blend interrogative (e.g., \"What is the significance of x?\") and imperative (e.g., \"Detail the process of x.\") styles.\n",
        "All queries shall absolutely be written in English\n",
        "\"\"\"\n",
        "\n",
        "seeds = ['new trends', 'hat', 'hiking in winter']\n",
        "\n",
        "self_instruct = SelfInstruct(\n",
        "    llm=llm,\n",
        "    num_instructions=7,\n",
        "    application_description=application_description,\n",
        "    criteria_for_query_generation=custom_criteria_for_query_generation\n",
        ")\n",
        "\n",
        "self_instruct.load()\n",
        "\n",
        "result = next(self_instruct.process([{\"input\": seed} for seed in seeds]))"
      ],
      "metadata": {
        "colab": {
          "base_uri": "https://localhost:8080/"
        },
        "id": "iqogDnKEL-WN",
        "outputId": "ed2a9b36-0512-47e8-8f74-e43bff2b53a5"
      },
      "execution_count": 14,
      "outputs": [
        {
          "output_type": "stream",
          "name": "stderr",
          "text": [
            "WARNING:distilabel.step.None:Step 'None' hasn't received a pipeline, and it hasn't been created within a `Pipeline` context. Please, use `with Pipeline() as pipeline:` and create the step within the context.\n"
          ]
        }
      ]
    },
    {
      "cell_type": "code",
      "source": [
        "for idx, seed in enumerate(seeds):\n",
        "    print(seed, '\\n')\n",
        "    for idx, inst in enumerate(result[idx]['instructions']):\n",
        "        print(f\"{idx+1}. {inst}\")\n",
        "    print('\\n')"
      ],
      "metadata": {
        "colab": {
          "base_uri": "https://localhost:8080/"
        },
        "id": "EHLqF8SXVoPQ",
        "outputId": "bddcc62b-c89d-479b-be11-b572c52d66e1"
      },
      "execution_count": 15,
      "outputs": [
        {
          "output_type": "stream",
          "name": "stdout",
          "text": [
            "new trends \n",
            "\n",
            "1. What are the latest clothing trends for this season?  \n",
            "2. Describe how to incorporate bold colors into a wardrobe this year.  \n",
            "3. Can you summarize the emerging styles in activewear?  \n",
            "4. Suggest some outfit combinations that align with the current fashion trends.  \n",
            "5. Highlight the key fabrics that are gaining popularity right now.  \n",
            "6. Explore the influence of streetwear on contemporary fashion trends.  \n",
            "7. Outline the must-have accessories that complement this season’s styles.  \n",
            "\n",
            "\n",
            "hat \n",
            "\n",
            "1. What are the latest trends in hats for this season? \n",
            "2. Explain the differences between fedoras and baseball caps in terms of style and occasion. \n",
            "3. Suggest some outfit combinations that would work well with a wide-brimmed hat. \n",
            "4. How should I care for and maintain my wool felt hat to ensure it lasts? \n",
            "5. Illustrate the process of choosing the right hat size for different head shapes. \n",
            "6. Can you recommend any eco-friendly hat brands that prioritize sustainable materials? \n",
            "7. Describe the various types of hats suitable for summer outdoor activities.\n",
            "\n",
            "\n",
            "hiking in winter \n",
            "\n",
            "1. What are the best materials for winter hiking clothing to ensure warmth and breathability?  \n",
            "2. Suggest a layering strategy for dressing effectively during winter hikes.  \n",
            "3. Explain how to choose the right footwear for snowy terrain.  \n",
            "4. Outline the key features to look for in a winter hiking jacket.  \n",
            "5. Describe essential accessories to pack for a winter hike.  \n",
            "6. Recommend strategies to stay safe while hiking in freezing conditions.  \n",
            "7. Clarify the difference between insulated and non-insulated pants for winter trekking.\n",
            "\n",
            "\n"
          ]
        }
      ]
    },
    {
      "cell_type": "code",
      "source": [
        "def transform_to_dict(data):\n",
        "    result_dict = {\"input\": [], \"instruction\": []}\n",
        "\n",
        "    for entry in data:\n",
        "        input_value = entry['input']\n",
        "        for instruction in entry['instructions']:\n",
        "            result_dict[\"input\"].append(input_value)\n",
        "            result_dict[\"instruction\"].append(instruction)\n",
        "\n",
        "    return result_dict\n",
        "\n",
        "dataset_as_dict = transform_to_dict(result)"
      ],
      "metadata": {
        "id": "2sCpvhwUcicz"
      },
      "execution_count": 16,
      "outputs": []
    },
    {
      "cell_type": "code",
      "source": [
        "from datasets import load_dataset\n",
        "\n",
        "HF_USERNAME = 'patrickfleith'\n",
        "DATASET_NAME = 'selfinstruct_demo'\n",
        "PRIVATE = False # True or False - your dataset will be public if False on HF hub\n",
        "\n",
        "DATASET_ID = HF_USERNAME + '/' + DATASET_NAME\n",
        "\n",
        "from datasets import Dataset\n",
        "ds = Dataset.from_dict(dataset_as_dict, split='train')"
      ],
      "metadata": {
        "id": "UFAsi7wlWe30"
      },
      "execution_count": 17,
      "outputs": []
    },
    {
      "cell_type": "code",
      "source": [
        "ds.push_to_hub(DATASET_ID, private=PRIVATE)"
      ],
      "metadata": {
        "colab": {
          "base_uri": "https://localhost:8080/",
          "height": 182,
          "referenced_widgets": [
            "0ae8becc2f704184ab35adf86381e45d",
            "a6c53c36251a40a2b98474ef80131a90",
            "08dda78c6b014e35b38e4083c8bdfead",
            "8d3ef1f5ee0c43659e3d50227624bc9f",
            "d7d60f645fb74b3cbe73fb1c6e4e0036",
            "d4d09f8bd3244094822455f371c36d6f",
            "3ab3f5636795434096f8fa8546abd84e",
            "988f27f0589847b79045aae24eacab53",
            "a4cdaa7d819d4251bda6e59c6583d6d1",
            "23342fa1f2cd4f34bf4006b09931a31b",
            "759f20c100c348fda4d3d2cdde99c43a",
            "6c836a6e21a94f5f8ef6812b265618e3",
            "f29c66cd628d4a85bda369dec4da7bed",
            "ad2aca4839c64adbb67fc6c6dcdefe11",
            "2f9bf2a338c04d1cb2a26f6d01f793f7",
            "ac72aaa24fb8472fb1ba759ec248e088",
            "d03e091cfa594dc5abb464de7a521a6a",
            "60998693610a47d69310c675d404aeac",
            "33a79e19d6dc4056a63d931c5df418c5",
            "a95b853059b34591a999d785d1160a4d",
            "1bceb6db07a7478fbb7885f32abe69b8",
            "5a81b96e03fc446289cb54afdf7cc48c",
            "ab7e93caeb304c8da894d65ab5da3304",
            "a4c31a5b01134b86949a3611454f09ab",
            "906ea6d080844d4d8872a5924672202d",
            "365edd5f303949429aaf042a4c23d2ec",
            "d8a62f58dfe24e81b723312e9c8a1fd6",
            "108897eef7264af2aa367b64e5243374",
            "890ec0d6c0c04af680f4d6b3b284220d",
            "382cb0b7111343468d7eb7c7ad36b861",
            "8a17780a90e544e3b574bcda3bae44c3",
            "160bb278437d4120a2cec33c10121efd",
            "aa531da7acc94b8bad750a4aebdf78aa"
          ]
        },
        "id": "TMx1M8Z0cC14",
        "outputId": "1c7f9f3b-7416-41d5-d0a9-9c8255fd4e7e"
      },
      "execution_count": 18,
      "outputs": [
        {
          "output_type": "display_data",
          "data": {
            "text/plain": [
              "Uploading the dataset shards:   0%|          | 0/1 [00:00<?, ?it/s]"
            ],
            "application/vnd.jupyter.widget-view+json": {
              "version_major": 2,
              "version_minor": 0,
              "model_id": "0ae8becc2f704184ab35adf86381e45d"
            }
          },
          "metadata": {}
        },
        {
          "output_type": "display_data",
          "data": {
            "text/plain": [
              "Creating parquet from Arrow format:   0%|          | 0/1 [00:00<?, ?ba/s]"
            ],
            "application/vnd.jupyter.widget-view+json": {
              "version_major": 2,
              "version_minor": 0,
              "model_id": "6c836a6e21a94f5f8ef6812b265618e3"
            }
          },
          "metadata": {}
        },
        {
          "output_type": "display_data",
          "data": {
            "text/plain": [
              "README.md:   0%|          | 0.00/304 [00:00<?, ?B/s]"
            ],
            "application/vnd.jupyter.widget-view+json": {
              "version_major": 2,
              "version_minor": 0,
              "model_id": "ab7e93caeb304c8da894d65ab5da3304"
            }
          },
          "metadata": {}
        },
        {
          "output_type": "execute_result",
          "data": {
            "text/plain": [
              "CommitInfo(commit_url='https://huggingface.co/datasets/patrickfleith/selfinstruct_demo/commit/132a9d407cd53793165b3a4097b2dc0cd7c2f63d', commit_message='Upload dataset', commit_description='', oid='132a9d407cd53793165b3a4097b2dc0cd7c2f63d', pr_url=None, repo_url=RepoUrl('https://huggingface.co/datasets/patrickfleith/selfinstruct_demo', endpoint='https://huggingface.co', repo_type='dataset', repo_id='patrickfleith/selfinstruct_demo'), pr_revision=None, pr_num=None)"
            ],
            "application/vnd.google.colaboratory.intrinsic+json": {
              "type": "string"
            }
          },
          "metadata": {},
          "execution_count": 18
        }
      ]
    }
  ]
}