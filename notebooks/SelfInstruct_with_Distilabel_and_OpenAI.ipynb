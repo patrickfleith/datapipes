{
  "nbformat": 4,
  "nbformat_minor": 0,
  "metadata": {
    "colab": {
      "provenance": [],
      "collapsed_sections": [
        "fvsfDixrGRbp"
      ]
    },
    "kernelspec": {
      "name": "python3",
      "display_name": "Python 3"
    },
    "language_info": {
      "name": "python"
    },
    "widgets": {
      "application/vnd.jupyter.widget-state+json": {
        "8e03d9c565ce4f69807552971879edab": {
          "model_module": "@jupyter-widgets/controls",
          "model_name": "HBoxModel",
          "model_module_version": "1.5.0",
          "state": {
            "_dom_classes": [],
            "_model_module": "@jupyter-widgets/controls",
            "_model_module_version": "1.5.0",
            "_model_name": "HBoxModel",
            "_view_count": null,
            "_view_module": "@jupyter-widgets/controls",
            "_view_module_version": "1.5.0",
            "_view_name": "HBoxView",
            "box_style": "",
            "children": [
              "IPY_MODEL_109e12c50da3467bbfa90d613c165d51",
              "IPY_MODEL_b05334021cb04445bba25bb045b012f2",
              "IPY_MODEL_8f9d79dea1194e63b0255134ccef1809"
            ],
            "layout": "IPY_MODEL_9dbc20f474e74e18a5731d868d152fb8"
          }
        },
        "109e12c50da3467bbfa90d613c165d51": {
          "model_module": "@jupyter-widgets/controls",
          "model_name": "HTMLModel",
          "model_module_version": "1.5.0",
          "state": {
            "_dom_classes": [],
            "_model_module": "@jupyter-widgets/controls",
            "_model_module_version": "1.5.0",
            "_model_name": "HTMLModel",
            "_view_count": null,
            "_view_module": "@jupyter-widgets/controls",
            "_view_module_version": "1.5.0",
            "_view_name": "HTMLView",
            "description": "",
            "description_tooltip": null,
            "layout": "IPY_MODEL_92f2b95f22bb4315884e67b0bfe555a6",
            "placeholder": "​",
            "style": "IPY_MODEL_4a73327268034ebb97817fac1ba7a92c",
            "value": "Uploading the dataset shards: 100%"
          }
        },
        "b05334021cb04445bba25bb045b012f2": {
          "model_module": "@jupyter-widgets/controls",
          "model_name": "FloatProgressModel",
          "model_module_version": "1.5.0",
          "state": {
            "_dom_classes": [],
            "_model_module": "@jupyter-widgets/controls",
            "_model_module_version": "1.5.0",
            "_model_name": "FloatProgressModel",
            "_view_count": null,
            "_view_module": "@jupyter-widgets/controls",
            "_view_module_version": "1.5.0",
            "_view_name": "ProgressView",
            "bar_style": "success",
            "description": "",
            "description_tooltip": null,
            "layout": "IPY_MODEL_e19fb58b311c46b4a9fdc7383c562660",
            "max": 1,
            "min": 0,
            "orientation": "horizontal",
            "style": "IPY_MODEL_3aa90300d697410abe7e7ac328c1551d",
            "value": 1
          }
        },
        "8f9d79dea1194e63b0255134ccef1809": {
          "model_module": "@jupyter-widgets/controls",
          "model_name": "HTMLModel",
          "model_module_version": "1.5.0",
          "state": {
            "_dom_classes": [],
            "_model_module": "@jupyter-widgets/controls",
            "_model_module_version": "1.5.0",
            "_model_name": "HTMLModel",
            "_view_count": null,
            "_view_module": "@jupyter-widgets/controls",
            "_view_module_version": "1.5.0",
            "_view_name": "HTMLView",
            "description": "",
            "description_tooltip": null,
            "layout": "IPY_MODEL_37dd8c7efaa243b7b2cd69bf0cfdf0f6",
            "placeholder": "​",
            "style": "IPY_MODEL_6b6fe5b9ac3d4e67a105b41f8737c8e9",
            "value": " 1/1 [00:00&lt;00:00,  2.08it/s]"
          }
        },
        "9dbc20f474e74e18a5731d868d152fb8": {
          "model_module": "@jupyter-widgets/base",
          "model_name": "LayoutModel",
          "model_module_version": "1.2.0",
          "state": {
            "_model_module": "@jupyter-widgets/base",
            "_model_module_version": "1.2.0",
            "_model_name": "LayoutModel",
            "_view_count": null,
            "_view_module": "@jupyter-widgets/base",
            "_view_module_version": "1.2.0",
            "_view_name": "LayoutView",
            "align_content": null,
            "align_items": null,
            "align_self": null,
            "border": null,
            "bottom": null,
            "display": null,
            "flex": null,
            "flex_flow": null,
            "grid_area": null,
            "grid_auto_columns": null,
            "grid_auto_flow": null,
            "grid_auto_rows": null,
            "grid_column": null,
            "grid_gap": null,
            "grid_row": null,
            "grid_template_areas": null,
            "grid_template_columns": null,
            "grid_template_rows": null,
            "height": null,
            "justify_content": null,
            "justify_items": null,
            "left": null,
            "margin": null,
            "max_height": null,
            "max_width": null,
            "min_height": null,
            "min_width": null,
            "object_fit": null,
            "object_position": null,
            "order": null,
            "overflow": null,
            "overflow_x": null,
            "overflow_y": null,
            "padding": null,
            "right": null,
            "top": null,
            "visibility": null,
            "width": null
          }
        },
        "92f2b95f22bb4315884e67b0bfe555a6": {
          "model_module": "@jupyter-widgets/base",
          "model_name": "LayoutModel",
          "model_module_version": "1.2.0",
          "state": {
            "_model_module": "@jupyter-widgets/base",
            "_model_module_version": "1.2.0",
            "_model_name": "LayoutModel",
            "_view_count": null,
            "_view_module": "@jupyter-widgets/base",
            "_view_module_version": "1.2.0",
            "_view_name": "LayoutView",
            "align_content": null,
            "align_items": null,
            "align_self": null,
            "border": null,
            "bottom": null,
            "display": null,
            "flex": null,
            "flex_flow": null,
            "grid_area": null,
            "grid_auto_columns": null,
            "grid_auto_flow": null,
            "grid_auto_rows": null,
            "grid_column": null,
            "grid_gap": null,
            "grid_row": null,
            "grid_template_areas": null,
            "grid_template_columns": null,
            "grid_template_rows": null,
            "height": null,
            "justify_content": null,
            "justify_items": null,
            "left": null,
            "margin": null,
            "max_height": null,
            "max_width": null,
            "min_height": null,
            "min_width": null,
            "object_fit": null,
            "object_position": null,
            "order": null,
            "overflow": null,
            "overflow_x": null,
            "overflow_y": null,
            "padding": null,
            "right": null,
            "top": null,
            "visibility": null,
            "width": null
          }
        },
        "4a73327268034ebb97817fac1ba7a92c": {
          "model_module": "@jupyter-widgets/controls",
          "model_name": "DescriptionStyleModel",
          "model_module_version": "1.5.0",
          "state": {
            "_model_module": "@jupyter-widgets/controls",
            "_model_module_version": "1.5.0",
            "_model_name": "DescriptionStyleModel",
            "_view_count": null,
            "_view_module": "@jupyter-widgets/base",
            "_view_module_version": "1.2.0",
            "_view_name": "StyleView",
            "description_width": ""
          }
        },
        "e19fb58b311c46b4a9fdc7383c562660": {
          "model_module": "@jupyter-widgets/base",
          "model_name": "LayoutModel",
          "model_module_version": "1.2.0",
          "state": {
            "_model_module": "@jupyter-widgets/base",
            "_model_module_version": "1.2.0",
            "_model_name": "LayoutModel",
            "_view_count": null,
            "_view_module": "@jupyter-widgets/base",
            "_view_module_version": "1.2.0",
            "_view_name": "LayoutView",
            "align_content": null,
            "align_items": null,
            "align_self": null,
            "border": null,
            "bottom": null,
            "display": null,
            "flex": null,
            "flex_flow": null,
            "grid_area": null,
            "grid_auto_columns": null,
            "grid_auto_flow": null,
            "grid_auto_rows": null,
            "grid_column": null,
            "grid_gap": null,
            "grid_row": null,
            "grid_template_areas": null,
            "grid_template_columns": null,
            "grid_template_rows": null,
            "height": null,
            "justify_content": null,
            "justify_items": null,
            "left": null,
            "margin": null,
            "max_height": null,
            "max_width": null,
            "min_height": null,
            "min_width": null,
            "object_fit": null,
            "object_position": null,
            "order": null,
            "overflow": null,
            "overflow_x": null,
            "overflow_y": null,
            "padding": null,
            "right": null,
            "top": null,
            "visibility": null,
            "width": null
          }
        },
        "3aa90300d697410abe7e7ac328c1551d": {
          "model_module": "@jupyter-widgets/controls",
          "model_name": "ProgressStyleModel",
          "model_module_version": "1.5.0",
          "state": {
            "_model_module": "@jupyter-widgets/controls",
            "_model_module_version": "1.5.0",
            "_model_name": "ProgressStyleModel",
            "_view_count": null,
            "_view_module": "@jupyter-widgets/base",
            "_view_module_version": "1.2.0",
            "_view_name": "StyleView",
            "bar_color": null,
            "description_width": ""
          }
        },
        "37dd8c7efaa243b7b2cd69bf0cfdf0f6": {
          "model_module": "@jupyter-widgets/base",
          "model_name": "LayoutModel",
          "model_module_version": "1.2.0",
          "state": {
            "_model_module": "@jupyter-widgets/base",
            "_model_module_version": "1.2.0",
            "_model_name": "LayoutModel",
            "_view_count": null,
            "_view_module": "@jupyter-widgets/base",
            "_view_module_version": "1.2.0",
            "_view_name": "LayoutView",
            "align_content": null,
            "align_items": null,
            "align_self": null,
            "border": null,
            "bottom": null,
            "display": null,
            "flex": null,
            "flex_flow": null,
            "grid_area": null,
            "grid_auto_columns": null,
            "grid_auto_flow": null,
            "grid_auto_rows": null,
            "grid_column": null,
            "grid_gap": null,
            "grid_row": null,
            "grid_template_areas": null,
            "grid_template_columns": null,
            "grid_template_rows": null,
            "height": null,
            "justify_content": null,
            "justify_items": null,
            "left": null,
            "margin": null,
            "max_height": null,
            "max_width": null,
            "min_height": null,
            "min_width": null,
            "object_fit": null,
            "object_position": null,
            "order": null,
            "overflow": null,
            "overflow_x": null,
            "overflow_y": null,
            "padding": null,
            "right": null,
            "top": null,
            "visibility": null,
            "width": null
          }
        },
        "6b6fe5b9ac3d4e67a105b41f8737c8e9": {
          "model_module": "@jupyter-widgets/controls",
          "model_name": "DescriptionStyleModel",
          "model_module_version": "1.5.0",
          "state": {
            "_model_module": "@jupyter-widgets/controls",
            "_model_module_version": "1.5.0",
            "_model_name": "DescriptionStyleModel",
            "_view_count": null,
            "_view_module": "@jupyter-widgets/base",
            "_view_module_version": "1.2.0",
            "_view_name": "StyleView",
            "description_width": ""
          }
        },
        "7fd53d2d00654939b4ec4ae9d99f3d0a": {
          "model_module": "@jupyter-widgets/controls",
          "model_name": "HBoxModel",
          "model_module_version": "1.5.0",
          "state": {
            "_dom_classes": [],
            "_model_module": "@jupyter-widgets/controls",
            "_model_module_version": "1.5.0",
            "_model_name": "HBoxModel",
            "_view_count": null,
            "_view_module": "@jupyter-widgets/controls",
            "_view_module_version": "1.5.0",
            "_view_name": "HBoxView",
            "box_style": "",
            "children": [
              "IPY_MODEL_bd93a30448ac49a582c73a6c41d8cb74",
              "IPY_MODEL_408ec862965448c4bc4dba4ecead5262",
              "IPY_MODEL_ee151c6228b2463aa8f33c999de52b4b"
            ],
            "layout": "IPY_MODEL_d36291a3b6f64d4080e4398ad187fea4"
          }
        },
        "bd93a30448ac49a582c73a6c41d8cb74": {
          "model_module": "@jupyter-widgets/controls",
          "model_name": "HTMLModel",
          "model_module_version": "1.5.0",
          "state": {
            "_dom_classes": [],
            "_model_module": "@jupyter-widgets/controls",
            "_model_module_version": "1.5.0",
            "_model_name": "HTMLModel",
            "_view_count": null,
            "_view_module": "@jupyter-widgets/controls",
            "_view_module_version": "1.5.0",
            "_view_name": "HTMLView",
            "description": "",
            "description_tooltip": null,
            "layout": "IPY_MODEL_4950ea6b46734145aca5f849bb2555aa",
            "placeholder": "​",
            "style": "IPY_MODEL_0295a8f8773b411ba0d320b848438528",
            "value": "Creating parquet from Arrow format: 100%"
          }
        },
        "408ec862965448c4bc4dba4ecead5262": {
          "model_module": "@jupyter-widgets/controls",
          "model_name": "FloatProgressModel",
          "model_module_version": "1.5.0",
          "state": {
            "_dom_classes": [],
            "_model_module": "@jupyter-widgets/controls",
            "_model_module_version": "1.5.0",
            "_model_name": "FloatProgressModel",
            "_view_count": null,
            "_view_module": "@jupyter-widgets/controls",
            "_view_module_version": "1.5.0",
            "_view_name": "ProgressView",
            "bar_style": "success",
            "description": "",
            "description_tooltip": null,
            "layout": "IPY_MODEL_04377b4a93034986abed689746c3090b",
            "max": 1,
            "min": 0,
            "orientation": "horizontal",
            "style": "IPY_MODEL_e2a4d5b5252543109129ad398b495736",
            "value": 1
          }
        },
        "ee151c6228b2463aa8f33c999de52b4b": {
          "model_module": "@jupyter-widgets/controls",
          "model_name": "HTMLModel",
          "model_module_version": "1.5.0",
          "state": {
            "_dom_classes": [],
            "_model_module": "@jupyter-widgets/controls",
            "_model_module_version": "1.5.0",
            "_model_name": "HTMLModel",
            "_view_count": null,
            "_view_module": "@jupyter-widgets/controls",
            "_view_module_version": "1.5.0",
            "_view_name": "HTMLView",
            "description": "",
            "description_tooltip": null,
            "layout": "IPY_MODEL_fa96f56ae9ff4a8ba744d7b80fe7e520",
            "placeholder": "​",
            "style": "IPY_MODEL_3aa17b25b5f144c699bbc75f5cb96538",
            "value": " 1/1 [00:00&lt;00:00, 30.39ba/s]"
          }
        },
        "d36291a3b6f64d4080e4398ad187fea4": {
          "model_module": "@jupyter-widgets/base",
          "model_name": "LayoutModel",
          "model_module_version": "1.2.0",
          "state": {
            "_model_module": "@jupyter-widgets/base",
            "_model_module_version": "1.2.0",
            "_model_name": "LayoutModel",
            "_view_count": null,
            "_view_module": "@jupyter-widgets/base",
            "_view_module_version": "1.2.0",
            "_view_name": "LayoutView",
            "align_content": null,
            "align_items": null,
            "align_self": null,
            "border": null,
            "bottom": null,
            "display": null,
            "flex": null,
            "flex_flow": null,
            "grid_area": null,
            "grid_auto_columns": null,
            "grid_auto_flow": null,
            "grid_auto_rows": null,
            "grid_column": null,
            "grid_gap": null,
            "grid_row": null,
            "grid_template_areas": null,
            "grid_template_columns": null,
            "grid_template_rows": null,
            "height": null,
            "justify_content": null,
            "justify_items": null,
            "left": null,
            "margin": null,
            "max_height": null,
            "max_width": null,
            "min_height": null,
            "min_width": null,
            "object_fit": null,
            "object_position": null,
            "order": null,
            "overflow": null,
            "overflow_x": null,
            "overflow_y": null,
            "padding": null,
            "right": null,
            "top": null,
            "visibility": null,
            "width": null
          }
        },
        "4950ea6b46734145aca5f849bb2555aa": {
          "model_module": "@jupyter-widgets/base",
          "model_name": "LayoutModel",
          "model_module_version": "1.2.0",
          "state": {
            "_model_module": "@jupyter-widgets/base",
            "_model_module_version": "1.2.0",
            "_model_name": "LayoutModel",
            "_view_count": null,
            "_view_module": "@jupyter-widgets/base",
            "_view_module_version": "1.2.0",
            "_view_name": "LayoutView",
            "align_content": null,
            "align_items": null,
            "align_self": null,
            "border": null,
            "bottom": null,
            "display": null,
            "flex": null,
            "flex_flow": null,
            "grid_area": null,
            "grid_auto_columns": null,
            "grid_auto_flow": null,
            "grid_auto_rows": null,
            "grid_column": null,
            "grid_gap": null,
            "grid_row": null,
            "grid_template_areas": null,
            "grid_template_columns": null,
            "grid_template_rows": null,
            "height": null,
            "justify_content": null,
            "justify_items": null,
            "left": null,
            "margin": null,
            "max_height": null,
            "max_width": null,
            "min_height": null,
            "min_width": null,
            "object_fit": null,
            "object_position": null,
            "order": null,
            "overflow": null,
            "overflow_x": null,
            "overflow_y": null,
            "padding": null,
            "right": null,
            "top": null,
            "visibility": null,
            "width": null
          }
        },
        "0295a8f8773b411ba0d320b848438528": {
          "model_module": "@jupyter-widgets/controls",
          "model_name": "DescriptionStyleModel",
          "model_module_version": "1.5.0",
          "state": {
            "_model_module": "@jupyter-widgets/controls",
            "_model_module_version": "1.5.0",
            "_model_name": "DescriptionStyleModel",
            "_view_count": null,
            "_view_module": "@jupyter-widgets/base",
            "_view_module_version": "1.2.0",
            "_view_name": "StyleView",
            "description_width": ""
          }
        },
        "04377b4a93034986abed689746c3090b": {
          "model_module": "@jupyter-widgets/base",
          "model_name": "LayoutModel",
          "model_module_version": "1.2.0",
          "state": {
            "_model_module": "@jupyter-widgets/base",
            "_model_module_version": "1.2.0",
            "_model_name": "LayoutModel",
            "_view_count": null,
            "_view_module": "@jupyter-widgets/base",
            "_view_module_version": "1.2.0",
            "_view_name": "LayoutView",
            "align_content": null,
            "align_items": null,
            "align_self": null,
            "border": null,
            "bottom": null,
            "display": null,
            "flex": null,
            "flex_flow": null,
            "grid_area": null,
            "grid_auto_columns": null,
            "grid_auto_flow": null,
            "grid_auto_rows": null,
            "grid_column": null,
            "grid_gap": null,
            "grid_row": null,
            "grid_template_areas": null,
            "grid_template_columns": null,
            "grid_template_rows": null,
            "height": null,
            "justify_content": null,
            "justify_items": null,
            "left": null,
            "margin": null,
            "max_height": null,
            "max_width": null,
            "min_height": null,
            "min_width": null,
            "object_fit": null,
            "object_position": null,
            "order": null,
            "overflow": null,
            "overflow_x": null,
            "overflow_y": null,
            "padding": null,
            "right": null,
            "top": null,
            "visibility": null,
            "width": null
          }
        },
        "e2a4d5b5252543109129ad398b495736": {
          "model_module": "@jupyter-widgets/controls",
          "model_name": "ProgressStyleModel",
          "model_module_version": "1.5.0",
          "state": {
            "_model_module": "@jupyter-widgets/controls",
            "_model_module_version": "1.5.0",
            "_model_name": "ProgressStyleModel",
            "_view_count": null,
            "_view_module": "@jupyter-widgets/base",
            "_view_module_version": "1.2.0",
            "_view_name": "StyleView",
            "bar_color": null,
            "description_width": ""
          }
        },
        "fa96f56ae9ff4a8ba744d7b80fe7e520": {
          "model_module": "@jupyter-widgets/base",
          "model_name": "LayoutModel",
          "model_module_version": "1.2.0",
          "state": {
            "_model_module": "@jupyter-widgets/base",
            "_model_module_version": "1.2.0",
            "_model_name": "LayoutModel",
            "_view_count": null,
            "_view_module": "@jupyter-widgets/base",
            "_view_module_version": "1.2.0",
            "_view_name": "LayoutView",
            "align_content": null,
            "align_items": null,
            "align_self": null,
            "border": null,
            "bottom": null,
            "display": null,
            "flex": null,
            "flex_flow": null,
            "grid_area": null,
            "grid_auto_columns": null,
            "grid_auto_flow": null,
            "grid_auto_rows": null,
            "grid_column": null,
            "grid_gap": null,
            "grid_row": null,
            "grid_template_areas": null,
            "grid_template_columns": null,
            "grid_template_rows": null,
            "height": null,
            "justify_content": null,
            "justify_items": null,
            "left": null,
            "margin": null,
            "max_height": null,
            "max_width": null,
            "min_height": null,
            "min_width": null,
            "object_fit": null,
            "object_position": null,
            "order": null,
            "overflow": null,
            "overflow_x": null,
            "overflow_y": null,
            "padding": null,
            "right": null,
            "top": null,
            "visibility": null,
            "width": null
          }
        },
        "3aa17b25b5f144c699bbc75f5cb96538": {
          "model_module": "@jupyter-widgets/controls",
          "model_name": "DescriptionStyleModel",
          "model_module_version": "1.5.0",
          "state": {
            "_model_module": "@jupyter-widgets/controls",
            "_model_module_version": "1.5.0",
            "_model_name": "DescriptionStyleModel",
            "_view_count": null,
            "_view_module": "@jupyter-widgets/base",
            "_view_module_version": "1.2.0",
            "_view_name": "StyleView",
            "description_width": ""
          }
        },
        "b9a0d5b2cb054afbb4c3423f06d0b501": {
          "model_module": "@jupyter-widgets/controls",
          "model_name": "HBoxModel",
          "model_module_version": "1.5.0",
          "state": {
            "_dom_classes": [],
            "_model_module": "@jupyter-widgets/controls",
            "_model_module_version": "1.5.0",
            "_model_name": "HBoxModel",
            "_view_count": null,
            "_view_module": "@jupyter-widgets/controls",
            "_view_module_version": "1.5.0",
            "_view_name": "HBoxView",
            "box_style": "",
            "children": [
              "IPY_MODEL_7155ecac647a481892b3ee0da0dbd52f",
              "IPY_MODEL_d5f1ee2e31874a08af91cda0f22088b1",
              "IPY_MODEL_dad6150b38b24e60af88c736572898c5"
            ],
            "layout": "IPY_MODEL_9f8e8aaf0077492d813af10a6d621375"
          }
        },
        "7155ecac647a481892b3ee0da0dbd52f": {
          "model_module": "@jupyter-widgets/controls",
          "model_name": "HTMLModel",
          "model_module_version": "1.5.0",
          "state": {
            "_dom_classes": [],
            "_model_module": "@jupyter-widgets/controls",
            "_model_module_version": "1.5.0",
            "_model_name": "HTMLModel",
            "_view_count": null,
            "_view_module": "@jupyter-widgets/controls",
            "_view_module_version": "1.5.0",
            "_view_name": "HTMLView",
            "description": "",
            "description_tooltip": null,
            "layout": "IPY_MODEL_6e3cd1850d4a4f16be7bba9583273ab6",
            "placeholder": "​",
            "style": "IPY_MODEL_a6ff04fc84ce44de917343a0d166ee1f",
            "value": "README.md: 100%"
          }
        },
        "d5f1ee2e31874a08af91cda0f22088b1": {
          "model_module": "@jupyter-widgets/controls",
          "model_name": "FloatProgressModel",
          "model_module_version": "1.5.0",
          "state": {
            "_dom_classes": [],
            "_model_module": "@jupyter-widgets/controls",
            "_model_module_version": "1.5.0",
            "_model_name": "FloatProgressModel",
            "_view_count": null,
            "_view_module": "@jupyter-widgets/controls",
            "_view_module_version": "1.5.0",
            "_view_name": "ProgressView",
            "bar_style": "success",
            "description": "",
            "description_tooltip": null,
            "layout": "IPY_MODEL_ba1a18d41d3b4b3f82c77c23310950c4",
            "max": 304,
            "min": 0,
            "orientation": "horizontal",
            "style": "IPY_MODEL_f9084374f4d54219899160afd124a6b9",
            "value": 304
          }
        },
        "dad6150b38b24e60af88c736572898c5": {
          "model_module": "@jupyter-widgets/controls",
          "model_name": "HTMLModel",
          "model_module_version": "1.5.0",
          "state": {
            "_dom_classes": [],
            "_model_module": "@jupyter-widgets/controls",
            "_model_module_version": "1.5.0",
            "_model_name": "HTMLModel",
            "_view_count": null,
            "_view_module": "@jupyter-widgets/controls",
            "_view_module_version": "1.5.0",
            "_view_name": "HTMLView",
            "description": "",
            "description_tooltip": null,
            "layout": "IPY_MODEL_3c0df5745e2e4d83ab65a07fe5156ef9",
            "placeholder": "​",
            "style": "IPY_MODEL_4952e52d462143b39224b87cde89bfce",
            "value": " 304/304 [00:00&lt;00:00, 10.5kB/s]"
          }
        },
        "9f8e8aaf0077492d813af10a6d621375": {
          "model_module": "@jupyter-widgets/base",
          "model_name": "LayoutModel",
          "model_module_version": "1.2.0",
          "state": {
            "_model_module": "@jupyter-widgets/base",
            "_model_module_version": "1.2.0",
            "_model_name": "LayoutModel",
            "_view_count": null,
            "_view_module": "@jupyter-widgets/base",
            "_view_module_version": "1.2.0",
            "_view_name": "LayoutView",
            "align_content": null,
            "align_items": null,
            "align_self": null,
            "border": null,
            "bottom": null,
            "display": null,
            "flex": null,
            "flex_flow": null,
            "grid_area": null,
            "grid_auto_columns": null,
            "grid_auto_flow": null,
            "grid_auto_rows": null,
            "grid_column": null,
            "grid_gap": null,
            "grid_row": null,
            "grid_template_areas": null,
            "grid_template_columns": null,
            "grid_template_rows": null,
            "height": null,
            "justify_content": null,
            "justify_items": null,
            "left": null,
            "margin": null,
            "max_height": null,
            "max_width": null,
            "min_height": null,
            "min_width": null,
            "object_fit": null,
            "object_position": null,
            "order": null,
            "overflow": null,
            "overflow_x": null,
            "overflow_y": null,
            "padding": null,
            "right": null,
            "top": null,
            "visibility": null,
            "width": null
          }
        },
        "6e3cd1850d4a4f16be7bba9583273ab6": {
          "model_module": "@jupyter-widgets/base",
          "model_name": "LayoutModel",
          "model_module_version": "1.2.0",
          "state": {
            "_model_module": "@jupyter-widgets/base",
            "_model_module_version": "1.2.0",
            "_model_name": "LayoutModel",
            "_view_count": null,
            "_view_module": "@jupyter-widgets/base",
            "_view_module_version": "1.2.0",
            "_view_name": "LayoutView",
            "align_content": null,
            "align_items": null,
            "align_self": null,
            "border": null,
            "bottom": null,
            "display": null,
            "flex": null,
            "flex_flow": null,
            "grid_area": null,
            "grid_auto_columns": null,
            "grid_auto_flow": null,
            "grid_auto_rows": null,
            "grid_column": null,
            "grid_gap": null,
            "grid_row": null,
            "grid_template_areas": null,
            "grid_template_columns": null,
            "grid_template_rows": null,
            "height": null,
            "justify_content": null,
            "justify_items": null,
            "left": null,
            "margin": null,
            "max_height": null,
            "max_width": null,
            "min_height": null,
            "min_width": null,
            "object_fit": null,
            "object_position": null,
            "order": null,
            "overflow": null,
            "overflow_x": null,
            "overflow_y": null,
            "padding": null,
            "right": null,
            "top": null,
            "visibility": null,
            "width": null
          }
        },
        "a6ff04fc84ce44de917343a0d166ee1f": {
          "model_module": "@jupyter-widgets/controls",
          "model_name": "DescriptionStyleModel",
          "model_module_version": "1.5.0",
          "state": {
            "_model_module": "@jupyter-widgets/controls",
            "_model_module_version": "1.5.0",
            "_model_name": "DescriptionStyleModel",
            "_view_count": null,
            "_view_module": "@jupyter-widgets/base",
            "_view_module_version": "1.2.0",
            "_view_name": "StyleView",
            "description_width": ""
          }
        },
        "ba1a18d41d3b4b3f82c77c23310950c4": {
          "model_module": "@jupyter-widgets/base",
          "model_name": "LayoutModel",
          "model_module_version": "1.2.0",
          "state": {
            "_model_module": "@jupyter-widgets/base",
            "_model_module_version": "1.2.0",
            "_model_name": "LayoutModel",
            "_view_count": null,
            "_view_module": "@jupyter-widgets/base",
            "_view_module_version": "1.2.0",
            "_view_name": "LayoutView",
            "align_content": null,
            "align_items": null,
            "align_self": null,
            "border": null,
            "bottom": null,
            "display": null,
            "flex": null,
            "flex_flow": null,
            "grid_area": null,
            "grid_auto_columns": null,
            "grid_auto_flow": null,
            "grid_auto_rows": null,
            "grid_column": null,
            "grid_gap": null,
            "grid_row": null,
            "grid_template_areas": null,
            "grid_template_columns": null,
            "grid_template_rows": null,
            "height": null,
            "justify_content": null,
            "justify_items": null,
            "left": null,
            "margin": null,
            "max_height": null,
            "max_width": null,
            "min_height": null,
            "min_width": null,
            "object_fit": null,
            "object_position": null,
            "order": null,
            "overflow": null,
            "overflow_x": null,
            "overflow_y": null,
            "padding": null,
            "right": null,
            "top": null,
            "visibility": null,
            "width": null
          }
        },
        "f9084374f4d54219899160afd124a6b9": {
          "model_module": "@jupyter-widgets/controls",
          "model_name": "ProgressStyleModel",
          "model_module_version": "1.5.0",
          "state": {
            "_model_module": "@jupyter-widgets/controls",
            "_model_module_version": "1.5.0",
            "_model_name": "ProgressStyleModel",
            "_view_count": null,
            "_view_module": "@jupyter-widgets/base",
            "_view_module_version": "1.2.0",
            "_view_name": "StyleView",
            "bar_color": null,
            "description_width": ""
          }
        },
        "3c0df5745e2e4d83ab65a07fe5156ef9": {
          "model_module": "@jupyter-widgets/base",
          "model_name": "LayoutModel",
          "model_module_version": "1.2.0",
          "state": {
            "_model_module": "@jupyter-widgets/base",
            "_model_module_version": "1.2.0",
            "_model_name": "LayoutModel",
            "_view_count": null,
            "_view_module": "@jupyter-widgets/base",
            "_view_module_version": "1.2.0",
            "_view_name": "LayoutView",
            "align_content": null,
            "align_items": null,
            "align_self": null,
            "border": null,
            "bottom": null,
            "display": null,
            "flex": null,
            "flex_flow": null,
            "grid_area": null,
            "grid_auto_columns": null,
            "grid_auto_flow": null,
            "grid_auto_rows": null,
            "grid_column": null,
            "grid_gap": null,
            "grid_row": null,
            "grid_template_areas": null,
            "grid_template_columns": null,
            "grid_template_rows": null,
            "height": null,
            "justify_content": null,
            "justify_items": null,
            "left": null,
            "margin": null,
            "max_height": null,
            "max_width": null,
            "min_height": null,
            "min_width": null,
            "object_fit": null,
            "object_position": null,
            "order": null,
            "overflow": null,
            "overflow_x": null,
            "overflow_y": null,
            "padding": null,
            "right": null,
            "top": null,
            "visibility": null,
            "width": null
          }
        },
        "4952e52d462143b39224b87cde89bfce": {
          "model_module": "@jupyter-widgets/controls",
          "model_name": "DescriptionStyleModel",
          "model_module_version": "1.5.0",
          "state": {
            "_model_module": "@jupyter-widgets/controls",
            "_model_module_version": "1.5.0",
            "_model_name": "DescriptionStyleModel",
            "_view_count": null,
            "_view_module": "@jupyter-widgets/base",
            "_view_module_version": "1.2.0",
            "_view_name": "StyleView",
            "description_width": ""
          }
        }
      }
    }
  },
  "cells": [
    {
      "cell_type": "markdown",
      "source": [
        "# SelfInstruct with Distilabel and OpenAI\n",
        "\n",
        "[<img src=\"https://raw.githubusercontent.com/argilla-io/distilabel/main/docs/assets/distilabel-badge-light.png\" alt=\"Built with Distilabel\" width=\"200\" height=\"32\"/>](https://github.com/argilla-io/distilabel)\n",
        "\n",
        "This notebook shows how to generate instructions with the **SelfInstruct approach**\n",
        "- It is based on this paper: https://arxiv.org/pdf/2212.10560\n",
        "\n",
        "**Table of content**\n",
        "- Start from a list of very specific topics\n",
        "- Create a disitlabel pipeline with SelftInstruct\n",
        "- Generate a dataset of instructions related to these topics."
      ],
      "metadata": {
        "id": "E8P7GmN5E5v4"
      }
    },
    {
      "cell_type": "markdown",
      "source": [
        "# Imports and Setup of distilabel with OpenAI\n",
        "- As we use `openai` you'll need to setup your `OPENAI_API_KEY` (read a guide here [here](https://github.com/patrickfleith/datapipes/blob/main/notebooks/How_to_use_an_OpenAI_Chat_model.ipynb))\n",
        "- We will not use the openai client, but the distilabel wrapper, to interface with a `SelfInstruct` pipeline."
      ],
      "metadata": {
        "id": "fvsfDixrGRbp"
      }
    },
    {
      "cell_type": "code",
      "execution_count": 1,
      "metadata": {
        "colab": {
          "base_uri": "https://localhost:8080/"
        },
        "id": "L3Ky2nSAvd19",
        "outputId": "0f2eaf82-45b4-4f49-cbc7-bfc3966be372"
      },
      "outputs": [
        {
          "output_type": "stream",
          "name": "stdout",
          "text": [
            "\u001b[?25l   \u001b[90m━━━━━━━━━━━━━━━━━━━━━━━━━━━━━━━━━━━━━━━━\u001b[0m \u001b[32m0.0/442.2 kB\u001b[0m \u001b[31m?\u001b[0m eta \u001b[36m-:--:--\u001b[0m\r\u001b[2K   \u001b[91m━━━━━━━━━━━━━━━━━━━━━━━━━━━━━━━━━━━━━━━\u001b[0m\u001b[91m╸\u001b[0m \u001b[32m440.3/442.2 kB\u001b[0m \u001b[31m16.8 MB/s\u001b[0m eta \u001b[36m0:00:01\u001b[0m\r\u001b[2K   \u001b[90m━━━━━━━━━━━━━━━━━━━━━━━━━━━━━━━━━━━━━━━━\u001b[0m \u001b[32m442.2/442.2 kB\u001b[0m \u001b[31m9.2 MB/s\u001b[0m eta \u001b[36m0:00:00\u001b[0m\n",
            "\u001b[?25h\u001b[?25l   \u001b[90m━━━━━━━━━━━━━━━━━━━━━━━━━━━━━━━━━━━━━━━━\u001b[0m \u001b[32m0.0/480.6 kB\u001b[0m \u001b[31m?\u001b[0m eta \u001b[36m-:--:--\u001b[0m\r\u001b[2K   \u001b[90m━━━━━━━━━━━━━━━━━━━━━━━━━━━━━━━━━━━━━━━━\u001b[0m \u001b[32m480.6/480.6 kB\u001b[0m \u001b[31m23.6 MB/s\u001b[0m eta \u001b[36m0:00:00\u001b[0m\n",
            "\u001b[?25h\u001b[?25l   \u001b[90m━━━━━━━━━━━━━━━━━━━━━━━━━━━━━━━━━━━━━━━━\u001b[0m \u001b[32m0.0/134.8 kB\u001b[0m \u001b[31m?\u001b[0m eta \u001b[36m-:--:--\u001b[0m\r\u001b[2K   \u001b[90m━━━━━━━━━━━━━━━━━━━━━━━━━━━━━━━━━━━━━━━━\u001b[0m \u001b[32m134.8/134.8 kB\u001b[0m \u001b[31m4.7 MB/s\u001b[0m eta \u001b[36m0:00:00\u001b[0m\n",
            "\u001b[2K   \u001b[90m━━━━━━━━━━━━━━━━━━━━━━━━━━━━━━━━━━━━━━━━\u001b[0m \u001b[32m50.1/50.1 kB\u001b[0m \u001b[31m3.2 MB/s\u001b[0m eta \u001b[36m0:00:00\u001b[0m\n",
            "\u001b[2K   \u001b[90m━━━━━━━━━━━━━━━━━━━━━━━━━━━━━━━━━━━━━━━━\u001b[0m \u001b[32m116.3/116.3 kB\u001b[0m \u001b[31m8.0 MB/s\u001b[0m eta \u001b[36m0:00:00\u001b[0m\n",
            "\u001b[2K   \u001b[90m━━━━━━━━━━━━━━━━━━━━━━━━━━━━━━━━━━━━━━━━\u001b[0m \u001b[32m179.3/179.3 kB\u001b[0m \u001b[31m10.8 MB/s\u001b[0m eta \u001b[36m0:00:00\u001b[0m\n",
            "\u001b[2K   \u001b[90m━━━━━━━━━━━━━━━━━━━━━━━━━━━━━━━━━━━━━━━━\u001b[0m \u001b[32m194.1/194.1 kB\u001b[0m \u001b[31m11.8 MB/s\u001b[0m eta \u001b[36m0:00:00\u001b[0m\n",
            "\u001b[?25h\u001b[31mERROR: pip's dependency resolver does not currently take into account all the packages that are installed. This behaviour is the source of the following dependency conflicts.\n",
            "gcsfs 2024.10.0 requires fsspec==2024.10.0, but you have fsspec 2024.9.0 which is incompatible.\u001b[0m\u001b[31m\n",
            "\u001b[0m"
          ]
        }
      ],
      "source": [
        "!pip install distilabel --upgrade --quiet"
      ]
    },
    {
      "cell_type": "code",
      "source": [
        "from distilabel.steps.tasks import SelfInstruct\n",
        "from distilabel.llms import OpenAILLM\n",
        "from google.colab import userdata\n",
        "import distilabel\n",
        "import openai"
      ],
      "metadata": {
        "id": "sLx4EIEAvtIf"
      },
      "execution_count": 2,
      "outputs": []
    },
    {
      "cell_type": "code",
      "source": [
        "# printing my version such you can check yours - in check of troubles\n",
        "print(f\"Open AI version: {openai.__version__}\")\n",
        "print(f\"Distilabel version: {distilabel.__version__}\")"
      ],
      "metadata": {
        "colab": {
          "base_uri": "https://localhost:8080/"
        },
        "id": "fqnavsFYEFcS",
        "outputId": "8709602b-7455-4bb9-9640-f8f2e007fc39"
      },
      "execution_count": 3,
      "outputs": [
        {
          "output_type": "stream",
          "name": "stdout",
          "text": [
            "Open AI version: 1.57.4\n",
            "Distilabel version: 1.4.2\n"
          ]
        }
      ]
    },
    {
      "cell_type": "code",
      "source": [
        "# printing my version such you can check yours - in check of troubles\n",
        "print(f\"Open AI version: {openai.__version__}\")\n",
        "print(f\"Distilabel version: {distilabel.__version__}\")"
      ],
      "metadata": {
        "colab": {
          "base_uri": "https://localhost:8080/"
        },
        "id": "rtZmsBgoDqoG",
        "outputId": "d3c1d655-2e3e-4591-cb67-18caa469c060"
      },
      "execution_count": 4,
      "outputs": [
        {
          "output_type": "stream",
          "name": "stdout",
          "text": [
            "Open AI version: 1.57.4\n",
            "Distilabel version: 1.4.2\n"
          ]
        }
      ]
    },
    {
      "cell_type": "code",
      "source": [
        "# load your API key\n",
        "OPENAI_API_KEY = userdata.get('OPENAI_API_KEY')"
      ],
      "metadata": {
        "id": "u8Nr_xcdwEN7"
      },
      "execution_count": 5,
      "outputs": []
    },
    {
      "cell_type": "markdown",
      "source": [
        "Documentation for `SeltInstruct` is here:\n",
        "- `https://distilabel.argilla.io/dev/components-gallery/tasks/selfinstruct/`"
      ],
      "metadata": {
        "id": "d9nw7CwVD2OM"
      }
    },
    {
      "cell_type": "markdown",
      "source": [
        "# Creating the Instruction Generation pipeline with `SelfInstruct`\n",
        "\n",
        "For the inner working of `SelftInstruct` read the paper, it is short and very informative [here](https://arxiv.org/pdf/2212.10560). In this notebook we focus on applying it and shipping a dataset ⚡\n",
        "\n",
        "### So what is SelfInstruct?\n",
        "\n",
        "What are the mandatory pieces:\n",
        "- **`llm`** - Can be from a closed one like OpenAI api, Gemini, Anthropic or an open-source one like Llama or Mistral.\n",
        "- A list of seed topics: typically something like `topics = ['spacewalk', 'french cheese', 'hiking in winter']`\n",
        "\n",
        "\n"
      ],
      "metadata": {
        "id": "b33q4dBoHilZ"
      }
    },
    {
      "cell_type": "code",
      "source": [
        "llm = OpenAILLM(model=\"gpt-4o-mini\", api_key=OPENAI_API_KEY)\n",
        "seeds = ['spacewalk', 'french cheese', 'hiking in winter']\n",
        "\n",
        "\n",
        "self_instruct = SelfInstruct(\n",
        "    llm=llm\n",
        ")\n",
        "\n",
        "self_instruct.load()"
      ],
      "metadata": {
        "colab": {
          "base_uri": "https://localhost:8080/"
        },
        "id": "wpYZGhKAK3u2",
        "outputId": "c6e811c9-04d1-4039-88db-ca0e5e385c40"
      },
      "execution_count": 6,
      "outputs": [
        {
          "output_type": "stream",
          "name": "stderr",
          "text": [
            "WARNING:distilabel.step.None:Step 'None' hasn't received a pipeline, and it hasn't been created within a `Pipeline` context. Please, use `with Pipeline() as pipeline:` and create the step within the context.\n"
          ]
        }
      ]
    },
    {
      "cell_type": "code",
      "source": [
        "result = next(self_instruct.process([{\"input\": seed} for seed in seeds]))"
      ],
      "metadata": {
        "id": "18Mf9nz1P-5-"
      },
      "execution_count": 7,
      "outputs": []
    },
    {
      "cell_type": "markdown",
      "source": [
        "By default, a `SelftInstruct` Task will generate one result object per seed.\n",
        "- each result will have 5 generated instruction (default which can be changed. See below)."
      ],
      "metadata": {
        "id": "CH0lPARQQyWG"
      }
    },
    {
      "cell_type": "code",
      "source": [
        "# we have 3 seeds so there are 3 results\n",
        "len(result), len(seeds)"
      ],
      "metadata": {
        "colab": {
          "base_uri": "https://localhost:8080/"
        },
        "id": "V5w2-CMkQnrH",
        "outputId": "0143890d-b5fe-4d6d-a054-d70c137dcee4"
      },
      "execution_count": 8,
      "outputs": [
        {
          "output_type": "execute_result",
          "data": {
            "text/plain": [
              "(3, 3)"
            ]
          },
          "metadata": {},
          "execution_count": 8
        }
      ]
    },
    {
      "cell_type": "markdown",
      "source": [
        "**Let's look at the first item in result:**\n",
        "- is a dictionary → cool for further processing\n",
        "- keep the input seed for traceability\n",
        "- included a list of generated instructions at the `instructions` key.\n",
        "- keep track of the model used to generate it\n",
        "- keep track of the full criteria list\n",
        "- you can also see the full prompt (including the criteria used)"
      ],
      "metadata": {
        "id": "Di7yRUY8RR1Q"
      }
    },
    {
      "cell_type": "code",
      "source": [
        "result[0]"
      ],
      "metadata": {
        "colab": {
          "base_uri": "https://localhost:8080/"
        },
        "id": "2IaV1QE0RNoI",
        "outputId": "8de2e2a4-0a23-4bf0-d69d-dc19f988948b"
      },
      "execution_count": 9,
      "outputs": [
        {
          "output_type": "execute_result",
          "data": {
            "text/plain": [
              "{'input': 'spacewalk',\n",
              " 'instructions': ['Can you explain the procedures involved in a spacewalk?  ',\n",
              "  'Describe the challenges astronauts face during a spacewalk.  ',\n",
              "  'What safety measures are implemented to protect astronauts while they perform a spacewalk?  ',\n",
              "  'Summarize the key objectives of a typical spacewalk mission.  ',\n",
              "  \"How does microgravity affect an astronaut's movements during a spacewalk?\"],\n",
              " 'distilabel_metadata': {'raw_output_self_instruct_0': \"Can you explain the procedures involved in a spacewalk?  \\nDescribe the challenges astronauts face during a spacewalk.  \\nWhat safety measures are implemented to protect astronauts while they perform a spacewalk?  \\nSummarize the key objectives of a typical spacewalk mission.  \\nHow does microgravity affect an astronaut's movements during a spacewalk?\",\n",
              "  'raw_input_self_instruct_0': [{'role': 'user',\n",
              "    'content': '# Task Description\\nDevelop 5 user queries that can be received by the given AI application and applicable to the provided context. Emphasize diversity in verbs and linguistic structures within the model\\'s textual capabilities.\\n\\n# Criteria for Queries\\nIncorporate a diverse range of verbs, avoiding repetition.\\nEnsure queries are compatible with AI model\\'s text generation functions and are limited to 1-2 sentences.\\nDesign queries to be self-contained and standalone.\\nBlend interrogative (e.g., \"What is the significance of x?\") and imperative (e.g., \"Detail the process of x.\") styles.\\nWrite each query on a separate line and avoid using numbered lists or bullet points.\\n\\n# AI Application\\nAI assistant\\n\\n# Context\\nspacewalk\\n\\n# Output\\n'}]},\n",
              " 'model_name': 'gpt-4o-mini'}"
            ]
          },
          "metadata": {},
          "execution_count": 9
        }
      ]
    },
    {
      "cell_type": "markdown",
      "source": [
        "Let's look at what kind of instructions have been generated for the seed `spacewalk`"
      ],
      "metadata": {
        "id": "HsPj091wE2vQ"
      }
    },
    {
      "cell_type": "code",
      "source": [
        "# let's look at the instructions\n",
        "for idx, inst in enumerate(result[0]['instructions']):\n",
        "    print(f\"{idx+1}. {inst}\")"
      ],
      "metadata": {
        "colab": {
          "base_uri": "https://localhost:8080/"
        },
        "id": "C4X8pySVTIBr",
        "outputId": "d27149a6-8642-4d9d-9ac7-ac627bce2b75"
      },
      "execution_count": 10,
      "outputs": [
        {
          "output_type": "stream",
          "name": "stdout",
          "text": [
            "1. Can you explain the procedures involved in a spacewalk?  \n",
            "2. Describe the challenges astronauts face during a spacewalk.  \n",
            "3. What safety measures are implemented to protect astronauts while they perform a spacewalk?  \n",
            "4. Summarize the key objectives of a typical spacewalk mission.  \n",
            "5. How does microgravity affect an astronaut's movements during a spacewalk?\n"
          ]
        }
      ]
    },
    {
      "cell_type": "markdown",
      "source": [
        "We can also check the full prompt used under the hood 👀"
      ],
      "metadata": {
        "id": "WWB0mc_cFAHD"
      }
    },
    {
      "cell_type": "code",
      "source": [
        "print(result[0]['distilabel_metadata']['raw_input_self_instruct_0'][0]['content'])"
      ],
      "metadata": {
        "colab": {
          "base_uri": "https://localhost:8080/"
        },
        "id": "4hFPt1GRSaVr",
        "outputId": "4673e156-b4bf-453a-80cb-614a2d318a40"
      },
      "execution_count": 11,
      "outputs": [
        {
          "output_type": "stream",
          "name": "stdout",
          "text": [
            "# Task Description\n",
            "Develop 5 user queries that can be received by the given AI application and applicable to the provided context. Emphasize diversity in verbs and linguistic structures within the model's textual capabilities.\n",
            "\n",
            "# Criteria for Queries\n",
            "Incorporate a diverse range of verbs, avoiding repetition.\n",
            "Ensure queries are compatible with AI model's text generation functions and are limited to 1-2 sentences.\n",
            "Design queries to be self-contained and standalone.\n",
            "Blend interrogative (e.g., \"What is the significance of x?\") and imperative (e.g., \"Detail the process of x.\") styles.\n",
            "Write each query on a separate line and avoid using numbered lists or bullet points.\n",
            "\n",
            "# AI Application\n",
            "AI assistant\n",
            "\n",
            "# Context\n",
            "spacewalk\n",
            "\n",
            "# Output\n",
            "\n"
          ]
        }
      ]
    },
    {
      "cell_type": "markdown",
      "source": [
        "# Customise the pipeline\n",
        "\n",
        "To customise the pipeline we can change the following parameters.\n",
        "\n",
        "- **`application_description`**: (Optional) The description of the AI application that one want to build with these instructions. Defaults to AI assistant.\n",
        "- **criteria_for_query_generation**: (Optional) criteria used internally to generate good quality instructions hopefully meeting these criteria\n",
        "- **`num_instructions`**: (Optional) The number of instructions to be generated. Defaults to 5.\n",
        "\n",
        "Below we tweak the `custom_criteria_for_query_generation` to generate queries in **French** 🧀"
      ],
      "metadata": {
        "id": "d1qIbCy-Tr4Z"
      }
    },
    {
      "cell_type": "code",
      "source": [
        "llm=OpenAILLM(model=\"gpt-4o-mini\", api_key=OPENAI_API_KEY)\n",
        "\n",
        "application_description = \"AI assistant for customer advises in a clothing shop\"\n",
        "\n",
        "custom_criteria_for_query_generation = \"\"\"\n",
        "Incorporate a diverse range of verbs, avoiding repetition.\n",
        "Ensure queries are compatible with AI model's text generation functions and are limited to 1-2 sentences.\n",
        "Design queries to be self-contained and standalone.\n",
        "Blend interrogative (e.g., \"What is the significance of x?\") and imperative (e.g., \"Detail the process of x.\") styles.\n",
        "All queries shall absolutely be written in French.\n",
        "\"\"\"\n",
        "\n",
        "seeds = ['new trends', 'hat', 'hiking in winter']\n",
        "\n",
        "self_instruct = SelfInstruct(\n",
        "    llm=llm,\n",
        "    num_instructions=7,\n",
        "    application_description=application_description,\n",
        "    criteria_for_query_generation=custom_criteria_for_query_generation\n",
        ")\n",
        "\n",
        "self_instruct.load()\n",
        "\n",
        "result = next(self_instruct.process([{\"input\": seed} for seed in seeds]))"
      ],
      "metadata": {
        "colab": {
          "base_uri": "https://localhost:8080/"
        },
        "id": "iqogDnKEL-WN",
        "outputId": "289b0580-4fe4-4a94-8395-b36345af5eb0"
      },
      "execution_count": 12,
      "outputs": [
        {
          "output_type": "stream",
          "name": "stderr",
          "text": [
            "WARNING:distilabel.step.None:Step 'None' hasn't received a pipeline, and it hasn't been created within a `Pipeline` context. Please, use `with Pipeline() as pipeline:` and create the step within the context.\n"
          ]
        }
      ]
    },
    {
      "cell_type": "code",
      "source": [
        "for idx, seed in enumerate(seeds):\n",
        "    print(seed, '\\n')\n",
        "    for idx, inst in enumerate(result[idx]['instructions']):\n",
        "        print(f\"{idx+1}. {inst}\")\n",
        "    print('\\n')"
      ],
      "metadata": {
        "colab": {
          "base_uri": "https://localhost:8080/"
        },
        "id": "EHLqF8SXVoPQ",
        "outputId": "225929ce-e40d-402d-cc50-97b5f7f4d0aa"
      },
      "execution_count": 13,
      "outputs": [
        {
          "output_type": "stream",
          "name": "stdout",
          "text": [
            "new trends \n",
            "\n",
            "1. Quelles sont les tendances vestimentaires les plus en vogue pour cette saison ?\n",
            "2. Décris comment intégrer des pièces de mode classique avec les nouvelles tendances.\n",
            "3. Quelle influence les célébrités ont-elles sur les tendances actuelles de la mode ?\n",
            "4. Analyse les couleurs qui dominent les nouvelles collections cette année.\n",
            "5. Renseigne-moi sur les matériaux durables qui sont à la mode en ce moment.\n",
            "6. Propose des conseils pour personnaliser une tenue en utilisant les tendances actuelles.\n",
            "7. Explique comment choisir des accessoires en accord avec les nouvelles tendances.\n",
            "\n",
            "\n",
            "hat \n",
            "\n",
            "1. Que me recommandez-vous comme style de chapeau pour un mariage en été ?  \n",
            "2. Expliquez-moi comment choisir un chapeau qui s’accorde à un costume.  \n",
            "3. Quel est l'impact d’un chapeau sur une tenue décontractée ?  \n",
            "4. Dressez une liste des tendances actuelles en matière de chapeaux pour hommes.  \n",
            "5. Peux-tu m'indiquer comment entretenir un chapeau en feutre ?  \n",
            "6. Montre-moi les différents types de chapeaux adaptés pour une journée à la plage.  \n",
            "7. Quels sont les critères importants à considérer lors de l'achat d'un chapeau pour enfants ?  \n",
            "\n",
            "\n",
            "hiking in winter \n",
            "\n",
            "1. Quels vêtements recommandez-vous pour une randonnée d'hiver confortable et chaude ?  \n",
            "2. Expliquez les caractéristiques essentielles des vestes d'hiver pour les activités en plein air.  \n",
            "3. Comment choisir des bottes appropriées pour les randonnées en conditions hivernales ?  \n",
            "4. Dressez une liste d'accessoires indispensables pour se préparer à une randonnée en hiver.  \n",
            "5. Quelles couches de vêtements doivent être superposées pour affronter le froid lors d'une randonnée ?  \n",
            "6. Décrivez les matériaux les plus adaptés pour des vêtements de randonnée en hiver.  \n",
            "7. Que faut-il prendre en compte lors de l'achat de vêtements de randonnée pour les enfants en hiver\n",
            "\n",
            "\n"
          ]
        }
      ]
    },
    {
      "cell_type": "markdown",
      "source": [
        "Finally here we\n",
        "- transform the pipeline output into dictionary format compatible with the HuggingFace 🤗 `datasets` library.\n",
        "- give my HF username and a dataset name.\n",
        "- If you propoerly configured you HF_TOKEN in the Google Colab secrets if will push it, as public to your HF account.\n",
        "\n",
        "Marvelous!"
      ],
      "metadata": {
        "id": "UED67gnr8f8_"
      }
    },
    {
      "cell_type": "code",
      "source": [
        "def transform_to_dict(data):\n",
        "    result_dict = {\"input\": [], \"instruction\": []}\n",
        "\n",
        "    for entry in data:\n",
        "        input_value = entry['input']\n",
        "        for instruction in entry['instructions']:\n",
        "            result_dict[\"input\"].append(input_value)\n",
        "            result_dict[\"instruction\"].append(instruction)\n",
        "\n",
        "    return result_dict\n",
        "\n",
        "dataset_as_dict = transform_to_dict(result)"
      ],
      "metadata": {
        "id": "2sCpvhwUcicz"
      },
      "execution_count": 14,
      "outputs": []
    },
    {
      "cell_type": "code",
      "source": [
        "from datasets import load_dataset\n",
        "\n",
        "HF_USERNAME = 'patrickfleith'\n",
        "DATASET_NAME = 'selfinstruct_demo'\n",
        "PRIVATE = False # True or False - your dataset will be public if False on HF hub\n",
        "\n",
        "DATASET_ID = HF_USERNAME + '/' + DATASET_NAME\n",
        "\n",
        "from datasets import Dataset\n",
        "ds = Dataset.from_dict(dataset_as_dict, split='train')"
      ],
      "metadata": {
        "id": "UFAsi7wlWe30"
      },
      "execution_count": 15,
      "outputs": []
    },
    {
      "cell_type": "code",
      "source": [
        "ds.push_to_hub(DATASET_ID, private=PRIVATE)"
      ],
      "metadata": {
        "colab": {
          "base_uri": "https://localhost:8080/",
          "height": 148,
          "referenced_widgets": [
            "8e03d9c565ce4f69807552971879edab",
            "109e12c50da3467bbfa90d613c165d51",
            "b05334021cb04445bba25bb045b012f2",
            "8f9d79dea1194e63b0255134ccef1809",
            "9dbc20f474e74e18a5731d868d152fb8",
            "92f2b95f22bb4315884e67b0bfe555a6",
            "4a73327268034ebb97817fac1ba7a92c",
            "e19fb58b311c46b4a9fdc7383c562660",
            "3aa90300d697410abe7e7ac328c1551d",
            "37dd8c7efaa243b7b2cd69bf0cfdf0f6",
            "6b6fe5b9ac3d4e67a105b41f8737c8e9",
            "7fd53d2d00654939b4ec4ae9d99f3d0a",
            "bd93a30448ac49a582c73a6c41d8cb74",
            "408ec862965448c4bc4dba4ecead5262",
            "ee151c6228b2463aa8f33c999de52b4b",
            "d36291a3b6f64d4080e4398ad187fea4",
            "4950ea6b46734145aca5f849bb2555aa",
            "0295a8f8773b411ba0d320b848438528",
            "04377b4a93034986abed689746c3090b",
            "e2a4d5b5252543109129ad398b495736",
            "fa96f56ae9ff4a8ba744d7b80fe7e520",
            "3aa17b25b5f144c699bbc75f5cb96538",
            "b9a0d5b2cb054afbb4c3423f06d0b501",
            "7155ecac647a481892b3ee0da0dbd52f",
            "d5f1ee2e31874a08af91cda0f22088b1",
            "dad6150b38b24e60af88c736572898c5",
            "9f8e8aaf0077492d813af10a6d621375",
            "6e3cd1850d4a4f16be7bba9583273ab6",
            "a6ff04fc84ce44de917343a0d166ee1f",
            "ba1a18d41d3b4b3f82c77c23310950c4",
            "f9084374f4d54219899160afd124a6b9",
            "3c0df5745e2e4d83ab65a07fe5156ef9",
            "4952e52d462143b39224b87cde89bfce"
          ]
        },
        "id": "TMx1M8Z0cC14",
        "outputId": "27adca32-d9dd-4f89-d3a8-ab0c2361b267"
      },
      "execution_count": 16,
      "outputs": [
        {
          "output_type": "display_data",
          "data": {
            "text/plain": [
              "Uploading the dataset shards:   0%|          | 0/1 [00:00<?, ?it/s]"
            ],
            "application/vnd.jupyter.widget-view+json": {
              "version_major": 2,
              "version_minor": 0,
              "model_id": "8e03d9c565ce4f69807552971879edab"
            }
          },
          "metadata": {}
        },
        {
          "output_type": "display_data",
          "data": {
            "text/plain": [
              "Creating parquet from Arrow format:   0%|          | 0/1 [00:00<?, ?ba/s]"
            ],
            "application/vnd.jupyter.widget-view+json": {
              "version_major": 2,
              "version_minor": 0,
              "model_id": "7fd53d2d00654939b4ec4ae9d99f3d0a"
            }
          },
          "metadata": {}
        },
        {
          "output_type": "display_data",
          "data": {
            "text/plain": [
              "README.md:   0%|          | 0.00/304 [00:00<?, ?B/s]"
            ],
            "application/vnd.jupyter.widget-view+json": {
              "version_major": 2,
              "version_minor": 0,
              "model_id": "b9a0d5b2cb054afbb4c3423f06d0b501"
            }
          },
          "metadata": {}
        },
        {
          "output_type": "execute_result",
          "data": {
            "text/plain": [
              "CommitInfo(commit_url='https://huggingface.co/datasets/patrickfleith/selfinstruct_demo/commit/79b99be3613edde06276ce75cd2c2c3743bb6ff5', commit_message='Upload dataset', commit_description='', oid='79b99be3613edde06276ce75cd2c2c3743bb6ff5', pr_url=None, repo_url=RepoUrl('https://huggingface.co/datasets/patrickfleith/selfinstruct_demo', endpoint='https://huggingface.co', repo_type='dataset', repo_id='patrickfleith/selfinstruct_demo'), pr_revision=None, pr_num=None)"
            ],
            "application/vnd.google.colaboratory.intrinsic+json": {
              "type": "string"
            }
          },
          "metadata": {},
          "execution_count": 16
        }
      ]
    }
  ]
}