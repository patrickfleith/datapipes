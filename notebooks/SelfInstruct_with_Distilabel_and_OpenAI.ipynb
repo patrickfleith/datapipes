{
  "nbformat": 4,
  "nbformat_minor": 0,
  "metadata": {
    "colab": {
      "provenance": [],
      "collapsed_sections": [
        "fvsfDixrGRbp"
      ],
      "authorship_tag": "ABX9TyPJ0L78E6CtdQb5ww5QzBS6",
      "include_colab_link": true
    },
    "kernelspec": {
      "name": "python3",
      "display_name": "Python 3"
    },
    "language_info": {
      "name": "python"
    },
    "widgets": {
      "application/vnd.jupyter.widget-state+json": {
        "42b1e81fe50647a78309df0b4e9cedec": {
          "model_module": "@jupyter-widgets/controls",
          "model_name": "HBoxModel",
          "model_module_version": "1.5.0",
          "state": {
            "_dom_classes": [],
            "_model_module": "@jupyter-widgets/controls",
            "_model_module_version": "1.5.0",
            "_model_name": "HBoxModel",
            "_view_count": null,
            "_view_module": "@jupyter-widgets/controls",
            "_view_module_version": "1.5.0",
            "_view_name": "HBoxView",
            "box_style": "",
            "children": [
              "IPY_MODEL_5e36240c15ce436884261506da0299ac",
              "IPY_MODEL_65ce8672888e4be18e5479c730b2a8a9",
              "IPY_MODEL_5f1bd7814f314ee79ac1121b67e625a6"
            ],
            "layout": "IPY_MODEL_734a57c9b1fb49e987b7519634155b0a"
          }
        },
        "5e36240c15ce436884261506da0299ac": {
          "model_module": "@jupyter-widgets/controls",
          "model_name": "HTMLModel",
          "model_module_version": "1.5.0",
          "state": {
            "_dom_classes": [],
            "_model_module": "@jupyter-widgets/controls",
            "_model_module_version": "1.5.0",
            "_model_name": "HTMLModel",
            "_view_count": null,
            "_view_module": "@jupyter-widgets/controls",
            "_view_module_version": "1.5.0",
            "_view_name": "HTMLView",
            "description": "",
            "description_tooltip": null,
            "layout": "IPY_MODEL_fef9e426f336494295423dcd15f53377",
            "placeholder": "​",
            "style": "IPY_MODEL_a3b4b2efb5dc440b98090273c517efa0",
            "value": "Uploading the dataset shards: 100%"
          }
        },
        "65ce8672888e4be18e5479c730b2a8a9": {
          "model_module": "@jupyter-widgets/controls",
          "model_name": "FloatProgressModel",
          "model_module_version": "1.5.0",
          "state": {
            "_dom_classes": [],
            "_model_module": "@jupyter-widgets/controls",
            "_model_module_version": "1.5.0",
            "_model_name": "FloatProgressModel",
            "_view_count": null,
            "_view_module": "@jupyter-widgets/controls",
            "_view_module_version": "1.5.0",
            "_view_name": "ProgressView",
            "bar_style": "success",
            "description": "",
            "description_tooltip": null,
            "layout": "IPY_MODEL_d9668826e69747ac811d91304ccc501b",
            "max": 1,
            "min": 0,
            "orientation": "horizontal",
            "style": "IPY_MODEL_b0183f00c6ea435e8bc8d41e04769f88",
            "value": 1
          }
        },
        "5f1bd7814f314ee79ac1121b67e625a6": {
          "model_module": "@jupyter-widgets/controls",
          "model_name": "HTMLModel",
          "model_module_version": "1.5.0",
          "state": {
            "_dom_classes": [],
            "_model_module": "@jupyter-widgets/controls",
            "_model_module_version": "1.5.0",
            "_model_name": "HTMLModel",
            "_view_count": null,
            "_view_module": "@jupyter-widgets/controls",
            "_view_module_version": "1.5.0",
            "_view_name": "HTMLView",
            "description": "",
            "description_tooltip": null,
            "layout": "IPY_MODEL_a4490254e3b947f1a7efeb14e8f7a51d",
            "placeholder": "​",
            "style": "IPY_MODEL_94ab783650354b74b664096fe5819ab7",
            "value": " 1/1 [00:00&lt;00:00,  1.84it/s]"
          }
        },
        "734a57c9b1fb49e987b7519634155b0a": {
          "model_module": "@jupyter-widgets/base",
          "model_name": "LayoutModel",
          "model_module_version": "1.2.0",
          "state": {
            "_model_module": "@jupyter-widgets/base",
            "_model_module_version": "1.2.0",
            "_model_name": "LayoutModel",
            "_view_count": null,
            "_view_module": "@jupyter-widgets/base",
            "_view_module_version": "1.2.0",
            "_view_name": "LayoutView",
            "align_content": null,
            "align_items": null,
            "align_self": null,
            "border": null,
            "bottom": null,
            "display": null,
            "flex": null,
            "flex_flow": null,
            "grid_area": null,
            "grid_auto_columns": null,
            "grid_auto_flow": null,
            "grid_auto_rows": null,
            "grid_column": null,
            "grid_gap": null,
            "grid_row": null,
            "grid_template_areas": null,
            "grid_template_columns": null,
            "grid_template_rows": null,
            "height": null,
            "justify_content": null,
            "justify_items": null,
            "left": null,
            "margin": null,
            "max_height": null,
            "max_width": null,
            "min_height": null,
            "min_width": null,
            "object_fit": null,
            "object_position": null,
            "order": null,
            "overflow": null,
            "overflow_x": null,
            "overflow_y": null,
            "padding": null,
            "right": null,
            "top": null,
            "visibility": null,
            "width": null
          }
        },
        "fef9e426f336494295423dcd15f53377": {
          "model_module": "@jupyter-widgets/base",
          "model_name": "LayoutModel",
          "model_module_version": "1.2.0",
          "state": {
            "_model_module": "@jupyter-widgets/base",
            "_model_module_version": "1.2.0",
            "_model_name": "LayoutModel",
            "_view_count": null,
            "_view_module": "@jupyter-widgets/base",
            "_view_module_version": "1.2.0",
            "_view_name": "LayoutView",
            "align_content": null,
            "align_items": null,
            "align_self": null,
            "border": null,
            "bottom": null,
            "display": null,
            "flex": null,
            "flex_flow": null,
            "grid_area": null,
            "grid_auto_columns": null,
            "grid_auto_flow": null,
            "grid_auto_rows": null,
            "grid_column": null,
            "grid_gap": null,
            "grid_row": null,
            "grid_template_areas": null,
            "grid_template_columns": null,
            "grid_template_rows": null,
            "height": null,
            "justify_content": null,
            "justify_items": null,
            "left": null,
            "margin": null,
            "max_height": null,
            "max_width": null,
            "min_height": null,
            "min_width": null,
            "object_fit": null,
            "object_position": null,
            "order": null,
            "overflow": null,
            "overflow_x": null,
            "overflow_y": null,
            "padding": null,
            "right": null,
            "top": null,
            "visibility": null,
            "width": null
          }
        },
        "a3b4b2efb5dc440b98090273c517efa0": {
          "model_module": "@jupyter-widgets/controls",
          "model_name": "DescriptionStyleModel",
          "model_module_version": "1.5.0",
          "state": {
            "_model_module": "@jupyter-widgets/controls",
            "_model_module_version": "1.5.0",
            "_model_name": "DescriptionStyleModel",
            "_view_count": null,
            "_view_module": "@jupyter-widgets/base",
            "_view_module_version": "1.2.0",
            "_view_name": "StyleView",
            "description_width": ""
          }
        },
        "d9668826e69747ac811d91304ccc501b": {
          "model_module": "@jupyter-widgets/base",
          "model_name": "LayoutModel",
          "model_module_version": "1.2.0",
          "state": {
            "_model_module": "@jupyter-widgets/base",
            "_model_module_version": "1.2.0",
            "_model_name": "LayoutModel",
            "_view_count": null,
            "_view_module": "@jupyter-widgets/base",
            "_view_module_version": "1.2.0",
            "_view_name": "LayoutView",
            "align_content": null,
            "align_items": null,
            "align_self": null,
            "border": null,
            "bottom": null,
            "display": null,
            "flex": null,
            "flex_flow": null,
            "grid_area": null,
            "grid_auto_columns": null,
            "grid_auto_flow": null,
            "grid_auto_rows": null,
            "grid_column": null,
            "grid_gap": null,
            "grid_row": null,
            "grid_template_areas": null,
            "grid_template_columns": null,
            "grid_template_rows": null,
            "height": null,
            "justify_content": null,
            "justify_items": null,
            "left": null,
            "margin": null,
            "max_height": null,
            "max_width": null,
            "min_height": null,
            "min_width": null,
            "object_fit": null,
            "object_position": null,
            "order": null,
            "overflow": null,
            "overflow_x": null,
            "overflow_y": null,
            "padding": null,
            "right": null,
            "top": null,
            "visibility": null,
            "width": null
          }
        },
        "b0183f00c6ea435e8bc8d41e04769f88": {
          "model_module": "@jupyter-widgets/controls",
          "model_name": "ProgressStyleModel",
          "model_module_version": "1.5.0",
          "state": {
            "_model_module": "@jupyter-widgets/controls",
            "_model_module_version": "1.5.0",
            "_model_name": "ProgressStyleModel",
            "_view_count": null,
            "_view_module": "@jupyter-widgets/base",
            "_view_module_version": "1.2.0",
            "_view_name": "StyleView",
            "bar_color": null,
            "description_width": ""
          }
        },
        "a4490254e3b947f1a7efeb14e8f7a51d": {
          "model_module": "@jupyter-widgets/base",
          "model_name": "LayoutModel",
          "model_module_version": "1.2.0",
          "state": {
            "_model_module": "@jupyter-widgets/base",
            "_model_module_version": "1.2.0",
            "_model_name": "LayoutModel",
            "_view_count": null,
            "_view_module": "@jupyter-widgets/base",
            "_view_module_version": "1.2.0",
            "_view_name": "LayoutView",
            "align_content": null,
            "align_items": null,
            "align_self": null,
            "border": null,
            "bottom": null,
            "display": null,
            "flex": null,
            "flex_flow": null,
            "grid_area": null,
            "grid_auto_columns": null,
            "grid_auto_flow": null,
            "grid_auto_rows": null,
            "grid_column": null,
            "grid_gap": null,
            "grid_row": null,
            "grid_template_areas": null,
            "grid_template_columns": null,
            "grid_template_rows": null,
            "height": null,
            "justify_content": null,
            "justify_items": null,
            "left": null,
            "margin": null,
            "max_height": null,
            "max_width": null,
            "min_height": null,
            "min_width": null,
            "object_fit": null,
            "object_position": null,
            "order": null,
            "overflow": null,
            "overflow_x": null,
            "overflow_y": null,
            "padding": null,
            "right": null,
            "top": null,
            "visibility": null,
            "width": null
          }
        },
        "94ab783650354b74b664096fe5819ab7": {
          "model_module": "@jupyter-widgets/controls",
          "model_name": "DescriptionStyleModel",
          "model_module_version": "1.5.0",
          "state": {
            "_model_module": "@jupyter-widgets/controls",
            "_model_module_version": "1.5.0",
            "_model_name": "DescriptionStyleModel",
            "_view_count": null,
            "_view_module": "@jupyter-widgets/base",
            "_view_module_version": "1.2.0",
            "_view_name": "StyleView",
            "description_width": ""
          }
        },
        "1b175658e9b742d8ab560ad1dc5faccb": {
          "model_module": "@jupyter-widgets/controls",
          "model_name": "HBoxModel",
          "model_module_version": "1.5.0",
          "state": {
            "_dom_classes": [],
            "_model_module": "@jupyter-widgets/controls",
            "_model_module_version": "1.5.0",
            "_model_name": "HBoxModel",
            "_view_count": null,
            "_view_module": "@jupyter-widgets/controls",
            "_view_module_version": "1.5.0",
            "_view_name": "HBoxView",
            "box_style": "",
            "children": [
              "IPY_MODEL_d9af6dba835c49b094b9a88c55f68cfe",
              "IPY_MODEL_90cfd972b329463ca1ae154ce2daff26",
              "IPY_MODEL_b5d0f71fe9d54e918321c148386b93c9"
            ],
            "layout": "IPY_MODEL_8b93c38a3eb641f8b3fccb3e1e86c1b2"
          }
        },
        "d9af6dba835c49b094b9a88c55f68cfe": {
          "model_module": "@jupyter-widgets/controls",
          "model_name": "HTMLModel",
          "model_module_version": "1.5.0",
          "state": {
            "_dom_classes": [],
            "_model_module": "@jupyter-widgets/controls",
            "_model_module_version": "1.5.0",
            "_model_name": "HTMLModel",
            "_view_count": null,
            "_view_module": "@jupyter-widgets/controls",
            "_view_module_version": "1.5.0",
            "_view_name": "HTMLView",
            "description": "",
            "description_tooltip": null,
            "layout": "IPY_MODEL_fabf89177f4048d79794bd462bf36126",
            "placeholder": "​",
            "style": "IPY_MODEL_3ded5a0bad9448e7bbc7c0627c0bda34",
            "value": "Creating parquet from Arrow format: 100%"
          }
        },
        "90cfd972b329463ca1ae154ce2daff26": {
          "model_module": "@jupyter-widgets/controls",
          "model_name": "FloatProgressModel",
          "model_module_version": "1.5.0",
          "state": {
            "_dom_classes": [],
            "_model_module": "@jupyter-widgets/controls",
            "_model_module_version": "1.5.0",
            "_model_name": "FloatProgressModel",
            "_view_count": null,
            "_view_module": "@jupyter-widgets/controls",
            "_view_module_version": "1.5.0",
            "_view_name": "ProgressView",
            "bar_style": "success",
            "description": "",
            "description_tooltip": null,
            "layout": "IPY_MODEL_3d4f5d2675d8467e808b423b17dd2338",
            "max": 1,
            "min": 0,
            "orientation": "horizontal",
            "style": "IPY_MODEL_526421741e18458586dc7405d3564305",
            "value": 1
          }
        },
        "b5d0f71fe9d54e918321c148386b93c9": {
          "model_module": "@jupyter-widgets/controls",
          "model_name": "HTMLModel",
          "model_module_version": "1.5.0",
          "state": {
            "_dom_classes": [],
            "_model_module": "@jupyter-widgets/controls",
            "_model_module_version": "1.5.0",
            "_model_name": "HTMLModel",
            "_view_count": null,
            "_view_module": "@jupyter-widgets/controls",
            "_view_module_version": "1.5.0",
            "_view_name": "HTMLView",
            "description": "",
            "description_tooltip": null,
            "layout": "IPY_MODEL_987fc5d182e54a10b72c734cc646b184",
            "placeholder": "​",
            "style": "IPY_MODEL_c2b875df290f4d90a83a29b0dd160c65",
            "value": " 1/1 [00:00&lt;00:00, 46.34ba/s]"
          }
        },
        "8b93c38a3eb641f8b3fccb3e1e86c1b2": {
          "model_module": "@jupyter-widgets/base",
          "model_name": "LayoutModel",
          "model_module_version": "1.2.0",
          "state": {
            "_model_module": "@jupyter-widgets/base",
            "_model_module_version": "1.2.0",
            "_model_name": "LayoutModel",
            "_view_count": null,
            "_view_module": "@jupyter-widgets/base",
            "_view_module_version": "1.2.0",
            "_view_name": "LayoutView",
            "align_content": null,
            "align_items": null,
            "align_self": null,
            "border": null,
            "bottom": null,
            "display": null,
            "flex": null,
            "flex_flow": null,
            "grid_area": null,
            "grid_auto_columns": null,
            "grid_auto_flow": null,
            "grid_auto_rows": null,
            "grid_column": null,
            "grid_gap": null,
            "grid_row": null,
            "grid_template_areas": null,
            "grid_template_columns": null,
            "grid_template_rows": null,
            "height": null,
            "justify_content": null,
            "justify_items": null,
            "left": null,
            "margin": null,
            "max_height": null,
            "max_width": null,
            "min_height": null,
            "min_width": null,
            "object_fit": null,
            "object_position": null,
            "order": null,
            "overflow": null,
            "overflow_x": null,
            "overflow_y": null,
            "padding": null,
            "right": null,
            "top": null,
            "visibility": null,
            "width": null
          }
        },
        "fabf89177f4048d79794bd462bf36126": {
          "model_module": "@jupyter-widgets/base",
          "model_name": "LayoutModel",
          "model_module_version": "1.2.0",
          "state": {
            "_model_module": "@jupyter-widgets/base",
            "_model_module_version": "1.2.0",
            "_model_name": "LayoutModel",
            "_view_count": null,
            "_view_module": "@jupyter-widgets/base",
            "_view_module_version": "1.2.0",
            "_view_name": "LayoutView",
            "align_content": null,
            "align_items": null,
            "align_self": null,
            "border": null,
            "bottom": null,
            "display": null,
            "flex": null,
            "flex_flow": null,
            "grid_area": null,
            "grid_auto_columns": null,
            "grid_auto_flow": null,
            "grid_auto_rows": null,
            "grid_column": null,
            "grid_gap": null,
            "grid_row": null,
            "grid_template_areas": null,
            "grid_template_columns": null,
            "grid_template_rows": null,
            "height": null,
            "justify_content": null,
            "justify_items": null,
            "left": null,
            "margin": null,
            "max_height": null,
            "max_width": null,
            "min_height": null,
            "min_width": null,
            "object_fit": null,
            "object_position": null,
            "order": null,
            "overflow": null,
            "overflow_x": null,
            "overflow_y": null,
            "padding": null,
            "right": null,
            "top": null,
            "visibility": null,
            "width": null
          }
        },
        "3ded5a0bad9448e7bbc7c0627c0bda34": {
          "model_module": "@jupyter-widgets/controls",
          "model_name": "DescriptionStyleModel",
          "model_module_version": "1.5.0",
          "state": {
            "_model_module": "@jupyter-widgets/controls",
            "_model_module_version": "1.5.0",
            "_model_name": "DescriptionStyleModel",
            "_view_count": null,
            "_view_module": "@jupyter-widgets/base",
            "_view_module_version": "1.2.0",
            "_view_name": "StyleView",
            "description_width": ""
          }
        },
        "3d4f5d2675d8467e808b423b17dd2338": {
          "model_module": "@jupyter-widgets/base",
          "model_name": "LayoutModel",
          "model_module_version": "1.2.0",
          "state": {
            "_model_module": "@jupyter-widgets/base",
            "_model_module_version": "1.2.0",
            "_model_name": "LayoutModel",
            "_view_count": null,
            "_view_module": "@jupyter-widgets/base",
            "_view_module_version": "1.2.0",
            "_view_name": "LayoutView",
            "align_content": null,
            "align_items": null,
            "align_self": null,
            "border": null,
            "bottom": null,
            "display": null,
            "flex": null,
            "flex_flow": null,
            "grid_area": null,
            "grid_auto_columns": null,
            "grid_auto_flow": null,
            "grid_auto_rows": null,
            "grid_column": null,
            "grid_gap": null,
            "grid_row": null,
            "grid_template_areas": null,
            "grid_template_columns": null,
            "grid_template_rows": null,
            "height": null,
            "justify_content": null,
            "justify_items": null,
            "left": null,
            "margin": null,
            "max_height": null,
            "max_width": null,
            "min_height": null,
            "min_width": null,
            "object_fit": null,
            "object_position": null,
            "order": null,
            "overflow": null,
            "overflow_x": null,
            "overflow_y": null,
            "padding": null,
            "right": null,
            "top": null,
            "visibility": null,
            "width": null
          }
        },
        "526421741e18458586dc7405d3564305": {
          "model_module": "@jupyter-widgets/controls",
          "model_name": "ProgressStyleModel",
          "model_module_version": "1.5.0",
          "state": {
            "_model_module": "@jupyter-widgets/controls",
            "_model_module_version": "1.5.0",
            "_model_name": "ProgressStyleModel",
            "_view_count": null,
            "_view_module": "@jupyter-widgets/base",
            "_view_module_version": "1.2.0",
            "_view_name": "StyleView",
            "bar_color": null,
            "description_width": ""
          }
        },
        "987fc5d182e54a10b72c734cc646b184": {
          "model_module": "@jupyter-widgets/base",
          "model_name": "LayoutModel",
          "model_module_version": "1.2.0",
          "state": {
            "_model_module": "@jupyter-widgets/base",
            "_model_module_version": "1.2.0",
            "_model_name": "LayoutModel",
            "_view_count": null,
            "_view_module": "@jupyter-widgets/base",
            "_view_module_version": "1.2.0",
            "_view_name": "LayoutView",
            "align_content": null,
            "align_items": null,
            "align_self": null,
            "border": null,
            "bottom": null,
            "display": null,
            "flex": null,
            "flex_flow": null,
            "grid_area": null,
            "grid_auto_columns": null,
            "grid_auto_flow": null,
            "grid_auto_rows": null,
            "grid_column": null,
            "grid_gap": null,
            "grid_row": null,
            "grid_template_areas": null,
            "grid_template_columns": null,
            "grid_template_rows": null,
            "height": null,
            "justify_content": null,
            "justify_items": null,
            "left": null,
            "margin": null,
            "max_height": null,
            "max_width": null,
            "min_height": null,
            "min_width": null,
            "object_fit": null,
            "object_position": null,
            "order": null,
            "overflow": null,
            "overflow_x": null,
            "overflow_y": null,
            "padding": null,
            "right": null,
            "top": null,
            "visibility": null,
            "width": null
          }
        },
        "c2b875df290f4d90a83a29b0dd160c65": {
          "model_module": "@jupyter-widgets/controls",
          "model_name": "DescriptionStyleModel",
          "model_module_version": "1.5.0",
          "state": {
            "_model_module": "@jupyter-widgets/controls",
            "_model_module_version": "1.5.0",
            "_model_name": "DescriptionStyleModel",
            "_view_count": null,
            "_view_module": "@jupyter-widgets/base",
            "_view_module_version": "1.2.0",
            "_view_name": "StyleView",
            "description_width": ""
          }
        }
      }
    }
  },
  "cells": [
    {
      "cell_type": "markdown",
      "metadata": {
        "id": "view-in-github",
        "colab_type": "text"
      },
      "source": [
        "<a href=\"https://colab.research.google.com/github/patrickfleith/datapipes/blob/main/SelfInstruct_with_Distilabel_and_OpenAI.ipynb\" target=\"_parent\"><img src=\"https://colab.research.google.com/assets/colab-badge.svg\" alt=\"Open In Colab\"/></a>"
      ]
    },
    {
      "cell_type": "markdown",
      "source": [
        "# SelfInstruct with Distilabel and OpenAI\n",
        "\n",
        "[<img src=\"https://raw.githubusercontent.com/argilla-io/distilabel/main/docs/assets/distilabel-badge-light.png\" alt=\"Built with Distilabel\" width=\"200\" height=\"32\"/>](https://github.com/argilla-io/distilabel)\n",
        "\n",
        "This notebook shows how to generate instructions with the **SelfInstruct approach**\n",
        "- It is based on this paper: https://arxiv.org/pdf/2212.10560\n",
        "\n",
        "**Table of content**\n",
        "- Start from a list of very specific topics\n",
        "- Create a disitlabel pipeline with SelftInstruct\n",
        "- Generate a dataset of instructions related to these topics."
      ],
      "metadata": {
        "id": "E8P7GmN5E5v4"
      }
    },
    {
      "cell_type": "markdown",
      "source": [
        "# Imports and Setup of distilabel with OpenAI\n",
        "- As we use `openai` you'll need to setup your `OPENAI_API_KEY` (read a guide here [here](https://github.com/patrickfleith/datapipes/blob/main/How_to_use_an_OpenAI_Chat_model.ipynb))\n",
        "- We will not use the openai client, but the distilabel wrapper, to interface with a `SelfInstruct` pipeline."
      ],
      "metadata": {
        "id": "fvsfDixrGRbp"
      }
    },
    {
      "cell_type": "code",
      "execution_count": 1,
      "metadata": {
        "colab": {
          "base_uri": "https://localhost:8080/"
        },
        "id": "L3Ky2nSAvd19",
        "outputId": "d4ebbc33-1853-45c3-ba10-fcc7faaa0baa"
      },
      "outputs": [
        {
          "output_type": "stream",
          "name": "stdout",
          "text": [
            "\u001b[?25l   \u001b[90m━━━━━━━━━━━━━━━━━━━━━━━━━━━━━━━━━━━━━━━━\u001b[0m \u001b[32m0.0/442.2 kB\u001b[0m \u001b[31m?\u001b[0m eta \u001b[36m-:--:--\u001b[0m\r\u001b[2K   \u001b[91m━━━━━━━━━━━━━━━━━━━━━━━━━━━━━━━━\u001b[0m\u001b[90m╺\u001b[0m\u001b[90m━━━━━━━\u001b[0m \u001b[32m358.4/442.2 kB\u001b[0m \u001b[31m10.6 MB/s\u001b[0m eta \u001b[36m0:00:01\u001b[0m\r\u001b[2K   \u001b[90m━━━━━━━━━━━━━━━━━━━━━━━━━━━━━━━━━━━━━━━━\u001b[0m \u001b[32m442.2/442.2 kB\u001b[0m \u001b[31m7.7 MB/s\u001b[0m eta \u001b[36m0:00:00\u001b[0m\n",
            "\u001b[?25h\u001b[?25l   \u001b[90m━━━━━━━━━━━━━━━━━━━━━━━━━━━━━━━━━━━━━━━━\u001b[0m \u001b[32m0.0/480.6 kB\u001b[0m \u001b[31m?\u001b[0m eta \u001b[36m-:--:--\u001b[0m\r\u001b[2K   \u001b[90m━━━━━━━━━━━━━━━━━━━━━━━━━━━━━━━━━━━━━━━━\u001b[0m \u001b[32m480.6/480.6 kB\u001b[0m \u001b[31m23.8 MB/s\u001b[0m eta \u001b[36m0:00:00\u001b[0m\n",
            "\u001b[2K   \u001b[90m━━━━━━━━━━━━━━━━━━━━━━━━━━━━━━━━━━━━━━━━\u001b[0m \u001b[32m134.8/134.8 kB\u001b[0m \u001b[31m6.7 MB/s\u001b[0m eta \u001b[36m0:00:00\u001b[0m\n",
            "\u001b[2K   \u001b[90m━━━━━━━━━━━━━━━━━━━━━━━━━━━━━━━━━━━━━━━━\u001b[0m \u001b[32m49.9/49.9 kB\u001b[0m \u001b[31m2.1 MB/s\u001b[0m eta \u001b[36m0:00:00\u001b[0m\n",
            "\u001b[2K   \u001b[90m━━━━━━━━━━━━━━━━━━━━━━━━━━━━━━━━━━━━━━━━\u001b[0m \u001b[32m116.3/116.3 kB\u001b[0m \u001b[31m6.5 MB/s\u001b[0m eta \u001b[36m0:00:00\u001b[0m\n",
            "\u001b[2K   \u001b[90m━━━━━━━━━━━━━━━━━━━━━━━━━━━━━━━━━━━━━━━━\u001b[0m \u001b[32m179.3/179.3 kB\u001b[0m \u001b[31m11.2 MB/s\u001b[0m eta \u001b[36m0:00:00\u001b[0m\n",
            "\u001b[2K   \u001b[90m━━━━━━━━━━━━━━━━━━━━━━━━━━━━━━━━━━━━━━━━\u001b[0m \u001b[32m194.1/194.1 kB\u001b[0m \u001b[31m13.2 MB/s\u001b[0m eta \u001b[36m0:00:00\u001b[0m\n",
            "\u001b[?25h\u001b[31mERROR: pip's dependency resolver does not currently take into account all the packages that are installed. This behaviour is the source of the following dependency conflicts.\n",
            "gcsfs 2024.10.0 requires fsspec==2024.10.0, but you have fsspec 2024.9.0 which is incompatible.\u001b[0m\u001b[31m\n",
            "\u001b[0m"
          ]
        }
      ],
      "source": [
        "!pip install distilabel --upgrade --quiet"
      ]
    },
    {
      "cell_type": "code",
      "source": [
        "from distilabel.steps.tasks import SelfInstruct\n",
        "from distilabel.llms import OpenAILLM\n",
        "from google.colab import userdata\n",
        "import distilabel\n",
        "import openai"
      ],
      "metadata": {
        "id": "sLx4EIEAvtIf"
      },
      "execution_count": 2,
      "outputs": []
    },
    {
      "cell_type": "code",
      "source": [
        "# printing my version such you can check yours - in check of troubles\n",
        "print(f\"Open AI version: {openai.__version__}\")\n",
        "print(f\"Distilabel version: {distilabel.__version__}\")"
      ],
      "metadata": {
        "colab": {
          "base_uri": "https://localhost:8080/"
        },
        "id": "rtZmsBgoDqoG",
        "outputId": "221f8392-2c67-40e0-c1c6-931bae1cbf55"
      },
      "execution_count": 5,
      "outputs": [
        {
          "output_type": "stream",
          "name": "stdout",
          "text": [
            "Open AI version: 1.54.4\n",
            "Distilabel version: 1.4.1\n"
          ]
        }
      ]
    },
    {
      "cell_type": "code",
      "source": [
        "# load your API key\n",
        "OPENAI_API_KEY = userdata.get('OPENAI_API_KEY')"
      ],
      "metadata": {
        "id": "u8Nr_xcdwEN7"
      },
      "execution_count": 6,
      "outputs": []
    },
    {
      "cell_type": "markdown",
      "source": [
        "Documentation for `SeltInstruct` is here:\n",
        "- `https://distilabel.argilla.io/dev/components-gallery/tasks/selfinstruct/`"
      ],
      "metadata": {
        "id": "d9nw7CwVD2OM"
      }
    },
    {
      "cell_type": "markdown",
      "source": [
        "# Creating the Instruction Generation pipeline with `SelfInstruct`\n",
        "\n",
        "For the inner working of `SelftInstruct` read the paper, it is short and very informative [here](https://arxiv.org/pdf/2212.10560). In this notebook we focus on applying it and shipping a dataset ⚡\n",
        "\n",
        "### So what is SelfInstruct?\n",
        "\n",
        "What are the mandatory pieces:\n",
        "- **`llm`** - Can be from a closed one like OpenAI api, Gemini, Anthropic or an open-source one like Llama or Mistral.\n",
        "- A list of seed topics: typically something like `topics = ['spacewalk', 'french cheese', 'hiking in winter']`\n",
        "\n",
        "\n"
      ],
      "metadata": {
        "id": "b33q4dBoHilZ"
      }
    },
    {
      "cell_type": "code",
      "source": [
        "llm = OpenAILLM(model=\"gpt-4o-mini\", api_key=OPENAI_API_KEY)\n",
        "seeds = ['spacewalk', 'french cheese', 'hiking in winter']\n",
        "\n",
        "\n",
        "self_instruct = SelfInstruct(\n",
        "    llm=llm\n",
        ")\n",
        "\n",
        "self_instruct.load()"
      ],
      "metadata": {
        "colab": {
          "base_uri": "https://localhost:8080/"
        },
        "id": "wpYZGhKAK3u2",
        "outputId": "cd6e0ff7-22e8-4b35-a45f-7279a20be5ca"
      },
      "execution_count": 53,
      "outputs": [
        {
          "output_type": "stream",
          "name": "stderr",
          "text": [
            "WARNING:distilabel.step.None:Step 'None' hasn't received a pipeline, and it hasn't been created within a `Pipeline` context. Please, use `with Pipeline() as pipeline:` and create the step within the context.\n"
          ]
        }
      ]
    },
    {
      "cell_type": "code",
      "source": [
        "result = next(self_instruct.process([{\"input\": seed} for seed in seeds]))"
      ],
      "metadata": {
        "id": "18Mf9nz1P-5-"
      },
      "execution_count": 54,
      "outputs": []
    },
    {
      "cell_type": "markdown",
      "source": [
        "By default, a `SelftInstruct` Task will generate one result object per seed.\n",
        "- each result will have 5 generated instruction (default which can be changed. See below)."
      ],
      "metadata": {
        "id": "CH0lPARQQyWG"
      }
    },
    {
      "cell_type": "code",
      "source": [
        "# there are as much result as seed\n",
        "len(result), len(seeds)"
      ],
      "metadata": {
        "colab": {
          "base_uri": "https://localhost:8080/"
        },
        "id": "V5w2-CMkQnrH",
        "outputId": "23d5ea68-69c2-4e71-be95-5801acc44a38"
      },
      "execution_count": 55,
      "outputs": [
        {
          "output_type": "execute_result",
          "data": {
            "text/plain": [
              "(3, 3)"
            ]
          },
          "metadata": {},
          "execution_count": 55
        }
      ]
    },
    {
      "cell_type": "markdown",
      "source": [
        "**Let's look at the first item in result:**\n",
        "- is a dictionary → cool for further processing\n",
        "- keep the input seed for traceability\n",
        "- included a list of generated instructions at the `instructions` key.\n",
        "- keep track of the model used to generate it\n",
        "- keep track of the full criteria list\n",
        "- you can also see the full prompt (including the criteria used)"
      ],
      "metadata": {
        "id": "Di7yRUY8RR1Q"
      }
    },
    {
      "cell_type": "code",
      "source": [
        "result[0]"
      ],
      "metadata": {
        "colab": {
          "base_uri": "https://localhost:8080/"
        },
        "id": "2IaV1QE0RNoI",
        "outputId": "0cd0842b-d788-4f1a-a3f6-cfbd86904bc1"
      },
      "execution_count": 57,
      "outputs": [
        {
          "output_type": "execute_result",
          "data": {
            "text/plain": [
              "{'input': 'spacewalk',\n",
              " 'instructions': ['What challenges do astronauts face during a spacewalk?  ',\n",
              "  'Describe the steps involved in preparing for a spacewalk.  ',\n",
              "  \"How does microgravity affect an astronaut's movements while performing a spacewalk?  \",\n",
              "  'Explain the safety measures in place to protect astronauts during spacewalks.  ',\n",
              "  'Summarize the historical significance of spacewalks in human space exploration.'],\n",
              " 'distilabel_metadata': {'raw_output_self_instruct_0': \"What challenges do astronauts face during a spacewalk?  \\nDescribe the steps involved in preparing for a spacewalk.  \\nHow does microgravity affect an astronaut's movements while performing a spacewalk?  \\nExplain the safety measures in place to protect astronauts during spacewalks.  \\nSummarize the historical significance of spacewalks in human space exploration.\",\n",
              "  'raw_input_self_instruct_0': [{'role': 'user',\n",
              "    'content': '# Task Description\\nDevelop 5 user queries that can be received by the given AI application and applicable to the provided context. Emphasize diversity in verbs and linguistic structures within the model\\'s textual capabilities.\\n\\n# Criteria for Queries\\nIncorporate a diverse range of verbs, avoiding repetition.\\nEnsure queries are compatible with AI model\\'s text generation functions and are limited to 1-2 sentences.\\nDesign queries to be self-contained and standalone.\\nBlend interrogative (e.g., \"What is the significance of x?\") and imperative (e.g., \"Detail the process of x.\") styles.\\nWrite each query on a separate line and avoid using numbered lists or bullet points.\\n\\n# AI Application\\nAI assistant\\n\\n# Context\\nspacewalk\\n\\n# Output\\n'}]},\n",
              " 'model_name': 'gpt-4o-mini'}"
            ]
          },
          "metadata": {},
          "execution_count": 57
        }
      ]
    },
    {
      "cell_type": "code",
      "source": [
        "# let's look at the instructions\n",
        "for idx, inst in enumerate(result[0]['instructions']):\n",
        "    print(f\"{idx+1}. {inst}\")"
      ],
      "metadata": {
        "colab": {
          "base_uri": "https://localhost:8080/"
        },
        "id": "C4X8pySVTIBr",
        "outputId": "dd23fbb5-669d-433a-992d-399f50c3583c"
      },
      "execution_count": 61,
      "outputs": [
        {
          "output_type": "stream",
          "name": "stdout",
          "text": [
            "1. What challenges do astronauts face during a spacewalk?  \n",
            "2. Describe the steps involved in preparing for a spacewalk.  \n",
            "3. How does microgravity affect an astronaut's movements while performing a spacewalk?  \n",
            "4. Explain the safety measures in place to protect astronauts during spacewalks.  \n",
            "5. Summarize the historical significance of spacewalks in human space exploration.\n"
          ]
        }
      ]
    },
    {
      "cell_type": "code",
      "source": [
        "# let's look at the full prompt\n",
        "print(result[0]['distilabel_metadata']['raw_input_self_instruct_0'][0]['content'])"
      ],
      "metadata": {
        "colab": {
          "base_uri": "https://localhost:8080/"
        },
        "id": "4hFPt1GRSaVr",
        "outputId": "dd92b7dc-2720-4fd6-d930-e758ce3cb963"
      },
      "execution_count": 63,
      "outputs": [
        {
          "output_type": "stream",
          "name": "stdout",
          "text": [
            "# Task Description\n",
            "Develop 5 user queries that can be received by the given AI application and applicable to the provided context. Emphasize diversity in verbs and linguistic structures within the model's textual capabilities.\n",
            "\n",
            "# Criteria for Queries\n",
            "Incorporate a diverse range of verbs, avoiding repetition.\n",
            "Ensure queries are compatible with AI model's text generation functions and are limited to 1-2 sentences.\n",
            "Design queries to be self-contained and standalone.\n",
            "Blend interrogative (e.g., \"What is the significance of x?\") and imperative (e.g., \"Detail the process of x.\") styles.\n",
            "Write each query on a separate line and avoid using numbered lists or bullet points.\n",
            "\n",
            "# AI Application\n",
            "AI assistant\n",
            "\n",
            "# Context\n",
            "spacewalk\n",
            "\n",
            "# Output\n",
            "\n"
          ]
        }
      ]
    },
    {
      "cell_type": "markdown",
      "source": [
        "# Customise the pipeline\n",
        "\n",
        "To customise the pipeline we can change the following parameters.\n",
        "\n",
        "- **`application_description`**: (Optional) The description of the AI application that one want to build with these instructions. Defaults to AI assistant.\n",
        "- **criteria_for_query_generation**: (Optional) criteria used internally to generate good quality instructions hopefully meeting these criteria\n",
        "- ***`num_instructions`**: (Optional) The number of instructions to be generated. Defaults to 5."
      ],
      "metadata": {
        "id": "d1qIbCy-Tr4Z"
      }
    },
    {
      "cell_type": "code",
      "source": [
        "llm=OpenAILLM(model=\"gpt-4o-mini\", api_key=OPENAI_API_KEY)\n",
        "\n",
        "application_description = \"AI assistant for customer advises in a clothing shop\"\n",
        "\n",
        "custom_criteria_for_query_generation = \"\"\"\n",
        "Incorporate a diverse range of verbs, avoiding repetition.\n",
        "Ensure queries are compatible with AI model's text generation functions and are limited to 1-2 sentences.\n",
        "Design queries to be self-contained and standalone.\n",
        "Blend interrogative (e.g., \"What is the significance of x?\") and imperative (e.g., \"Detail the process of x.\") styles.\n",
        "All queries shall absolutely be written in French\n",
        "\"\"\"\n",
        "\n",
        "seeds = ['new trends', 'hat', 'hiking in winter']\n",
        "\n",
        "self_instruct = SelfInstruct(\n",
        "    llm=llm,\n",
        "    num_instructions=7,\n",
        "    application_description=application_description,\n",
        "    criteria_for_query_generation=custom_criteria_for_query_generation\n",
        ")\n",
        "\n",
        "self_instruct.load()\n",
        "\n",
        "result = next(self_instruct.process([{\"input\": seed} for seed in seeds]))"
      ],
      "metadata": {
        "colab": {
          "base_uri": "https://localhost:8080/"
        },
        "id": "iqogDnKEL-WN",
        "outputId": "935c9f35-7b8a-431a-a2ac-6cff5f35e03d"
      },
      "execution_count": 69,
      "outputs": [
        {
          "output_type": "stream",
          "name": "stderr",
          "text": [
            "WARNING:distilabel.step.None:Step 'None' hasn't received a pipeline, and it hasn't been created within a `Pipeline` context. Please, use `with Pipeline() as pipeline:` and create the step within the context.\n"
          ]
        }
      ]
    },
    {
      "cell_type": "code",
      "source": [
        "for idx, seed in enumerate(seeds):\n",
        "    print(seed, '\\n')\n",
        "    for idx, inst in enumerate(result[idx]['instructions']):\n",
        "        print(f\"{idx+1}. {inst}\")\n",
        "    print('\\n')"
      ],
      "metadata": {
        "colab": {
          "base_uri": "https://localhost:8080/"
        },
        "id": "EHLqF8SXVoPQ",
        "outputId": "9269e25a-17a6-4c85-e2bb-25041d9b6ded"
      },
      "execution_count": 72,
      "outputs": [
        {
          "output_type": "stream",
          "name": "stdout",
          "text": [
            "new trends \n",
            "\n",
            "1. Quelles sont les tendances de mode les plus en vogue cette saison ?  \n",
            "2. Décris les couleurs et les motifs qui dominent actuellement le marché.  \n",
            "3. Comment puis-je incorporer des pièces tendance dans ma garde-robe quotidienne ?  \n",
            "4. Explore les styles de vêtements qui sont perçus comme intemporels malgré les nouvelles tendances.  \n",
            "5. Quels accessoires peuvent compléter les tenues tendances en ce moment ?  \n",
            "6. Indique les marques qui se démarquent avec leurs nouvelles collections.  \n",
            "7. Suggère des ensembles à la mode adaptés à différents types d'événements.\n",
            "\n",
            "\n",
            "hat \n",
            "\n",
            "1. Peux-tu expliquer les styles de chapeaux qui sont tendance cette saison ?\n",
            "2. Donne-moi des conseils sur comment choisir un chapeau adapté à ma forme de visage.\n",
            "3. Quels matériaux sont généralement utilisés pour fabriquer des chapeaux ?\n",
            "4. Partage avec moi des idées de tenues qui se marient bien avec un chapeau.\n",
            "5. Comment entretenir un chapeau pour qu'il dure plus longtemps ?\n",
            "6. Indique-moi les erreurs courantes à éviter lors du choix d'un chapeau.\n",
            "7. Quelles sont les différences entre un fedora et un panama ?\n",
            "\n",
            "\n",
            "hiking in winter \n",
            "\n",
            "1. Quelle est la meilleure tenue à porter pour une randonnée en hiver ?  \n",
            "2. Expliquez comment choisir des couches de vêtements appropriées pour le froid.  \n",
            "3. Quels accessoires sont essentiels pour une randonnée réussie en hiver ?  \n",
            "4. Recommandez des marques connues pour leurs vêtements de randonnée hivernale.  \n",
            "5. Décrivez les différences entre les matériaux isolants pour les vêtements d'hiver.  \n",
            "6. Quelles erreurs courantes devrais-je éviter lors de la préparation d'une randonnée en hiver ?  \n",
            "7. Indiquez comment entretenir et laver des vêtements spécifiques pour une utilisation hivernale.  \n",
            "\n",
            "\n"
          ]
        }
      ]
    },
    {
      "cell_type": "code",
      "source": [
        "def transform_to_dict(data):\n",
        "    result_dict = {\"input\": [], \"instruction\": []}\n",
        "\n",
        "    for entry in data:\n",
        "        input_value = entry['input']\n",
        "        for instruction in entry['instructions']:\n",
        "            result_dict[\"input\"].append(input_value)\n",
        "            result_dict[\"instruction\"].append(instruction)\n",
        "\n",
        "    return result_dict\n",
        "\n",
        "dataset_as_dict = transform_to_dict(result)"
      ],
      "metadata": {
        "id": "2sCpvhwUcicz"
      },
      "execution_count": 106,
      "outputs": []
    },
    {
      "cell_type": "code",
      "source": [
        "from datasets import load_dataset\n",
        "\n",
        "HF_USERNAME = 'patrickfleith'\n",
        "DATASET_NAME = 'selfinstruct_demo'\n",
        "PRIVATE = False # True or False - your dataset will be public if False on HF hub\n",
        "\n",
        "DATASET_ID = HF_USERNAME + '/' + DATASET_NAME\n",
        "\n",
        "from datasets import Dataset\n",
        "ds = Dataset.from_dict(dataset_as_dict, split='train')"
      ],
      "metadata": {
        "id": "UFAsi7wlWe30"
      },
      "execution_count": 107,
      "outputs": []
    },
    {
      "cell_type": "code",
      "source": [
        "ds.push_to_hub(DATASET_ID, private=PRIVATE)"
      ],
      "metadata": {
        "colab": {
          "base_uri": "https://localhost:8080/",
          "height": 133,
          "referenced_widgets": [
            "42b1e81fe50647a78309df0b4e9cedec",
            "5e36240c15ce436884261506da0299ac",
            "65ce8672888e4be18e5479c730b2a8a9",
            "5f1bd7814f314ee79ac1121b67e625a6",
            "734a57c9b1fb49e987b7519634155b0a",
            "fef9e426f336494295423dcd15f53377",
            "a3b4b2efb5dc440b98090273c517efa0",
            "d9668826e69747ac811d91304ccc501b",
            "b0183f00c6ea435e8bc8d41e04769f88",
            "a4490254e3b947f1a7efeb14e8f7a51d",
            "94ab783650354b74b664096fe5819ab7",
            "1b175658e9b742d8ab560ad1dc5faccb",
            "d9af6dba835c49b094b9a88c55f68cfe",
            "90cfd972b329463ca1ae154ce2daff26",
            "b5d0f71fe9d54e918321c148386b93c9",
            "8b93c38a3eb641f8b3fccb3e1e86c1b2",
            "fabf89177f4048d79794bd462bf36126",
            "3ded5a0bad9448e7bbc7c0627c0bda34",
            "3d4f5d2675d8467e808b423b17dd2338",
            "526421741e18458586dc7405d3564305",
            "987fc5d182e54a10b72c734cc646b184",
            "c2b875df290f4d90a83a29b0dd160c65"
          ]
        },
        "id": "TMx1M8Z0cC14",
        "outputId": "26b4a409-6921-465c-cefb-a5eaf19def30"
      },
      "execution_count": 108,
      "outputs": [
        {
          "output_type": "display_data",
          "data": {
            "text/plain": [
              "Uploading the dataset shards:   0%|          | 0/1 [00:00<?, ?it/s]"
            ],
            "application/vnd.jupyter.widget-view+json": {
              "version_major": 2,
              "version_minor": 0,
              "model_id": "42b1e81fe50647a78309df0b4e9cedec"
            }
          },
          "metadata": {}
        },
        {
          "output_type": "display_data",
          "data": {
            "text/plain": [
              "Creating parquet from Arrow format:   0%|          | 0/1 [00:00<?, ?ba/s]"
            ],
            "application/vnd.jupyter.widget-view+json": {
              "version_major": 2,
              "version_minor": 0,
              "model_id": "1b175658e9b742d8ab560ad1dc5faccb"
            }
          },
          "metadata": {}
        },
        {
          "output_type": "execute_result",
          "data": {
            "text/plain": [
              "CommitInfo(commit_url='https://huggingface.co/datasets/patrickfleith/selfinstruct_demo/commit/3603ff3d7d977af85f5088b186ce65921a6b302e', commit_message='Upload dataset', commit_description='', oid='3603ff3d7d977af85f5088b186ce65921a6b302e', pr_url=None, repo_url=RepoUrl('https://huggingface.co/datasets/patrickfleith/selfinstruct_demo', endpoint='https://huggingface.co', repo_type='dataset', repo_id='patrickfleith/selfinstruct_demo'), pr_revision=None, pr_num=None)"
            ],
            "application/vnd.google.colaboratory.intrinsic+json": {
              "type": "string"
            }
          },
          "metadata": {},
          "execution_count": 108
        }
      ]
    }
  ]
}