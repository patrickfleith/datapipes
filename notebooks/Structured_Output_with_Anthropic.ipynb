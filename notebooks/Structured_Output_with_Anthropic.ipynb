{
  "nbformat": 4,
  "nbformat_minor": 0,
  "metadata": {
    "colab": {
      "provenance": [],
      "authorship_tag": "ABX9TyPoC857p9e4C6bx8exnhiP7",
      "include_colab_link": true
    },
    "kernelspec": {
      "name": "python3",
      "display_name": "Python 3"
    },
    "language_info": {
      "name": "python"
    }
  },
  "cells": [
    {
      "cell_type": "markdown",
      "metadata": {
        "id": "view-in-github",
        "colab_type": "text"
      },
      "source": [
        "<a href=\"https://colab.research.google.com/github/patrickfleith/datapipes/blob/main/Structured_Output_with_Anthropic.ipynb\" target=\"_parent\"><img src=\"https://colab.research.google.com/assets/colab-badge.svg\" alt=\"Open In Colab\"/></a>"
      ]
    },
    {
      "cell_type": "markdown",
      "source": [
        "# Structured Output with Anthropic\n",
        "In order to build reliable pipelines in which LLMs consistent return output in the same format, we are using a **Structured Output**\n",
        "- This means that we define a blueprint for the output\n",
        "- We pass the 'blueprint' to the LLM\n",
        "- Then the LLM output will confirm to the blueprint.\n",
        "\n",
        "This 'blueprint' in the LLM jargon is often called a \"schema\".\n",
        "\n",
        "**To generate structured outputs with Anthropic, we'll use the library `instructor`**"
      ],
      "metadata": {
        "id": "FLK3aVlOjFqk"
      }
    },
    {
      "cell_type": "code",
      "execution_count": null,
      "metadata": {
        "id": "LbdgSF7Bdiv3"
      },
      "outputs": [],
      "source": [
        "!pip install anthropic instructor --quiet"
      ]
    },
    {
      "cell_type": "code",
      "source": [
        "import anthropic\n",
        "from google.colab import userdata\n",
        "from pydantic import BaseModel\n",
        "from enum import Enum\n",
        "import instructor\n",
        "\n",
        "ANTHROPIC_API_KEY = userdata.get('ANTHROPIC_API_KEY')"
      ],
      "metadata": {
        "id": "d9KZsi9RdqLS"
      },
      "execution_count": null,
      "outputs": []
    },
    {
      "cell_type": "markdown",
      "source": [
        "We use pydantic to create data models."
      ],
      "metadata": {
        "id": "eTMT-M31DsBB"
      }
    },
    {
      "cell_type": "code",
      "source": [
        "class City(str, Enum):\n",
        "    aria = \"Aria\"\n",
        "    kniga = \"Kniga\"\n",
        "    aquabah = \"Aquabah\"\n",
        "    torini = \"Torini\"\n",
        "\n",
        "class Character(BaseModel):\n",
        "    name: str\n",
        "    age: int\n",
        "    city: City\n",
        "    job: str\n",
        "    two_sentences_background_story: str\n",
        "    inventory: list[str]"
      ],
      "metadata": {
        "id": "Wc7vWhzqdxOb"
      },
      "execution_count": null,
      "outputs": []
    },
    {
      "cell_type": "code",
      "source": [
        "antropic_client = anthropic.Anthropic(api_key=ANTHROPIC_API_KEY)\n",
        "client = instructor.from_anthropic(antropic_client)\n",
        "\n",
        "# note that client.chat.completions.create will also work\n",
        "player = client.messages.create(\n",
        "    model=\"claude-3-5-haiku-latest\",\n",
        "    max_tokens=1024,\n",
        "    messages=[\n",
        "        {\n",
        "            \"role\": \"system\",\n",
        "            \"content\": \"You are a helpful table-top RPG gamemaster assistant.\"},\n",
        "        {\n",
        "            \"role\": \"user\",\n",
        "            \"content\": \"Generate an Alchemist character for a low-fantasy RPG campaign. Be creative\"},\n",
        "    ],\n",
        "    temperature=0.9,\n",
        "    response_model=Character,\n",
        ")"
      ],
      "metadata": {
        "id": "g-r58A5je-be"
      },
      "execution_count": null,
      "outputs": []
    },
    {
      "cell_type": "markdown",
      "source": [
        "Now we can see the `player` object which has been created."
      ],
      "metadata": {
        "id": "tYU-yy2xj2SA"
      }
    },
    {
      "cell_type": "code",
      "source": [
        "player"
      ],
      "metadata": {
        "colab": {
          "base_uri": "https://localhost:8080/"
        },
        "id": "BwPpZT0nipCp",
        "outputId": "2c7ce389-dde4-452c-e7c5-bca4ca550850"
      },
      "execution_count": null,
      "outputs": [
        {
          "output_type": "execute_result",
          "data": {
            "text/plain": [
              "Character(name='Lyra Emberheart', age=35, city=<City.torini: 'Torini'>, job='Alchemist', two_sentences_background_story=\"Lyra was once a promising court alchemist who fell from grace after a experimental potion went catastrophically wrong, causing a noble's temporary transformation. Now she works as a freelance alchemist, seeking redemption and pushing the boundaries of her craft in secret.\", inventory=['leather-bound alchemy journal', 'brass mortar and pestle', 'collection of rare herb vials', 'experimental transmutation kit', 'emergency healing tincture'])"
            ]
          },
          "metadata": {},
          "execution_count": 18
        }
      ]
    },
    {
      "cell_type": "code",
      "source": [
        "# You can access individual fields\n",
        "player.name, player.age, player.city.name"
      ],
      "metadata": {
        "colab": {
          "base_uri": "https://localhost:8080/"
        },
        "id": "hq1zD8C_kOyG",
        "outputId": "7b512d85-2627-431f-e73d-695a8ee3253d"
      },
      "execution_count": null,
      "outputs": [
        {
          "output_type": "execute_result",
          "data": {
            "text/plain": [
              "('Lyra Emberheart', 35, 'torini')"
            ]
          },
          "metadata": {},
          "execution_count": 20
        }
      ]
    },
    {
      "cell_type": "markdown",
      "source": [
        "Learn more about instructor here: https://python.useinstructor.com/"
      ],
      "metadata": {
        "id": "3BELbz_9jXOg"
      }
    }
  ]
}