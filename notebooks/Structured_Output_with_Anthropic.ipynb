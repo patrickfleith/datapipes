{
  "nbformat": 4,
  "nbformat_minor": 0,
  "metadata": {
    "colab": {
      "provenance": []
    },
    "kernelspec": {
      "name": "python3",
      "display_name": "Python 3"
    },
    "language_info": {
      "name": "python"
    }
  },
  "cells": [
    {
      "cell_type": "markdown",
      "source": [
        "# Structured Output with Anthropic\n",
        "In order to build reliable pipelines in which LLMs consistent return output in the same format, we are using a **Structured Output**\n",
        "- This means that we define a blueprint for the output\n",
        "- We pass the 'blueprint' to the LLM\n",
        "- Then the LLM output will confirm to the blueprint.\n",
        "\n",
        "This 'blueprint' in the LLM jargon is often called a \"schema\".\n",
        "\n",
        "**To generate structured outputs with Anthropic, we'll use the library `instructor`**"
      ],
      "metadata": {
        "id": "FLK3aVlOjFqk"
      }
    },
    {
      "cell_type": "code",
      "execution_count": 1,
      "metadata": {
        "id": "LbdgSF7Bdiv3",
        "colab": {
          "base_uri": "https://localhost:8080/"
        },
        "outputId": "25038fe2-7bfa-4b83-e0de-3a1bb6fa9dc7"
      },
      "outputs": [
        {
          "output_type": "stream",
          "name": "stdout",
          "text": [
            "\u001b[?25l   \u001b[90m━━━━━━━━━━━━━━━━━━━━━━━━━━━━━━━━━━━━━━━━\u001b[0m \u001b[32m0.0/203.4 kB\u001b[0m \u001b[31m?\u001b[0m eta \u001b[36m-:--:--\u001b[0m\r\u001b[2K   \u001b[90m━━━━━━━━━━━━━━━━━━━━━━━━━━━━━━━━━━━━━━━━\u001b[0m \u001b[32m203.4/203.4 kB\u001b[0m \u001b[31m9.2 MB/s\u001b[0m eta \u001b[36m0:00:00\u001b[0m\n",
            "\u001b[?25h\u001b[?25l   \u001b[90m━━━━━━━━━━━━━━━━━━━━━━━━━━━━━━━━━━━━━━━━\u001b[0m \u001b[32m0.0/71.4 kB\u001b[0m \u001b[31m?\u001b[0m eta \u001b[36m-:--:--\u001b[0m\r\u001b[2K   \u001b[90m━━━━━━━━━━━━━━━━━━━━━━━━━━━━━━━━━━━━━━━━\u001b[0m \u001b[32m71.4/71.4 kB\u001b[0m \u001b[31m2.9 MB/s\u001b[0m eta \u001b[36m0:00:00\u001b[0m\n",
            "\u001b[?25h"
          ]
        }
      ],
      "source": [
        "!pip install anthropic instructor --quiet"
      ]
    },
    {
      "cell_type": "code",
      "source": [
        "import anthropic\n",
        "from google.colab import userdata\n",
        "from pydantic import BaseModel\n",
        "from enum import Enum\n",
        "import instructor\n",
        "\n",
        "ANTHROPIC_API_KEY = userdata.get('ANTHROPIC_API_KEY')"
      ],
      "metadata": {
        "id": "d9KZsi9RdqLS"
      },
      "execution_count": 2,
      "outputs": []
    },
    {
      "cell_type": "markdown",
      "source": [
        "We use pydantic to create data models."
      ],
      "metadata": {
        "id": "eTMT-M31DsBB"
      }
    },
    {
      "cell_type": "code",
      "source": [
        "class City(str, Enum):\n",
        "    aria = \"Aria\"\n",
        "    kniga = \"Kniga\"\n",
        "    aquabah = \"Aquabah\"\n",
        "    torini = \"Torini\"\n",
        "\n",
        "class Character(BaseModel):\n",
        "    name: str\n",
        "    age: int\n",
        "    city: City\n",
        "    job: str\n",
        "    two_sentences_background_story: str\n",
        "    inventory: list[str]"
      ],
      "metadata": {
        "id": "Wc7vWhzqdxOb"
      },
      "execution_count": 3,
      "outputs": []
    },
    {
      "cell_type": "code",
      "source": [
        "antropic_client = anthropic.Anthropic(api_key=ANTHROPIC_API_KEY)\n",
        "client = instructor.from_anthropic(antropic_client)\n",
        "\n",
        "# note that client.chat.completions.create will also work\n",
        "player = client.messages.create(\n",
        "    model=\"claude-3-5-haiku-latest\",\n",
        "    max_tokens=1024,\n",
        "    messages=[\n",
        "        {\n",
        "            \"role\": \"system\",\n",
        "            \"content\": \"You are a helpful table-top RPG gamemaster assistant.\"},\n",
        "        {\n",
        "            \"role\": \"user\",\n",
        "            \"content\": \"Generate an Alchemist character for a low-fantasy RPG campaign. Be creative\"},\n",
        "    ],\n",
        "    temperature=0.9,\n",
        "    response_model=Character,\n",
        ")"
      ],
      "metadata": {
        "id": "g-r58A5je-be"
      },
      "execution_count": 4,
      "outputs": []
    },
    {
      "cell_type": "markdown",
      "source": [
        "Now we can see the `player` object which has been created."
      ],
      "metadata": {
        "id": "tYU-yy2xj2SA"
      }
    },
    {
      "cell_type": "code",
      "source": [
        "player"
      ],
      "metadata": {
        "colab": {
          "base_uri": "https://localhost:8080/"
        },
        "id": "BwPpZT0nipCp",
        "outputId": "73e74971-7e85-40b3-cc9e-a92e089bd206"
      },
      "execution_count": 5,
      "outputs": [
        {
          "output_type": "execute_result",
          "data": {
            "text/plain": [
              "Character(name='Lyra Morningmist', age=35, city=<City.torini: 'Torini'>, job='Alchemist', two_sentences_background_story='Lyra was once a promising court alchemist who fell from grace after an experimental potion caused an unexpected magical mishap during a royal ceremony. Now she works as an independent researcher, seeking to redeem her reputation by creating groundbreaking elixirs that could change the world of medicine and magic.', inventory=['brass mortar and pestle', 'leather-bound alchemy journal', 'collection of rare herb vials', 'distillation apparatus', 'emergency healing tincture'])"
            ]
          },
          "metadata": {},
          "execution_count": 5
        }
      ]
    },
    {
      "cell_type": "code",
      "source": [
        "# You can access individual fields\n",
        "player.name, player.age, player.city.name"
      ],
      "metadata": {
        "colab": {
          "base_uri": "https://localhost:8080/"
        },
        "id": "hq1zD8C_kOyG",
        "outputId": "9128f8ca-d6f1-4b00-8a43-8aefbd81dde7"
      },
      "execution_count": 6,
      "outputs": [
        {
          "output_type": "execute_result",
          "data": {
            "text/plain": [
              "('Lyra Morningmist', 35, 'torini')"
            ]
          },
          "metadata": {},
          "execution_count": 6
        }
      ]
    },
    {
      "cell_type": "markdown",
      "source": [
        "Learn more about instructor here: https://python.useinstructor.com/"
      ],
      "metadata": {
        "id": "3BELbz_9jXOg"
      }
    }
  ]
}