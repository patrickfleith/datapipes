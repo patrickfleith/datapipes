{
  "nbformat": 4,
  "nbformat_minor": 0,
  "metadata": {
    "colab": {
      "provenance": []
    },
    "kernelspec": {
      "name": "python3",
      "display_name": "Python 3"
    },
    "language_info": {
      "name": "python"
    }
  },
  "cells": [
    {
      "cell_type": "markdown",
      "source": [
        "# Structured Output with Anthropic\n",
        "In order to build reliable pipelines in which LLMs consistently return output in the same format, we are using a **Structured Output**\n",
        "- This means that we define a blueprint for the output\n",
        "- We pass the 'blueprint' to the LLM\n",
        "- Then the LLM output will conform to the blueprint.\n",
        "\n",
        "This 'blueprint' in the LLM jargon is often called a \"schema\".\n",
        "\n",
        "**To generate structured outputs with Anthropic, we'll use the library `instructor`**"
      ],
      "metadata": {
        "id": "FLK3aVlOjFqk"
      }
    },
    {
      "cell_type": "code",
      "execution_count": 1,
      "metadata": {
        "id": "LbdgSF7Bdiv3",
        "outputId": "29a420a9-dd19-49dc-bce1-9513e472f087",
        "colab": {
          "base_uri": "https://localhost:8080/"
        }
      },
      "outputs": [
        {
          "output_type": "stream",
          "name": "stdout",
          "text": [
            "\u001b[?25l   \u001b[90m━━━━━━━━━━━━━━━━━━━━━━━━━━━━━━━━━━━━━━━━\u001b[0m \u001b[32m0.0/222.8 kB\u001b[0m \u001b[31m?\u001b[0m eta \u001b[36m-:--:--\u001b[0m\r\u001b[2K   \u001b[91m━━━━━━━━━━━━━━━━━━━━━━━━━━━━━━━━━━━━━━\u001b[0m\u001b[91m╸\u001b[0m\u001b[90m━\u001b[0m \u001b[32m215.0/222.8 kB\u001b[0m \u001b[31m17.9 MB/s\u001b[0m eta \u001b[36m0:00:01\u001b[0m\r\u001b[2K   \u001b[90m━━━━━━━━━━━━━━━━━━━━━━━━━━━━━━━━━━━━━━━━\u001b[0m \u001b[32m222.8/222.8 kB\u001b[0m \u001b[31m3.9 MB/s\u001b[0m eta \u001b[36m0:00:00\u001b[0m\n",
            "\u001b[?25h\u001b[?25l   \u001b[90m━━━━━━━━━━━━━━━━━━━━━━━━━━━━━━━━━━━━━━━━\u001b[0m \u001b[32m0.0/71.4 kB\u001b[0m \u001b[31m?\u001b[0m eta \u001b[36m-:--:--\u001b[0m\r\u001b[2K   \u001b[90m━━━━━━━━━━━━━━━━━━━━━━━━━━━━━━━━━━━━━━━━\u001b[0m \u001b[32m71.4/71.4 kB\u001b[0m \u001b[31m1.9 MB/s\u001b[0m eta \u001b[36m0:00:00\u001b[0m\n",
            "\u001b[?25h"
          ]
        }
      ],
      "source": [
        "!pip install anthropic instructor --quiet"
      ]
    },
    {
      "cell_type": "code",
      "source": [
        "import anthropic\n",
        "from google.colab import userdata\n",
        "from pydantic import BaseModel, Field\n",
        "from typing import List, Optional\n",
        "import instructor\n",
        "\n",
        "ANTHROPIC_API_KEY = userdata.get('ANTHROPIC_API_KEY')"
      ],
      "metadata": {
        "id": "d9KZsi9RdqLS"
      },
      "execution_count": 2,
      "outputs": []
    },
    {
      "cell_type": "markdown",
      "source": [
        "We use pydantic to create data models.\n",
        "- Here we would like to imagine cities for a role-playing-game scenarios."
      ],
      "metadata": {
        "id": "eTMT-M31DsBB"
      }
    },
    {
      "cell_type": "code",
      "source": [
        "class City(BaseModel):\n",
        "    name: str = Field(..., description=\"Name of the city. Can be inspired from Oriental, Asian, Russian, Amercian, European styles\")\n",
        "    biotope: str = Field(..., description=\"The natural surroundings or environmental features of the city\")\n",
        "    economy: str = Field(..., description=\"The primary industries, economic status, or key exports/imports\")\n",
        "    culture: str = Field(..., description=\"Traditions, festivals, social norms, and attitudes towards outsiders\")\n",
        "    military: Optional[str] = Field(None, description=\"Details about the city's defense systems, military force, or recent conflicts\")\n",
        "    technology: Optional[str] = Field(None, description=\"Level of technological or magical advancement, and its accessibility\")\n",
        "    notable_features: Optional[List[str]] = Field(None, description=\"List of unique landmarks, key buildings, or hidden locations\")\n",
        "    population: Optional[str] = Field(None, description=\"Demographics, dominant species, and population size\")\n",
        "    mood: Optional[str] = Field(None, description=\"General atmosphere, sensory details, or challenges faced by residents\")"
      ],
      "metadata": {
        "id": "Wc7vWhzqdxOb"
      },
      "execution_count": 3,
      "outputs": []
    },
    {
      "cell_type": "markdown",
      "source": [
        "We can inject some initial ideas we might have"
      ],
      "metadata": {
        "id": "GboaRyVGfQZ6"
      }
    },
    {
      "cell_type": "code",
      "source": [
        "idea_seeds = [\n",
        "    'A city name Aquabah',\n",
        "    'A city named Kniga where human built mechanical creatures and machine to assist them',\n",
        "    'something with Italian/German vibes',\n",
        "    'Very cold place',\n",
        "    'Desert'\n",
        "]"
      ],
      "metadata": {
        "id": "CHj78h6naoGB"
      },
      "execution_count": 4,
      "outputs": []
    },
    {
      "cell_type": "markdown",
      "source": [
        "Note below how:\n",
        "- we pass the `antropic_client` to **`instructor`**\n",
        "- we loop through our initial ideas\n",
        "- inject ideas into the user prompt template\n",
        "- have high temperature for good creativity\n",
        "- pass the **`City`** pydantic data schema to the `response_model` argument."
      ],
      "metadata": {
        "id": "hJwI8XwFfamn"
      }
    },
    {
      "cell_type": "code",
      "source": [
        "antropic_client = anthropic.Anthropic(api_key=ANTHROPIC_API_KEY)\n",
        "client = instructor.from_anthropic(\n",
        "                antropic_client, mode=instructor.Mode.ANTHROPIC_TOOLS\n",
        "            )\n",
        "\n",
        "cities = []\n",
        "for idea in idea_seeds:\n",
        "    city = client.messages.create(\n",
        "        model=\"claude-3-5-haiku-latest\",\n",
        "        max_tokens=2056,\n",
        "        messages=[\n",
        "            {\n",
        "                \"role\": \"system\",\n",
        "                \"content\": \"You are a helpful table-top RPG gamemaster assistant, \\\n",
        "                and a world class scenario writer.\"},\n",
        "            {\n",
        "                \"role\": \"user\",\n",
        "                \"content\": f\"Imagine a city on the basis of the following idea: {idea}. \\\n",
        "                 Be creative. \\\n",
        "                 Provide only one sentence per attribute of the city. Be very concise. \\\n",
        "                 Use language adequat for teenagers.\"\n",
        "            },\n",
        "        ],\n",
        "        temperature=0.9,\n",
        "        response_model=City,\n",
        "    )\n",
        "    cities.append(city)"
      ],
      "metadata": {
        "id": "g-r58A5je-be"
      },
      "execution_count": 9,
      "outputs": []
    },
    {
      "cell_type": "markdown",
      "source": [
        "Now we can see the 5 `cities` objects which have been created."
      ],
      "metadata": {
        "id": "tYU-yy2xj2SA"
      }
    },
    {
      "cell_type": "code",
      "source": [
        "len(cities)"
      ],
      "metadata": {
        "colab": {
          "base_uri": "https://localhost:8080/"
        },
        "id": "DgGU-KEwcZNb",
        "outputId": "af13d528-d137-4efd-e200-c5aefbc04150"
      },
      "execution_count": 10,
      "outputs": [
        {
          "output_type": "execute_result",
          "data": {
            "text/plain": [
              "5"
            ]
          },
          "metadata": {},
          "execution_count": 10
        }
      ]
    },
    {
      "cell_type": "code",
      "source": [
        "from pprint import pprint"
      ],
      "metadata": {
        "id": "BwPpZT0nipCp"
      },
      "execution_count": 11,
      "outputs": []
    },
    {
      "cell_type": "code",
      "source": [
        "print(cities[3].name, '\\n')\n",
        "pprint(cities[3].model_dump())"
      ],
      "metadata": {
        "colab": {
          "base_uri": "https://localhost:8080/"
        },
        "id": "3jnRTVOteU1o",
        "outputId": "f1e4adee-d49d-4a54-c4c3-933f91f76b81"
      },
      "execution_count": 12,
      "outputs": [
        {
          "output_type": "stream",
          "name": "stdout",
          "text": [
            "Frostholm \n",
            "\n",
            "{'biotope': 'A harsh, frozen landscape of eternal winter with jagged ice '\n",
            "            'mountains and frozen tundra stretching as far as the eye can see',\n",
            " 'culture': 'Residents are hardcore survivors who celebrate their annual Ice '\n",
            "            'Trials - an extreme coming-of-age ritual where teens prove they '\n",
            "            \"can handle the city's insane cold\",\n",
            " 'economy': 'Survival depends on fur trading, ice mining, and advanced '\n",
            "            'cold-resistant technology that lets people make bank in the most '\n",
            "            'brutal winter conditions',\n",
            " 'military': 'Elite frost warriors trained in guerrilla tactics who use the '\n",
            "             'brutal environment as their ultimate weapon against any '\n",
            "             'potential invaders',\n",
            " 'mood': 'A constant vibe of gritty determination mixed with bone-chilling '\n",
            "         'isolation that keeps everyone close-knit and fiercely protective',\n",
            " 'name': 'Frostholm',\n",
            " 'notable_features': ['Obsidian Ice Citadel',\n",
            "                      'Frozen Lightning Canyon',\n",
            "                      'Thermal Core Underground Network'],\n",
            " 'population': 'Tough mixed-race communities of humans and frost-adapted '\n",
            "               \"humanoids who've evolved to crush the extreme cold\",\n",
            " 'technology': 'Thermal exosuits, heat-generating nano-tech, and radical '\n",
            "               'survival gear that basically turns humans into walking heaters'}\n"
          ]
        }
      ]
    },
    {
      "cell_type": "markdown",
      "source": [
        "Now what? **We could use those generate cities and generate a couple of NPCs for each city** 😱\n",
        "As you can see, structured output are powerful!"
      ],
      "metadata": {
        "id": "jHdB_pkwgLBi"
      }
    },
    {
      "cell_type": "markdown",
      "source": [
        "Learn more about instructor here: https://python.useinstructor.com/"
      ],
      "metadata": {
        "id": "3BELbz_9jXOg"
      }
    }
  ]
}