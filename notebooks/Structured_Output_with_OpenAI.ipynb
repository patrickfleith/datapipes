{
  "nbformat": 4,
  "nbformat_minor": 0,
  "metadata": {
    "colab": {
      "provenance": [],
      "authorship_tag": "ABX9TyMMIudnMAU3VlSNHrbTzL1C",
      "include_colab_link": true
    },
    "kernelspec": {
      "name": "python3",
      "display_name": "Python 3"
    },
    "language_info": {
      "name": "python"
    }
  },
  "cells": [
    {
      "cell_type": "markdown",
      "metadata": {
        "id": "view-in-github",
        "colab_type": "text"
      },
      "source": [
        "<a href=\"https://colab.research.google.com/github/patrickfleith/datapipes/blob/main/Structured_Output_with_OpenAI.ipynb\" target=\"_parent\"><img src=\"https://colab.research.google.com/assets/colab-badge.svg\" alt=\"Open In Colab\"/></a>"
      ]
    },
    {
      "cell_type": "markdown",
      "source": [
        "# Structured Output with OpenAI\n",
        "In order to build reliable pipelines in which LLMs consistent return output in the same format, we are using a **Structured Output**\n",
        "- This means that we define a blueprint for the output\n",
        "- We pass the 'blueprint' to the LLM\n",
        "- Then the LLM output will confirm to the blueprint.\n",
        "\n",
        "This 'blueprint' in the LLM jargon is often called a \"schema\"."
      ],
      "metadata": {
        "id": "7ZXlIe9sUYXC"
      }
    },
    {
      "cell_type": "code",
      "execution_count": null,
      "metadata": {
        "id": "3m4uYGF1T3Hz"
      },
      "outputs": [],
      "source": [
        "# openai for LLM, pydantic to define the schema\n",
        "!pip install openai pydantic --quiet"
      ]
    },
    {
      "cell_type": "code",
      "source": [
        "from pydantic import BaseModel\n",
        "from openai import OpenAI\n",
        "from google.colab import userdata"
      ],
      "metadata": {
        "id": "6GchGqCfVMNL"
      },
      "execution_count": null,
      "outputs": []
    },
    {
      "cell_type": "code",
      "source": [
        "OPENAI_API_KEY = userdata.get(\"OPENAI_API_KEY\")"
      ],
      "metadata": {
        "id": "UzyV_yAIVWml"
      },
      "execution_count": null,
      "outputs": []
    },
    {
      "cell_type": "markdown",
      "source": [
        "## Getting started with Structured Generation\n",
        "Let's imagine we want to consistently generate RPG characters with:\n",
        "- a name\n",
        "- an age\n",
        "- a city\n",
        "- a profession\n",
        "- a background story\n",
        "- inventory\n",
        "\n",
        "We'll define the schema (the blueprint) for the structured output."
      ],
      "metadata": {
        "id": "3EPZhcKcVpB5"
      }
    },
    {
      "cell_type": "code",
      "source": [
        "client = OpenAI(api_key=userdata.get('OPENAI_API_KEY'))"
      ],
      "metadata": {
        "id": "0obY3kgrZWMa"
      },
      "execution_count": null,
      "outputs": []
    },
    {
      "cell_type": "code",
      "source": [
        "from enum import Enum\n",
        "\n",
        "class City(str, Enum):\n",
        "    aria = \"Aria\"\n",
        "    kniga = \"Kniga\"\n",
        "    aquabah = \"Aquabah\"\n",
        "    torini = \"Torini\"\n",
        "\n",
        "class Character(BaseModel):\n",
        "    name: str\n",
        "    age: int\n",
        "    city: City\n",
        "    job: str\n",
        "    two_sentences_background_story: str\n",
        "    inventory: list[str]\n",
        "\n",
        "completion = client.beta.chat.completions.parse(\n",
        "    model=\"gpt-4o-mini\",\n",
        "    messages=[\n",
        "        {\n",
        "            \"role\": \"system\",\n",
        "            \"content\": \"You are a helpful table-top RPG gamemaster assistant.\"},\n",
        "        {\n",
        "            \"role\": \"user\",\n",
        "            \"content\": \"Generate a character for a low-fantasy RPG campaign. Be creative\"},\n",
        "    ],\n",
        "    temperature=1.0,\n",
        "    response_format=Character,\n",
        ")"
      ],
      "metadata": {
        "id": "ECyLpV4hVq9c"
      },
      "execution_count": null,
      "outputs": []
    },
    {
      "cell_type": "code",
      "source": [
        "message = completion.choices[0].message"
      ],
      "metadata": {
        "id": "I0PTPQirX_i5"
      },
      "execution_count": null,
      "outputs": []
    },
    {
      "cell_type": "code",
      "source": [
        "print(f\"Name: {message.parsed.name}\")\n",
        "print(f\"age: {message.parsed.age}\")\n",
        "print(f\"City: {message.parsed.city}\")\n",
        "\n",
        "print(f\"Job: {message.parsed.job}\")\n",
        "print(f\"Inventory: {message.parsed.inventory}\\n\")"
      ],
      "metadata": {
        "colab": {
          "base_uri": "https://localhost:8080/"
        },
        "id": "v_VLJfw-YGDd",
        "outputId": "94fe66d0-c903-4a25-e0d7-54c73a334d63"
      },
      "execution_count": null,
      "outputs": [
        {
          "output_type": "stream",
          "name": "stdout",
          "text": [
            "Name: Elara Thorne\n",
            "age: 28\n",
            "City: Aria\n",
            "Job: Herbalist\n",
            "Inventory: ['Healing herbs', 'Flask of elixir', 'Dagger', 'Leather satchel', 'Map of local flora']\n",
            "\n"
          ]
        }
      ]
    },
    {
      "cell_type": "code",
      "source": [
        "message.parsed.two_sentences_background_story"
      ],
      "metadata": {
        "colab": {
          "base_uri": "https://localhost:8080/",
          "height": 70
        },
        "id": "OOCt3pGRYGsD",
        "outputId": "5876846a-914f-465e-dcdf-3182357aa3f9"
      },
      "execution_count": null,
      "outputs": [
        {
          "output_type": "execute_result",
          "data": {
            "text/plain": [
              "'Elara grew up in the bustling city of Aria, learning the art of herbalism from her grandmother, a renowned healer. After a tragic incident involving a corrupt nobleman, she now travels the land, seeking justice for those wronged and using her knowledge of plants to aid the less fortunate.'"
            ],
            "application/vnd.google.colaboratory.intrinsic+json": {
              "type": "string"
            }
          },
          "metadata": {},
          "execution_count": 28
        }
      ]
    },
    {
      "cell_type": "markdown",
      "source": [
        "# Structured Output with Instructor\n",
        "\n",
        "`instructor` is a popular library for structured outputs powered by llms. Designed for simplicity, transparency, and control.\n",
        "\n",
        "It also used pydantic so you'll see it is very similar."
      ],
      "metadata": {
        "id": "tco9fpnSgeuR"
      }
    },
    {
      "cell_type": "code",
      "source": [
        "!pip install instructor --quiet"
      ],
      "metadata": {
        "id": "z6RgS2IEgsC7"
      },
      "execution_count": null,
      "outputs": []
    },
    {
      "cell_type": "code",
      "source": [
        "import instructor\n",
        "\n",
        "# Patch the OpenAI client\n",
        "client = instructor.from_openai(\n",
        "    OpenAI(\n",
        "        api_key=userdata.get('OPENAI_API_KEY')\n",
        "        )\n",
        "    )\n",
        "\n",
        "# Generate structured data from natural language\n",
        "character = client.chat.completions.create(\n",
        "    model=\"gpt-4o-mini\",\n",
        "    response_model=Character,\n",
        "    messages=[\n",
        "        {\n",
        "            \"role\": \"system\",\n",
        "            \"content\": \"You are a helpful table-top RPG gamemaster assistant.\"},\n",
        "        {\n",
        "            \"role\": \"user\",\n",
        "            \"content\": \"Generate a Warrior character for a low-fantasy RPG campaign. Be creative\"},\n",
        "    ],\n",
        "    temperature=1.5\n",
        ")"
      ],
      "metadata": {
        "id": "SVOzsPALgzyJ"
      },
      "execution_count": null,
      "outputs": []
    },
    {
      "cell_type": "code",
      "source": [
        "character.name"
      ],
      "metadata": {
        "colab": {
          "base_uri": "https://localhost:8080/",
          "height": 35
        },
        "id": "wz1eLKq6hNVf",
        "outputId": "8979f961-9d93-4db7-a9d8-cab7271aa936"
      },
      "execution_count": null,
      "outputs": [
        {
          "output_type": "execute_result",
          "data": {
            "text/plain": [
              "'Darek Ironhand'"
            ],
            "application/vnd.google.colaboratory.intrinsic+json": {
              "type": "string"
            }
          },
          "metadata": {},
          "execution_count": 49
        }
      ]
    },
    {
      "cell_type": "code",
      "source": [
        "character.age"
      ],
      "metadata": {
        "colab": {
          "base_uri": "https://localhost:8080/"
        },
        "id": "FbCyNSfzhP7o",
        "outputId": "4b36a613-1e1b-4625-bde1-c3a6f025ad9c"
      },
      "execution_count": null,
      "outputs": [
        {
          "output_type": "execute_result",
          "data": {
            "text/plain": [
              "32"
            ]
          },
          "metadata": {},
          "execution_count": 50
        }
      ]
    },
    {
      "cell_type": "code",
      "source": [
        "character.city"
      ],
      "metadata": {
        "colab": {
          "base_uri": "https://localhost:8080/",
          "height": 34
        },
        "id": "NroEpUm1hVe3",
        "outputId": "053901ee-457e-4065-9654-79171f3f40df"
      },
      "execution_count": null,
      "outputs": [
        {
          "output_type": "execute_result",
          "data": {
            "text/plain": [
              "<City.aria: 'Aria'>"
            ],
            "application/vnd.google.colaboratory.intrinsic+json": {
              "type": "string"
            }
          },
          "metadata": {},
          "execution_count": 51
        }
      ]
    },
    {
      "cell_type": "code",
      "source": [
        "character.job"
      ],
      "metadata": {
        "colab": {
          "base_uri": "https://localhost:8080/",
          "height": 35
        },
        "id": "QTUPQe13hWpE",
        "outputId": "7c304707-0798-4640-c673-44e54d2c5a34"
      },
      "execution_count": null,
      "outputs": [
        {
          "output_type": "execute_result",
          "data": {
            "text/plain": [
              "'Mercenary Warrior'"
            ],
            "application/vnd.google.colaboratory.intrinsic+json": {
              "type": "string"
            }
          },
          "metadata": {},
          "execution_count": 52
        }
      ]
    },
    {
      "cell_type": "code",
      "source": [
        "character.two_sentences_background_story"
      ],
      "metadata": {
        "colab": {
          "base_uri": "https://localhost:8080/",
          "height": 70
        },
        "id": "9U0yunDJhgsG",
        "outputId": "c7c84e3d-030d-467f-9cca-7777b749cdd2"
      },
      "execution_count": null,
      "outputs": [
        {
          "output_type": "execute_result",
          "data": {
            "text/plain": [
              "'Darek Ironhand hails from a small village on the outskirts of Aria, where he learned the art of combat by defending his home from raiders. After losing his family to a brutal attack, he took up mercenary work to avenge his loved ones and protect the weak.'"
            ],
            "application/vnd.google.colaboratory.intrinsic+json": {
              "type": "string"
            }
          },
          "metadata": {},
          "execution_count": 53
        }
      ]
    }
  ]
}