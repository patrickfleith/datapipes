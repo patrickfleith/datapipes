{
  "nbformat": 4,
  "nbformat_minor": 0,
  "metadata": {
    "colab": {
      "provenance": []
    },
    "kernelspec": {
      "name": "python3",
      "display_name": "Python 3"
    },
    "language_info": {
      "name": "python"
    }
  },
  "cells": [
    {
      "cell_type": "markdown",
      "source": [
        "# Structured Output with OpenAI\n",
        "In order to build reliable pipelines in which LLMs consistently return output in the same format, we are using a **Structured Output**\n",
        "- This means that we define a blueprint for the output\n",
        "- We pass the 'blueprint' to the LLM\n",
        "- Then the LLM output will conform to the blueprint.\n",
        "\n",
        "This 'blueprint' in the LLM jargon is often called a \"schema\"."
      ],
      "metadata": {
        "id": "7ZXlIe9sUYXC"
      }
    },
    {
      "cell_type": "code",
      "execution_count": null,
      "metadata": {
        "id": "3m4uYGF1T3Hz"
      },
      "outputs": [],
      "source": [
        "# openai for LLM, pydantic to define the schema\n",
        "!pip install openai pydantic --quiet"
      ]
    },
    {
      "cell_type": "code",
      "source": [
        "from pydantic import BaseModel\n",
        "from openai import OpenAI\n",
        "from google.colab import userdata"
      ],
      "metadata": {
        "id": "6GchGqCfVMNL"
      },
      "execution_count": null,
      "outputs": []
    },
    {
      "cell_type": "code",
      "source": [
        "OPENAI_API_KEY = userdata.get(\"OPENAI_API_KEY\")"
      ],
      "metadata": {
        "id": "UzyV_yAIVWml"
      },
      "execution_count": null,
      "outputs": []
    },
    {
      "cell_type": "markdown",
      "source": [
        "## Getting started with Structured Generation\n",
        "Let's imagine we want to consistently generate RPG characters with:\n",
        "- a name\n",
        "- an age\n",
        "- a city\n",
        "- a profession\n",
        "- a background story\n",
        "- inventory\n",
        "\n",
        "We'll define the schema (the blueprint) for the structured output."
      ],
      "metadata": {
        "id": "3EPZhcKcVpB5"
      }
    },
    {
      "cell_type": "code",
      "source": [
        "client = OpenAI(api_key=userdata.get('OPENAI_API_KEY'))"
      ],
      "metadata": {
        "id": "0obY3kgrZWMa"
      },
      "execution_count": null,
      "outputs": []
    },
    {
      "cell_type": "code",
      "source": [
        "from pydantic import BaseModel\n",
        "from enum import Enum\n",
        "\n",
        "# Here we want to limit the choices to some pre-defined cities\n",
        "class City(str, Enum):\n",
        "    aria = \"Aria\"\n",
        "    kniga = \"Kniga\"\n",
        "    aquabah = \"Aquabah\"\n",
        "    torini = \"Torini\"\n",
        "\n",
        "# here we'll let the AI make up the rest\n",
        "class Character(BaseModel):\n",
        "    name: str\n",
        "    age: int\n",
        "    city: City\n",
        "    job: str\n",
        "    two_sentences_background_story: str\n",
        "    inventory: list[str]\n",
        "\n",
        "completion = client.beta.chat.completions.parse(\n",
        "    model=\"gpt-4o-mini\",\n",
        "    messages=[\n",
        "        {\n",
        "            \"role\": \"system\",\n",
        "            \"content\": \"You are a helpful table-top RPG gamemaster assistant.\"},\n",
        "        {\n",
        "            \"role\": \"user\",\n",
        "            \"content\": \"Generate a character for a low-fantasy RPG campaign. Be creative\"},\n",
        "    ],\n",
        "    temperature=1.0,\n",
        "    response_format=Character,\n",
        ")"
      ],
      "metadata": {
        "id": "ECyLpV4hVq9c"
      },
      "execution_count": null,
      "outputs": []
    },
    {
      "cell_type": "code",
      "source": [
        "message = completion.choices[0].message"
      ],
      "metadata": {
        "id": "I0PTPQirX_i5"
      },
      "execution_count": null,
      "outputs": []
    },
    {
      "cell_type": "code",
      "source": [
        "print(f\"Name: {message.parsed.name}\")\n",
        "print(f\"age: {message.parsed.age}\")\n",
        "print(f\"City: {message.parsed.city}\")\n",
        "\n",
        "print(f\"Job: {message.parsed.job}\")\n",
        "print(f\"Inventory: {message.parsed.inventory}\\n\")"
      ],
      "metadata": {
        "colab": {
          "base_uri": "https://localhost:8080/"
        },
        "id": "v_VLJfw-YGDd",
        "outputId": "614fac42-9c85-44bb-9488-e4384561e546"
      },
      "execution_count": null,
      "outputs": [
        {
          "output_type": "stream",
          "name": "stdout",
          "text": [
            "Name: Elysia Thornwood\n",
            "age: 27\n",
            "City: Torini\n",
            "Job: Herbalist\n",
            "Inventory: [\"Herbalist's kit\", 'Healing potions', 'Dried herbs', 'Forest map', 'Sturdy sling', 'Notebook of remedies']\n",
            "\n"
          ]
        }
      ]
    },
    {
      "cell_type": "code",
      "source": [
        "message.parsed.two_sentences_background_story"
      ],
      "metadata": {
        "colab": {
          "base_uri": "https://localhost:8080/",
          "height": 70
        },
        "id": "OOCt3pGRYGsD",
        "outputId": "2fb63e40-f2d7-467b-955e-f5600435835e"
      },
      "execution_count": null,
      "outputs": [
        {
          "output_type": "execute_result",
          "data": {
            "text/plain": [
              "\"Elysia grew up in the tranquil forests surrounding Torini, learning the secrets of the plants from her grandmother, a renowned herbalist. After her grandmother's mysterious disappearance, Elysia now travels the realm seeking knowledge and allies to uncover the truth behind her family's legacy.\""
            ],
            "application/vnd.google.colaboratory.intrinsic+json": {
              "type": "string"
            }
          },
          "metadata": {},
          "execution_count": 8
        }
      ]
    },
    {
      "cell_type": "markdown",
      "source": [
        "# Structured Output with Instructor\n",
        "\n",
        "`instructor` is a popular library for structured outputs powered by llms. Designed for simplicity, transparency, and control.\n",
        "\n",
        "It also used pydantic so you'll see it is very similar."
      ],
      "metadata": {
        "id": "tco9fpnSgeuR"
      }
    },
    {
      "cell_type": "code",
      "source": [
        "!pip install instructor --quiet"
      ],
      "metadata": {
        "id": "z6RgS2IEgsC7",
        "colab": {
          "base_uri": "https://localhost:8080/"
        },
        "outputId": "8a028e3c-e361-46d6-e3e5-d6e0a4a4291e"
      },
      "execution_count": null,
      "outputs": [
        {
          "output_type": "stream",
          "name": "stdout",
          "text": [
            "\u001b[?25l   \u001b[90m━━━━━━━━━━━━━━━━━━━━━━━━━━━━━━━━━━━━━━━━\u001b[0m \u001b[32m0.0/71.4 kB\u001b[0m \u001b[31m?\u001b[0m eta \u001b[36m-:--:--\u001b[0m\r\u001b[2K   \u001b[90m━━━━━━━━━━━━━━━━━━━━━━━━━━━━━━━━━━━━━━━━\u001b[0m \u001b[32m71.4/71.4 kB\u001b[0m \u001b[31m2.1 MB/s\u001b[0m eta \u001b[36m0:00:00\u001b[0m\n",
            "\u001b[?25h"
          ]
        }
      ]
    },
    {
      "cell_type": "code",
      "source": [
        "import instructor\n",
        "\n",
        "# Patch the OpenAI client\n",
        "client = instructor.from_openai(\n",
        "    OpenAI(\n",
        "        api_key=userdata.get('OPENAI_API_KEY')\n",
        "        )\n",
        "    )\n",
        "\n",
        "# Generate structured data from natural language\n",
        "character = client.chat.completions.create(\n",
        "    model=\"gpt-4o-mini\",\n",
        "    response_model=Character,\n",
        "    messages=[\n",
        "        {\n",
        "            \"role\": \"system\",\n",
        "            \"content\": \"You are a helpful table-top RPG gamemaster assistant.\"},\n",
        "        {\n",
        "            \"role\": \"user\",\n",
        "            \"content\": \"Generate a Warrior character for a low-fantasy RPG campaign. Be creative\"},\n",
        "    ],\n",
        "    temperature=1.5\n",
        ")"
      ],
      "metadata": {
        "id": "SVOzsPALgzyJ"
      },
      "execution_count": null,
      "outputs": []
    },
    {
      "cell_type": "code",
      "source": [
        "character.name"
      ],
      "metadata": {
        "colab": {
          "base_uri": "https://localhost:8080/",
          "height": 36
        },
        "id": "wz1eLKq6hNVf",
        "outputId": "7a1b781c-e375-4abd-8ed9-9bfe7ced4772"
      },
      "execution_count": null,
      "outputs": [
        {
          "output_type": "execute_result",
          "data": {
            "text/plain": [
              "'Ragnar Boldblade'"
            ],
            "application/vnd.google.colaboratory.intrinsic+json": {
              "type": "string"
            }
          },
          "metadata": {},
          "execution_count": 11
        }
      ]
    },
    {
      "cell_type": "code",
      "source": [
        "character.age"
      ],
      "metadata": {
        "colab": {
          "base_uri": "https://localhost:8080/"
        },
        "id": "FbCyNSfzhP7o",
        "outputId": "35bc6ac1-30dc-458c-f3a1-b40b69f99314"
      },
      "execution_count": null,
      "outputs": [
        {
          "output_type": "execute_result",
          "data": {
            "text/plain": [
              "30"
            ]
          },
          "metadata": {},
          "execution_count": 12
        }
      ]
    },
    {
      "cell_type": "code",
      "source": [
        "character.city"
      ],
      "metadata": {
        "colab": {
          "base_uri": "https://localhost:8080/",
          "height": 34
        },
        "id": "NroEpUm1hVe3",
        "outputId": "5038d26a-d66d-4e69-decb-a802de5cab92"
      },
      "execution_count": null,
      "outputs": [
        {
          "output_type": "execute_result",
          "data": {
            "text/plain": [
              "<City.torini: 'Torini'>"
            ],
            "application/vnd.google.colaboratory.intrinsic+json": {
              "type": "string"
            }
          },
          "metadata": {},
          "execution_count": 13
        }
      ]
    },
    {
      "cell_type": "code",
      "source": [
        "character.job"
      ],
      "metadata": {
        "colab": {
          "base_uri": "https://localhost:8080/",
          "height": 36
        },
        "id": "QTUPQe13hWpE",
        "outputId": "eaf531e4-0712-4bb0-c19f-39658bb68200"
      },
      "execution_count": null,
      "outputs": [
        {
          "output_type": "execute_result",
          "data": {
            "text/plain": [
              "'Warrior'"
            ],
            "application/vnd.google.colaboratory.intrinsic+json": {
              "type": "string"
            }
          },
          "metadata": {},
          "execution_count": 14
        }
      ]
    },
    {
      "cell_type": "code",
      "source": [
        "character.two_sentences_background_story"
      ],
      "metadata": {
        "colab": {
          "base_uri": "https://localhost:8080/",
          "height": 53
        },
        "id": "9U0yunDJhgsG",
        "outputId": "7018a1c8-cd74-4b0b-a294-c4d03ca6b187"
      },
      "execution_count": null,
      "outputs": [
        {
          "output_type": "execute_result",
          "data": {
            "text/plain": [
              "\"Once a blacksmith's apprentice in Torini, Ragnar discovered his calling on the battlefield after defending his village against a band of marauders. Now, he wanders the land seeking to prove his strength and protect the innocent, wielding his masterfully crafted sword with fearless precision.\""
            ],
            "application/vnd.google.colaboratory.intrinsic+json": {
              "type": "string"
            }
          },
          "metadata": {},
          "execution_count": 17
        }
      ]
    },
    {
      "cell_type": "markdown",
      "source": [
        "Learn more about instructor here: https://python.useinstructor.com/"
      ],
      "metadata": {
        "id": "qP5cWLNn8zm_"
      }
    }
  ]
}